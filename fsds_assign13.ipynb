{
  "nbformat": 4,
  "nbformat_minor": 0,
  "metadata": {
    "colab": {
      "provenance": []
    },
    "kernelspec": {
      "name": "python3",
      "display_name": "Python 3"
    },
    "language_info": {
      "name": "python"
    }
  },
  "cells": [
    {
      "cell_type": "code",
      "execution_count": null,
      "metadata": {
        "id": "9_KFsJLtD8zP"
      },
      "outputs": [],
      "source": []
    },
    {
      "cell_type": "markdown",
      "source": [
        "## 1. What advantages do Excel spreadsheets have over CSV spreadsheets?\n",
        "\n",
        "### Answer:\n",
        "Excel spreadsheets have several advantages over CSV spreadsheets, including:\n",
        "- **Formatting:** Excel supports rich formatting options for cells, including fonts, colors, and formulas.\n",
        "- **Multiple Sheets:** Excel files can have multiple sheets, allowing for complex data organization.\n",
        "- **Formulas:** Excel supports formulas for calculations within cells.\n",
        "\n",
        "## 2. What do you pass to `csv.reader()` and `csv.writer()` to create reader and writer objects?\n",
        "\n",
        "### Answer:\n",
        "You pass a `File` object to `csv.reader()` and `csv.writer()` to create reader and writer objects. For example:\n",
        "```python\n",
        "import csv\n",
        "\n",
        "with open('example.csv', 'r') as file:\n",
        "    reader_object = csv.reader(file)\n",
        "\n",
        "with open('example.csv', 'w', newline='') as file:\n",
        "    writer_object = csv.writer(file)\n",
        "```\n",
        "\n",
        "## 3. What modes do `File` objects for reader and writer objects need to be opened in?\n",
        "\n",
        "### Answer:\n",
        "- For `csv.reader()`, the `File` object needs to be opened in text mode (`'rt'` or `'r'`).\n",
        "- For `csv.writer()`, the `File` object needs to be opened in text mode (`'wt'` or `'w'`).\n",
        "\n",
        "## 4. What method takes a list argument and writes it to a CSV file?\n",
        "\n",
        "### Answer:\n",
        "The `writerow()` method is used to write a list argument to a CSV file. For example:\n",
        "```python\n",
        "writer.writerow(['Name', 'Age', 'City'])\n",
        "```\n",
        "\n",
        "## 5. What do the keyword arguments `delimiter` and `line terminator` do?\n",
        "\n",
        "### Answer:\n",
        "- `delimiter`: Specifies the character used to separate fields in a CSV file. The default is a comma (`,`).\n",
        "- `lineterminator`: Specifies the character used to terminate lines in a CSV file. The default is the newline character (`'\\n'`).\n",
        "\n",
        "## 6. What function takes a string of JSON data and returns a Python data structure?\n",
        "\n",
        "### Answer:\n",
        "The `json.loads()` function takes a string of JSON data and returns a Python data structure (usually a dictionary or a list).\n",
        "\n",
        "## 7. What function takes a Python data structure and returns a string of JSON data?\n",
        "\n",
        "### Answer:\n",
        "The `json.dumps()` function takes a Python data structure (such as a dictionary or a list) and returns a string of JSON data."
      ],
      "metadata": {
        "id": "MWckqkPLD_Kz"
      }
    },
    {
      "cell_type": "code",
      "source": [],
      "metadata": {
        "id": "FHUiIggXEKxI"
      },
      "execution_count": null,
      "outputs": []
    }
  ]
}