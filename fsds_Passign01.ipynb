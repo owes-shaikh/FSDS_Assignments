{
  "nbformat": 4,
  "nbformat_minor": 0,
  "metadata": {
    "colab": {
      "provenance": []
    },
    "kernelspec": {
      "name": "python3",
      "display_name": "Python 3"
    },
    "language_info": {
      "name": "python"
    }
  },
  "cells": [
    {
      "cell_type": "markdown",
      "source": [
        "## 1. Write a Python program to print &quot;Hello Python&quot;?\n"
      ],
      "metadata": {
        "id": "FmIeKkkbpTiY"
      }
    },
    {
      "cell_type": "code",
      "source": [
        "print(\"Hello Python\")"
      ],
      "metadata": {
        "colab": {
          "base_uri": "https://localhost:8080/"
        },
        "id": "OZK35GFeqdDG",
        "outputId": "76ff8866-f43f-46bc-b7c2-7488c06bd946"
      },
      "execution_count": 1,
      "outputs": [
        {
          "output_type": "stream",
          "name": "stdout",
          "text": [
            "Hello Python\n"
          ]
        }
      ]
    },
    {
      "cell_type": "markdown",
      "source": [
        "## 2. Write a Python program to do arithmetical operations addition and division.?\n"
      ],
      "metadata": {
        "id": "Z1zbp1bJqQtJ"
      }
    },
    {
      "cell_type": "code",
      "source": [
        "def add(a,b):\n",
        "  sum  = int(a) + int(b)\n",
        "  return sum\n",
        "\n",
        "def div(a,b):\n",
        "  div = int(a) / int(b)\n",
        "  return div\n",
        "\n",
        "summation = add(2,3)\n",
        "division = div(10,2)\n",
        "print(summation)\n",
        "print(division)"
      ],
      "metadata": {
        "colab": {
          "base_uri": "https://localhost:8080/"
        },
        "id": "EsgQSLu3qpFK",
        "outputId": "eba26b08-3858-43a0-9540-7fc2313dbcfc"
      },
      "execution_count": 2,
      "outputs": [
        {
          "output_type": "stream",
          "name": "stdout",
          "text": [
            "5\n",
            "5.0\n"
          ]
        }
      ]
    },
    {
      "cell_type": "markdown",
      "source": [
        "## 3. Write a Python program to find the area of a triangle?\n"
      ],
      "metadata": {
        "id": "pe5iwsFAqfFf"
      }
    },
    {
      "cell_type": "code",
      "source": [
        "def area_triangle(l,b,h):\n",
        "  area = l*b*h\n",
        "  return area\n",
        "\n",
        "l = int(input(\"Lenght :\"))\n",
        "b = int(input(\"Breath :\"))\n",
        "h = int(input(\"Height :\"))\n",
        "\n",
        "result = area_triangle(l,b,h)\n",
        "print(f\"The area of the triangle is : {result}\")"
      ],
      "metadata": {
        "colab": {
          "base_uri": "https://localhost:8080/"
        },
        "id": "G6Hbero1qp3j",
        "outputId": "c9e770a8-6063-4acf-982d-a3915975b108"
      },
      "execution_count": 4,
      "outputs": [
        {
          "output_type": "stream",
          "name": "stdout",
          "text": [
            "Lenght :4\n",
            "Breath :5\n",
            "Height :3\n",
            "The area of the triangle is : 60\n"
          ]
        }
      ]
    },
    {
      "cell_type": "markdown",
      "source": [
        "## 4. Write a Python program to swap two variables?\n"
      ],
      "metadata": {
        "id": "PMkeTGvuqiBI"
      }
    },
    {
      "cell_type": "code",
      "source": [
        "def swap(var1,var2):\n",
        "  var1,var2 = var2,var1\n",
        "  return var1,var2\n",
        "\n",
        "result  = swap(2,4)\n",
        "print(result)\n",
        "\n",
        "def swap_variable(var1,var2):\n",
        "  temp  = var1\n",
        "  var1 = var2\n",
        "  var2 = temp\n",
        "\n",
        "  return var1, var2\n",
        "\n",
        "if __name__ == \"__main__\":\n",
        "  x = 1\n",
        "  y = 9\n",
        "\n",
        "  print(f\"Before Swapping x = {x}, y = {y}\")\n",
        "\n",
        "  x, y = swap_variable(x,y)\n",
        "\n",
        "  print(f\"After Swapping x = {x}, y = {y}\")\n",
        "\n"
      ],
      "metadata": {
        "colab": {
          "base_uri": "https://localhost:8080/"
        },
        "id": "OK-_4PgCqqtw",
        "outputId": "5a457036-b80b-4352-89a8-fb034dc4b0ee"
      },
      "execution_count": 12,
      "outputs": [
        {
          "output_type": "stream",
          "name": "stdout",
          "text": [
            "(4, 2)\n",
            "Before Swapping x = 1, y = 9\n",
            "After Swapping x = 9, y = 1\n"
          ]
        }
      ]
    },
    {
      "cell_type": "markdown",
      "source": [
        "## 5. Write a Python program to generate a random number?"
      ],
      "metadata": {
        "id": "0zGB-iKMqmNa"
      }
    },
    {
      "cell_type": "code",
      "execution_count": 10,
      "metadata": {
        "id": "SojLk5NUi3Y7",
        "colab": {
          "base_uri": "https://localhost:8080/"
        },
        "outputId": "5cd9a553-f33f-43a2-bd34-a9c9ad56f05f"
      },
      "outputs": [
        {
          "output_type": "stream",
          "name": "stdout",
          "text": [
            "Enter the starting number :5\n",
            "Enter the ending number : 7\n",
            "Any random number in range 5-7 is : 7 \n"
          ]
        }
      ],
      "source": [
        "import random\n",
        "\n",
        "def get_random(x,z):\n",
        "  num = random.randint(x,z)\n",
        "  return num\n",
        "\n",
        "x = int(input(\"Enter the starting number :\"))\n",
        "z = int(input(\"Enter the ending number : \"))\n",
        "result = get_random(x,z)\n",
        "print(f\"Any random number in range {x}-{z} is : {result} \")"
      ]
    },
    {
      "cell_type": "code",
      "source": [],
      "metadata": {
        "id": "9fsZzZgps89c"
      },
      "execution_count": null,
      "outputs": []
    }
  ]
}