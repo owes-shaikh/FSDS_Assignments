{
  "nbformat": 4,
  "nbformat_minor": 0,
  "metadata": {
    "colab": {
      "provenance": []
    },
    "kernelspec": {
      "name": "python3",
      "display_name": "Python 3"
    },
    "language_info": {
      "name": "python"
    }
  },
  "cells": [
    {
      "cell_type": "code",
      "execution_count": null,
      "metadata": {
        "id": "-UVQFD-Hmjm3"
      },
      "outputs": [],
      "source": []
    },
    {
      "cell_type": "markdown",
      "source": [
        "Certainly! Here are the answers to the new set of questions in a beginner-friendly format for a Jupyter Notebook:\n",
        "\n",
        "## 1. Is the Python Standard Library included with PyInputPlus?\n",
        "\n",
        "### Answer:\n",
        "No, PyInputPlus is a separate third-party library, not part of the Python Standard Library. You need to install it separately using a package manager like `pip`.\n",
        "\n",
        "## 2. Why is PyInputPlus commonly imported with `import pyinputplus as pypi`?\n",
        "\n",
        "### Answer:\n",
        "It is a common convention to use `import pyinputplus as pypi` to make the code more concise. The `as pypi` part allows us to refer to PyInputPlus using the shorter name `pypi` throughout the code.\n",
        "\n",
        "## 3. How do you distinguish between `inputInt()` and `inputFloat()`?\n",
        "\n",
        "### Answer:\n",
        "- `inputInt()` is used to take integer input from the user. It ensures that the entered value is a valid integer.\n",
        "- `inputFloat()` is used to take floating-point input from the user. It ensures that the entered value is a valid float.\n",
        "\n",
        "## 4. Using PyInputPlus, how do you ensure that the user enters a whole number between 0 and 99?\n",
        "\n",
        "### Answer:\n",
        "You can use `pyip.inputInt()` with `min` and `max` arguments to ensure the entered value is a whole number between 0 and 99:\n",
        "```python\n",
        "pyip.inputInt(prompt='Enter a number: ', min=0, max=99)\n",
        "```\n",
        "\n",
        "## 5. What is transferred to the keyword arguments `allowRegexes` and `blockRegexes`?\n",
        "\n",
        "### Answer:\n",
        "- `allowRegexes` is a list of regular expressions. If a user's input matches any of these regular expressions, it is considered valid.\n",
        "- `blockRegexes` is a list of regular expressions. If a user's input matches any of these regular expressions, it is considered invalid.\n",
        "\n",
        "## 6. If a blank input is entered three times, what does `inputStr(limit=3)` do?\n",
        "\n",
        "### Answer:\n",
        "`inputStr(limit=3)` allows the user to enter a string. If they enter a blank input, it will prompt them up to three times, and if they don't enter a non-blank string within those three attempts, it will raise a `TimeoutException`.\n",
        "\n",
        "## 7. If blank input is entered three times, what does `inputStr(limit=3, default='hello')` do?\n",
        "\n",
        "### Answer:\n",
        "`inputStr(limit=3, default='hello')` is similar to the previous question but with a default value. If the user enters a blank input three times, it will return the default value `'hello'`. This helps in providing a fallback value when the user doesn't provide valid input."
      ],
      "metadata": {
        "id": "0MTVZezPm3u5"
      }
    },
    {
      "cell_type": "code",
      "source": [],
      "metadata": {
        "id": "p9tqzbqVm5Ym"
      },
      "execution_count": null,
      "outputs": []
    }
  ]
}