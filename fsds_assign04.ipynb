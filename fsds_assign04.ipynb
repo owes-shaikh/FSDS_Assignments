{
 "cells": [
  {
   "cell_type": "code",
   "execution_count": null,
   "id": "3bd41485-2b2e-427e-b4fc-64bfb9185f62",
   "metadata": {},
   "outputs": [],
   "source": []
  },
  {
   "cell_type": "code",
   "execution_count": 1,
   "id": "51acd83f-fe5f-4558-956c-9c5e351aaf44",
   "metadata": {},
   "outputs": [],
   "source": [
    "# Q1.What exactly is []?"
   ]
  },
  {
   "cell_type": "code",
   "execution_count": null,
   "id": "aa32ed33-06c4-4b82-8010-a18a6f0ac645",
   "metadata": {},
   "outputs": [],
   "source": [
    "# It is an empty list, that is the list has no items"
   ]
  },
  {
   "cell_type": "code",
   "execution_count": null,
   "id": "d3a60e87-5277-4556-9b2c-9c49de7d3d50",
   "metadata": {},
   "outputs": [],
   "source": []
  },
  {
   "cell_type": "code",
   "execution_count": 2,
   "id": "134f710a-7caf-44ee-aaea-e5a15e244992",
   "metadata": {},
   "outputs": [],
   "source": [
    "# Q2.In a list of values stored in a variable called spam, how would you assign the value 'hello'; as the \n",
    "    # third value? (Assume [2, 4, 6, 8, 10] are in spam.)\n",
    "    # Let's pretend the spam includes the list ['a','b','c','d'] for the next three queries."
   ]
  },
  {
   "cell_type": "code",
   "execution_count": 1,
   "id": "e603c7d1-89aa-4dab-bbcc-402fdef17919",
   "metadata": {},
   "outputs": [
    {
     "data": {
      "text/plain": [
       "[2, 4, 'hello', 8, 10]"
      ]
     },
     "execution_count": 1,
     "metadata": {},
     "output_type": "execute_result"
    }
   ],
   "source": [
    "spam = [2,4,6,8,10]\n",
    "spam[2] = 'hello'\n",
    "spam"
   ]
  },
  {
   "cell_type": "code",
   "execution_count": null,
   "id": "730227e4-2a3d-4dd7-aaf2-3c0ec6cff9bb",
   "metadata": {},
   "outputs": [],
   "source": []
  },
  {
   "cell_type": "code",
   "execution_count": 3,
   "id": "49fa9efd-0661-4439-a548-d2ef68c977e8",
   "metadata": {},
   "outputs": [],
   "source": [
    "# Q3.What is the value of spam[int(int('3'* 2) / 11)]?"
   ]
  },
  {
   "cell_type": "code",
   "execution_count": 4,
   "id": "7ecf4b73-3068-47e9-b8ec-1cba7833461b",
   "metadata": {},
   "outputs": [
    {
     "data": {
      "text/plain": [
       "'d'"
      ]
     },
     "execution_count": 4,
     "metadata": {},
     "output_type": "execute_result"
    }
   ],
   "source": [
    "spam = ['a','b','c','d']\n",
    "spam[int(int('3'* 2) / 11)]\n"
   ]
  },
  {
   "cell_type": "code",
   "execution_count": 4,
   "id": "11ea95b4-3ae1-43ac-a2bd-88135efe261d",
   "metadata": {},
   "outputs": [],
   "source": [
    "# Q4.What is the value of spam[-1]?"
   ]
  },
  {
   "cell_type": "code",
   "execution_count": 5,
   "id": "9e97478d-45d7-480b-b336-f8ab92720ce8",
   "metadata": {},
   "outputs": [
    {
     "data": {
      "text/plain": [
       "'d'"
      ]
     },
     "execution_count": 5,
     "metadata": {},
     "output_type": "execute_result"
    }
   ],
   "source": [
    "spam[-1]"
   ]
  },
  {
   "cell_type": "code",
   "execution_count": null,
   "id": "007ef1b3-01e2-43d4-92a9-303afe302151",
   "metadata": {},
   "outputs": [],
   "source": [
    "# Q5.What is the value of spam[:2]?\n",
    "# Let's pretend bacon has the list [3.14, 'cat', 11, 'cat', True] for the next three questions."
   ]
  },
  {
   "cell_type": "code",
   "execution_count": 6,
   "id": "aea9fe4d-df8f-47d9-8e34-b5e06823f221",
   "metadata": {},
   "outputs": [
    {
     "data": {
      "text/plain": [
       "['a', 'b']"
      ]
     },
     "execution_count": 6,
     "metadata": {},
     "output_type": "execute_result"
    }
   ],
   "source": [
    "spam[:2]"
   ]
  },
  {
   "cell_type": "code",
   "execution_count": null,
   "id": "5afac7f0-ad86-410f-8c92-d281fe30ef15",
   "metadata": {},
   "outputs": [],
   "source": []
  },
  {
   "cell_type": "code",
   "execution_count": null,
   "id": "bd110007-42d7-4cd6-b0c9-1723b285486b",
   "metadata": {},
   "outputs": [],
   "source": [
    "# Q6.What is the value of bacon.index('cat')?"
   ]
  },
  {
   "cell_type": "code",
   "execution_count": 7,
   "id": "96194412-b8c3-4fcb-9f2c-bf03bfae768d",
   "metadata": {},
   "outputs": [
    {
     "data": {
      "text/plain": [
       "1"
      ]
     },
     "execution_count": 7,
     "metadata": {},
     "output_type": "execute_result"
    }
   ],
   "source": [
    "bacon = [3.14,'cat',11,'cat',True]\n",
    "bacon.index('cat')"
   ]
  },
  {
   "cell_type": "code",
   "execution_count": null,
   "id": "669a83e6-eb29-41f9-a401-ad21263d29c8",
   "metadata": {},
   "outputs": [],
   "source": [
    "# Q7.How does bacon.append(99) change the look of the list value in bacon?"
   ]
  },
  {
   "cell_type": "code",
   "execution_count": 9,
   "id": "a26256d5-53c9-46f6-9362-3f189c0a3cdd",
   "metadata": {},
   "outputs": [
    {
     "data": {
      "text/plain": [
       "[3.14, 'cat', 11, 'cat', True, 99, 99]"
      ]
     },
     "execution_count": 9,
     "metadata": {},
     "output_type": "execute_result"
    }
   ],
   "source": [
    "bacon.append(99)\n",
    "bacon"
   ]
  },
  {
   "cell_type": "code",
   "execution_count": null,
   "id": "f0ec2200-20c3-422d-8626-00d764fec36b",
   "metadata": {},
   "outputs": [],
   "source": [
    "# Q8.How does bacon.remove('cat') change the look of the list in bacon?"
   ]
  },
  {
   "cell_type": "code",
   "execution_count": 10,
   "id": "890bf542-f127-42c5-b8f1-a74ce33f7d74",
   "metadata": {},
   "outputs": [
    {
     "data": {
      "text/plain": [
       "[3.14, 11, 'cat', True, 99, 99]"
      ]
     },
     "execution_count": 10,
     "metadata": {},
     "output_type": "execute_result"
    }
   ],
   "source": [
    "bacon.remove('cat')\n",
    "bacon"
   ]
  },
  {
   "cell_type": "code",
   "execution_count": null,
   "id": "4398707b-8b09-4130-85de-72a9cfa19588",
   "metadata": {},
   "outputs": [],
   "source": []
  },
  {
   "cell_type": "code",
   "execution_count": null,
   "id": "ecc6f403-1f61-41d6-91bd-42e46cbda646",
   "metadata": {},
   "outputs": [],
   "source": [
    "# Q9.What are the list concatenation and list replication operators?"
   ]
  },
  {
   "cell_type": "code",
   "execution_count": 11,
   "id": "421a89cd-783f-4fd4-9b42-77cf826c4519",
   "metadata": {},
   "outputs": [],
   "source": [
    "# ' + ' operator is use to concatenate and ' * ' operator is use to replicate the List"
   ]
  },
  {
   "cell_type": "code",
   "execution_count": null,
   "id": "f93f5af5-7556-4684-be7b-02746363731f",
   "metadata": {},
   "outputs": [],
   "source": []
  },
  {
   "cell_type": "code",
   "execution_count": null,
   "id": "2ba6ae0f-3b95-44c9-885a-fd4dde3ff72d",
   "metadata": {},
   "outputs": [],
   "source": [
    "# Q10.What is difference between the list methods append() and insert()?"
   ]
  },
  {
   "cell_type": "code",
   "execution_count": null,
   "id": "7a3e5d14-94fc-413f-b908-1bb6be20b926",
   "metadata": {},
   "outputs": [],
   "source": [
    "# The append() adds the value at the end of the list, \n",
    "# while insert() can add the value anywhere into the list "
   ]
  },
  {
   "cell_type": "code",
   "execution_count": null,
   "id": "395337cb-18a1-4214-a55c-eb314c2ccee9",
   "metadata": {},
   "outputs": [],
   "source": []
  },
  {
   "cell_type": "code",
   "execution_count": null,
   "id": "1f95e640-52ca-4278-b7af-44c7bd22ddee",
   "metadata": {},
   "outputs": [],
   "source": [
    "# Q11.What are the two methods for removing items from a list?"
   ]
  },
  {
   "cell_type": "code",
   "execution_count": null,
   "id": "0d56cfd9-37a4-4b0b-894e-7ea1e9817a81",
   "metadata": {},
   "outputs": [],
   "source": [
    "# del and remove()"
   ]
  },
  {
   "cell_type": "code",
   "execution_count": null,
   "id": "7b972e93-d112-4205-8569-77e18aad1a97",
   "metadata": {},
   "outputs": [],
   "source": []
  },
  {
   "cell_type": "code",
   "execution_count": null,
   "id": "9b4e32cf-6d85-45db-86d7-4df8217b5b08",
   "metadata": {},
   "outputs": [],
   "source": [
    "# Q12.Describe how list values and string values are identical."
   ]
  },
  {
   "cell_type": "code",
   "execution_count": null,
   "id": "5d122f99-e4e8-472c-94f3-281bb8b04630",
   "metadata": {},
   "outputs": [],
   "source": [
    "# Both lists and strings can be passed to len(), have indexes and slices, \n",
    "# be used in for loops, be concatenated or replicated, and be used with the in and not in operators."
   ]
  },
  {
   "cell_type": "code",
   "execution_count": null,
   "id": "c244b131-0086-43d8-96c8-72e6f4ba38eb",
   "metadata": {},
   "outputs": [],
   "source": []
  },
  {
   "cell_type": "code",
   "execution_count": null,
   "id": "01ad5d3b-dcc0-45c9-bd58-2f5e65f07c2b",
   "metadata": {},
   "outputs": [],
   "source": [
    "# Q13.What's the difference between tuples and lists?"
   ]
  },
  {
   "cell_type": "code",
   "execution_count": 12,
   "id": "117dde87-07e9-47e3-89a7-cef07e71a9cf",
   "metadata": {},
   "outputs": [],
   "source": [
    "# lists are mutable and tuples are immutable"
   ]
  },
  {
   "cell_type": "code",
   "execution_count": null,
   "id": "1237f000-3d93-4ea9-9e01-dfb485149a98",
   "metadata": {},
   "outputs": [],
   "source": []
  },
  {
   "cell_type": "code",
   "execution_count": null,
   "id": "162e17dc-b4ae-43ea-b2e0-0a8b83d496f0",
   "metadata": {},
   "outputs": [],
   "source": [
    "# Q14.How do you type a tuple value that only contains the integer 42?"
   ]
  },
  {
   "cell_type": "code",
   "execution_count": 15,
   "id": "a646858e-5f70-41e6-a6cf-fbdf8bc7adab",
   "metadata": {},
   "outputs": [
    {
     "data": {
      "text/plain": [
       "42"
      ]
     },
     "execution_count": 15,
     "metadata": {},
     "output_type": "execute_result"
    }
   ],
   "source": [
    "(42)"
   ]
  },
  {
   "cell_type": "code",
   "execution_count": null,
   "id": "f71b0759-ca2c-4c97-89a0-55f6a1529772",
   "metadata": {},
   "outputs": [],
   "source": []
  },
  {
   "cell_type": "code",
   "execution_count": null,
   "id": "d3eefa2e-02c4-4da6-8c5b-3baef61bfeb2",
   "metadata": {},
   "outputs": [],
   "source": [
    "# Q15.How do you get a list value's tuple form? How do you get a tuple value's list form?"
   ]
  },
  {
   "cell_type": "code",
   "execution_count": 16,
   "id": "f51ca3d2-c7d1-4157-bdf7-a87786effc3f",
   "metadata": {},
   "outputs": [
    {
     "name": "stdout",
     "output_type": "stream",
     "text": [
      "(1, 2, 3)\n",
      "<class 'tuple'>\n"
     ]
    }
   ],
   "source": [
    "l = [1,2,3]\n",
    "\n",
    "t = tuple(l)\n",
    "print(t)\n",
    "print(type(t))"
   ]
  },
  {
   "cell_type": "code",
   "execution_count": 22,
   "id": "47876089-3b02-4eac-9336-92d5d366a5dd",
   "metadata": {},
   "outputs": [
    {
     "name": "stdout",
     "output_type": "stream",
     "text": [
      "list[4, 5, 6]\n"
     ]
    }
   ],
   "source": [
    "t1 = (4,5,6,)\n",
    "\n",
    "l2 = list [t1]\n",
    "print(l2)"
   ]
  },
  {
   "cell_type": "code",
   "execution_count": null,
   "id": "2da7985a-9c51-44ff-aeb7-21d4860fa477",
   "metadata": {},
   "outputs": [],
   "source": [
    "# Q16.Variables that \"contain\" list values are not necessarily lists themselves. Instead, \n",
    "# what do they contain?"
   ]
  },
  {
   "cell_type": "code",
   "execution_count": null,
   "id": "c2d4d833-8e53-4a44-8fc5-4bda528d24e1",
   "metadata": {},
   "outputs": [],
   "source": [
    "# They contain references to list values."
   ]
  },
  {
   "cell_type": "code",
   "execution_count": null,
   "id": "aa8566a9-9d3a-4762-9649-db7583d2ad55",
   "metadata": {},
   "outputs": [],
   "source": []
  },
  {
   "cell_type": "code",
   "execution_count": null,
   "id": "492e8edb-133a-438b-bb52-619f87985a0b",
   "metadata": {},
   "outputs": [],
   "source": [
    "# Q17.How do you distinguish between copy.copy() and copy.deepcopy()?"
   ]
  },
  {
   "cell_type": "code",
   "execution_count": null,
   "id": "de461b43-140f-4c27-8166-1ccf415b7129",
   "metadata": {},
   "outputs": [],
   "source": [
    "# The copy.copy() is a function that will do a shallow copy of a list, while the copy.deepcopy() function \n",
    "#  will do a deep copy of a list."
   ]
  }
 ],
 "metadata": {
  "kernelspec": {
   "display_name": "Python 3 (ipykernel)",
   "language": "python",
   "name": "python3"
  },
  "language_info": {
   "codemirror_mode": {
    "name": "ipython",
    "version": 3
   },
   "file_extension": ".py",
   "mimetype": "text/x-python",
   "name": "python",
   "nbconvert_exporter": "python",
   "pygments_lexer": "ipython3",
   "version": "3.10.6"
  }
 },
 "nbformat": 4,
 "nbformat_minor": 5
}
