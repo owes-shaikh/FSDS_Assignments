{
 "cells": [
  {
   "cell_type": "code",
   "execution_count": null,
   "id": "4332c6f5-a94f-405d-95c1-1464e6f208e5",
   "metadata": {},
   "outputs": [],
   "source": []
  },
  {
   "cell_type": "code",
   "execution_count": 1,
   "id": "a0933eb5-d9b6-435f-b16e-45e60b6f9f16",
   "metadata": {},
   "outputs": [],
   "source": [
    "# Q1.What are escape characters, and how do you use them?"
   ]
  },
  {
   "cell_type": "code",
   "execution_count": 9,
   "id": "b91ee245-899b-4b4a-80a3-b3f6bde102d6",
   "metadata": {},
   "outputs": [
    {
     "ename": "SyntaxError",
     "evalue": "invalid syntax (4137257473.py, line 2)",
     "output_type": "error",
     "traceback": [
      "\u001b[0;36m  Cell \u001b[0;32mIn [9], line 2\u001b[0;36m\u001b[0m\n\u001b[0;31m    txt = \"We are the so-called \"Vikings\" from the north.\"\u001b[0m\n\u001b[0m                                 ^\u001b[0m\n\u001b[0;31mSyntaxError\u001b[0m\u001b[0;31m:\u001b[0m invalid syntax\n"
     ]
    }
   ],
   "source": [
    "# The escape character allows you to use double quotes when you normally would not be allowed:\n",
    "txt = \"We are the so-called \"Vikings\" from the north.\""
   ]
  },
  {
   "cell_type": "code",
   "execution_count": 11,
   "id": "11e35052-76d4-4f27-b1ec-c9ad26d2a910",
   "metadata": {},
   "outputs": [
    {
     "name": "stdout",
     "output_type": "stream",
     "text": [
      "We are the so-called \"Vikings\" from the north.\n"
     ]
    }
   ],
   "source": [
    "txt = \"We are the so-called \\\"Vikings\\\" from the north.\"\n",
    "print(txt)"
   ]
  },
  {
   "cell_type": "code",
   "execution_count": 2,
   "id": "d13c1c05-54f8-4114-85b2-a4882a517ef0",
   "metadata": {
    "tags": []
   },
   "outputs": [],
   "source": [
    "# Q2.What do the escape characters n and t stand for?"
   ]
  },
  {
   "cell_type": "code",
   "execution_count": null,
   "id": "304d8b29-4faa-4479-ba39-2d254ed415c3",
   "metadata": {},
   "outputs": [],
   "source": [
    "# \\n line stands for next line and \\t stands for tab space"
   ]
  },
  {
   "cell_type": "code",
   "execution_count": null,
   "id": "dcc02158-3cb6-48fd-80d0-ef37353efd58",
   "metadata": {},
   "outputs": [],
   "source": []
  },
  {
   "cell_type": "code",
   "execution_count": 3,
   "id": "891e61f3-5b7e-400e-8411-27a97eae8c37",
   "metadata": {},
   "outputs": [],
   "source": [
    "# Q3.What is the way to include backslash characters in a string?"
   ]
  },
  {
   "cell_type": "code",
   "execution_count": 12,
   "id": "d63974d2-1cde-4651-bced-3ef3a3208c07",
   "metadata": {},
   "outputs": [
    {
     "name": "stdout",
     "output_type": "stream",
     "text": [
      "This will insert one \\ (backslash).\n"
     ]
    }
   ],
   "source": [
    "txt = \"This will insert one \\\\ (backslash).\"\n",
    "print(txt) "
   ]
  },
  {
   "cell_type": "code",
   "execution_count": null,
   "id": "ec955f9d-f030-48ec-aff5-64683b268f03",
   "metadata": {},
   "outputs": [],
   "source": []
  },
  {
   "cell_type": "code",
   "execution_count": 4,
   "id": "06de6d67-aa27-4c35-926f-88b5d13523ce",
   "metadata": {},
   "outputs": [],
   "source": [
    "# Q4.The string \"Howl's Moving Castle\" is a correct value. Why isn't the single quote character in the\n",
    "#    word Howl's not escaped a problem?"
   ]
  },
  {
   "cell_type": "code",
   "execution_count": null,
   "id": "8165f7aa-c0b7-455a-ad24-e201956aea1f",
   "metadata": {},
   "outputs": [],
   "source": [
    "# The single quote in Howl's is fine because we have used double quotes to mark the beginning and \n",
    "#  end of the string."
   ]
  },
  {
   "cell_type": "code",
   "execution_count": null,
   "id": "a7f8449c-4248-43f5-9577-083c8de1a534",
   "metadata": {},
   "outputs": [],
   "source": []
  },
  {
   "cell_type": "code",
   "execution_count": null,
   "id": "d78ad33b-3cd8-4ee3-b3f8-a2dac04faf42",
   "metadata": {},
   "outputs": [],
   "source": [
    "# Q5.How do you write a string of newlines if you don't want to use the n character?"
   ]
  },
  {
   "cell_type": "code",
   "execution_count": null,
   "id": "b56f45fa-5b89-472b-85de-1c5e1e2478a6",
   "metadata": {},
   "outputs": [],
   "source": [
    "# we can break the string into multiline strings to print in the next line\n",
    "# without using n character"
   ]
  },
  {
   "cell_type": "code",
   "execution_count": null,
   "id": "2f9a39fa-f21a-43b1-8325-85e9f549c05e",
   "metadata": {},
   "outputs": [],
   "source": []
  },
  {
   "cell_type": "code",
   "execution_count": 6,
   "id": "613f3377-0efa-47b0-bb8e-e02f35114163",
   "metadata": {},
   "outputs": [
    {
     "data": {
      "text/plain": [
       "'e'"
      ]
     },
     "execution_count": 6,
     "metadata": {},
     "output_type": "execute_result"
    }
   ],
   "source": [
    "# Q6.What are the values of the given expressions?\n",
    "'Hello, world!'[1]"
   ]
  },
  {
   "cell_type": "code",
   "execution_count": null,
   "id": "a3989d59-473a-494c-9a94-bb8bb597ef75",
   "metadata": {},
   "outputs": [
    {
     "data": {
      "text/plain": [
       "'Hello'"
      ]
     },
     "execution_count": 3,
     "metadata": {},
     "output_type": "execute_result"
    }
   ],
   "source": [
    "'Hello, world!'[0:5]"
   ]
  },
  {
   "cell_type": "code",
   "execution_count": 4,
   "id": "4c9a4b60-ddd9-4ded-9a89-f03fb243fd04",
   "metadata": {},
   "outputs": [
    {
     "data": {
      "text/plain": [
       "'Hello'"
      ]
     },
     "execution_count": 4,
     "metadata": {},
     "output_type": "execute_result"
    }
   ],
   "source": [
    "'Hello, world!'[:5]"
   ]
  },
  {
   "cell_type": "code",
   "execution_count": 5,
   "id": "565e7d7c-12ba-469b-ab8f-433f0f0c62ad",
   "metadata": {},
   "outputs": [
    {
     "data": {
      "text/plain": [
       "'lo, world!'"
      ]
     },
     "execution_count": 5,
     "metadata": {},
     "output_type": "execute_result"
    }
   ],
   "source": [
    "'Hello, world!'[3:]"
   ]
  },
  {
   "cell_type": "code",
   "execution_count": 8,
   "id": "49483353-618b-44d5-bcbf-c74845888237",
   "metadata": {},
   "outputs": [
    {
     "name": "stdout",
     "output_type": "stream",
     "text": [
      "HELLO\n",
      "True\n",
      "hello\n"
     ]
    }
   ],
   "source": [
    "# Q7.What are the values of the following expressions?\n",
    "print('Hello'.upper())\n",
    "print('Hello'.upper().isupper())\n",
    "print('Hello'.upper().lower())"
   ]
  },
  {
   "cell_type": "code",
   "execution_count": 13,
   "id": "23d231c5-63ba-4ea3-88c1-14c18bfc23f5",
   "metadata": {},
   "outputs": [
    {
     "data": {
      "text/plain": [
       "'There-can-only-one.'"
      ]
     },
     "execution_count": 13,
     "metadata": {},
     "output_type": "execute_result"
    }
   ],
   "source": [
    "# Q8.What are the values of the following expressions?\n",
    "'Remember, remember, the fifth of July.'.split()\n",
    "'-'.join('There can only one.'.split())"
   ]
  },
  {
   "cell_type": "code",
   "execution_count": null,
   "id": "bdcbcebf-3fa4-4977-8bd1-27a839be4c7e",
   "metadata": {},
   "outputs": [],
   "source": [
    "# Q9.What are the methods for right-justifying, left-justifying, and centering a string?"
   ]
  },
  {
   "cell_type": "code",
   "execution_count": null,
   "id": "1dde4a9b-86e5-425f-b408-cba36d549f79",
   "metadata": {},
   "outputs": [],
   "source": [
    "# The rjust(), ljust(), and center() string methods, respectively are the methods for \n",
    "#  right-justifying, left-justifying, and centering a string"
   ]
  },
  {
   "cell_type": "code",
   "execution_count": null,
   "id": "3579c45c-c451-4215-ab12-7910c0b3b015",
   "metadata": {},
   "outputs": [],
   "source": []
  },
  {
   "cell_type": "code",
   "execution_count": null,
   "id": "deffc648-cb35-4312-bf80-673ae820053d",
   "metadata": {},
   "outputs": [],
   "source": [
    "# Q10.What is the best way to remove whitespace characters from the start or end?"
   ]
  },
  {
   "cell_type": "code",
   "execution_count": null,
   "id": "b60136cb-4921-456f-af05-46d027eaafa0",
   "metadata": {},
   "outputs": [],
   "source": [
    "# The lstrip() and rstrip() methods remove whitespace from the left and right ends of a string, respectively."
   ]
  }
 ],
 "metadata": {
  "kernelspec": {
   "display_name": "Python 3 (ipykernel)",
   "language": "python",
   "name": "python3"
  },
  "language_info": {
   "codemirror_mode": {
    "name": "ipython",
    "version": 3
   },
   "file_extension": ".py",
   "mimetype": "text/x-python",
   "name": "python",
   "nbconvert_exporter": "python",
   "pygments_lexer": "ipython3",
   "version": "3.10.6"
  }
 },
 "nbformat": 4,
 "nbformat_minor": 5
}
