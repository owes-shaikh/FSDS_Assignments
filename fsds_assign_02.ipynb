{
 "cells": [
  {
   "cell_type": "code",
   "execution_count": 1,
   "id": "86a5be7b-008b-44d7-91e2-44f3e41bdc3b",
   "metadata": {},
   "outputs": [],
   "source": [
    "# Q1. 1.What are the two values of the Boolean data type? How do you write them?"
   ]
  },
  {
   "cell_type": "code",
   "execution_count": 2,
   "id": "25c15690-794f-4059-a92b-ec340fc7c60c",
   "metadata": {},
   "outputs": [],
   "source": [
    "# ANS- The Boolean data types has two possible values: True and False, which are the special version of the \n",
    "#      values 0 and 1.\n"
   ]
  },
  {
   "cell_type": "code",
   "execution_count": 3,
   "id": "3b9719ad-ee1f-434b-96ee-153c29a1a561",
   "metadata": {},
   "outputs": [
    {
     "name": "stdout",
     "output_type": "stream",
     "text": [
      "<class 'bool'>\n",
      "<class 'bool'>\n"
     ]
    }
   ],
   "source": [
    "# checking the variable is Boolean\n",
    "\n",
    "a = True\n",
    "print(type(a))\n",
    "\n",
    "b = False\n",
    "print(type(b))\n"
   ]
  },
  {
   "cell_type": "code",
   "execution_count": 4,
   "id": "4e5689af-ff0f-48e5-b090-8858c9a998ee",
   "metadata": {},
   "outputs": [
    {
     "name": "stdout",
     "output_type": "stream",
     "text": [
      "False\n"
     ]
    }
   ],
   "source": [
    "# Example for a Boolean\n",
    "\n",
    "# Declaring variables\n",
    "a = 10\n",
    "b = 20\n",
    "\n",
    "# Comparing variables\n",
    "print(a == b)\n"
   ]
  },
  {
   "cell_type": "code",
   "execution_count": 5,
   "id": "4ccf14a1-6830-4e4e-aeb9-e849be2c3d20",
   "metadata": {},
   "outputs": [],
   "source": [
    "# Q2. What are the three different types of Boolean operators?"
   ]
  },
  {
   "cell_type": "code",
   "execution_count": 6,
   "id": "96ac79f2-118d-4908-bdcf-26046a95bf3b",
   "metadata": {},
   "outputs": [],
   "source": [
    "# Ans- OR_operator, AND_operator, NOT_operator."
   ]
  },
  {
   "cell_type": "code",
   "execution_count": 7,
   "id": "0a56e042-e261-4d51-becd-140fc1ccb154",
   "metadata": {},
   "outputs": [],
   "source": [
    "# Q3. Make a list of each Boolean operator's truth tables (i.e. every possible combination of Boolean\n",
    "#     values for the operator and what it evaluate )."
   ]
  },
  {
   "cell_type": "code",
   "execution_count": 8,
   "id": "2bebc7fe-b7fa-41f2-b180-441fcbf2465a",
   "metadata": {},
   "outputs": [],
   "source": [
    "# Ans - Boolean_Or_operator: The Boolean or operator returns True if any one of the inputs is True else \n",
    "#       returns False.\n",
    "#                    A  \tB   \tA or B\n",
    "#                    True\tTrue\tTrue\n",
    "#                    True\tFalse\tTrue\n",
    "#                    False\tTrue\tTrue\n",
    "#                    False\tFalse\tFalse"
   ]
  },
  {
   "cell_type": "code",
   "execution_count": 9,
   "id": "e6fd57f3-0021-47e6-b3ed-29558c2aadc5",
   "metadata": {},
   "outputs": [],
   "source": [
    "# Ans - Boolean_AND_operator: The Boolean or operator returns False if any one of the inputs is false else \n",
    "#       returns True.\n",
    "#                    A  \t B  \tA and B\n",
    "#                    True\tTrue\tTrue\n",
    "#                    True\tFalse\tFalse\n",
    "#                    False\tTrue\tFalse\n",
    "#                    False\tFalse\tFalse"
   ]
  },
  {
   "cell_type": "code",
   "execution_count": 10,
   "id": "272097b1-0c0a-4972-bcfd-b001267b0c11",
   "metadata": {},
   "outputs": [],
   "source": [
    "# Ans - Boolean_NOT_operator: The Boolean Not operator only require one argument and returns the negation \n",
    "#       of the argument i.e. returns the True for False and False for True.\n",
    "#                    A  \tNot A\n",
    "#                    True\tFalse\n",
    "#                    False\tTrue"
   ]
  },
  {
   "cell_type": "code",
   "execution_count": 11,
   "id": "8c412df2-03e4-4748-a6ce-75959047d2e9",
   "metadata": {},
   "outputs": [],
   "source": [
    "# Q4. 4. What are the values of the following expressions?"
   ]
  },
  {
   "cell_type": "code",
   "execution_count": 12,
   "id": "3ade697d-8502-4647-812b-d707240f2c15",
   "metadata": {},
   "outputs": [
    {
     "data": {
      "text/plain": [
       "False"
      ]
     },
     "execution_count": 12,
     "metadata": {},
     "output_type": "execute_result"
    }
   ],
   "source": [
    "(5>4) and (3 == 5)"
   ]
  },
  {
   "cell_type": "code",
   "execution_count": 13,
   "id": "78ef716e-ac85-4c4b-ab35-de4e6fad6577",
   "metadata": {},
   "outputs": [
    {
     "data": {
      "text/plain": [
       "False"
      ]
     },
     "execution_count": 13,
     "metadata": {},
     "output_type": "execute_result"
    }
   ],
   "source": [
    "not (5>4)"
   ]
  },
  {
   "cell_type": "code",
   "execution_count": 14,
   "id": "879e407b-a9d4-4180-8f94-254b8c42ebb7",
   "metadata": {},
   "outputs": [
    {
     "data": {
      "text/plain": [
       "True"
      ]
     },
     "execution_count": 14,
     "metadata": {},
     "output_type": "execute_result"
    }
   ],
   "source": [
    "(5 > 4) or (3 == 5)"
   ]
  },
  {
   "cell_type": "code",
   "execution_count": 15,
   "id": "a5ae1610-240f-4232-b051-94c79580947f",
   "metadata": {},
   "outputs": [
    {
     "data": {
      "text/plain": [
       "False"
      ]
     },
     "execution_count": 15,
     "metadata": {},
     "output_type": "execute_result"
    }
   ],
   "source": [
    "not((5 > 4) or (3 == 5))"
   ]
  },
  {
   "cell_type": "code",
   "execution_count": 16,
   "id": "54ce0d57-b59c-4247-8b79-d204c4e40d39",
   "metadata": {},
   "outputs": [
    {
     "data": {
      "text/plain": [
       "False"
      ]
     },
     "execution_count": 16,
     "metadata": {},
     "output_type": "execute_result"
    }
   ],
   "source": [
    "(True and True) and (True == False)"
   ]
  },
  {
   "cell_type": "code",
   "execution_count": 17,
   "id": "7818db91-a640-498b-b751-0b9b834838bc",
   "metadata": {},
   "outputs": [
    {
     "data": {
      "text/plain": [
       "True"
      ]
     },
     "execution_count": 17,
     "metadata": {},
     "output_type": "execute_result"
    }
   ],
   "source": [
    "(not False) or (not True)"
   ]
  },
  {
   "cell_type": "code",
   "execution_count": 18,
   "id": "887b8831-79d6-4362-8e44-25e1b7922749",
   "metadata": {},
   "outputs": [],
   "source": [
    "# Q5. What are the six comparison operators?"
   ]
  },
  {
   "cell_type": "code",
   "execution_count": 19,
   "id": "683cd720-8407-4768-9126-9924851c2969",
   "metadata": {},
   "outputs": [],
   "source": [
    "#    > Greater than: True if the left operand is greater than the right  \tx > y\n",
    "\n",
    "#    < Less than: True if the left operand is less than the right\tx < y \n",
    "\n",
    "#    == Equal to: True if both operands are equal\tx == y\n",
    "\n",
    "#    != Not equal to – True if operands are not equal\tx != y\n",
    "\n",
    "#    >= Greater than or equal to: True if left operand is greater than or equal to the right\tx >= y\n",
    "\n",
    "#    <= Less than or equal to: True if left operand is less than or equal to the right\tx <= y"
   ]
  },
  {
   "cell_type": "code",
   "execution_count": 20,
   "id": "f53ab833-b2bd-49cf-8e54-13b0bc631a91",
   "metadata": {},
   "outputs": [],
   "source": [
    "# Q6. How do you tell the difference between the equal to and assignment operators? Describe a\n",
    "#     condition and when you would use one."
   ]
  },
  {
   "cell_type": "code",
   "execution_count": 21,
   "id": "787bc4e5-9646-4116-8c4d-e206d43b763a",
   "metadata": {},
   "outputs": [],
   "source": [
    "# Ans- Both the operator are different as assignment operator assigns a value of variable or an expression, \n",
    "#      while equal to operator is a relational operator used for comparison."
   ]
  },
  {
   "cell_type": "code",
   "execution_count": 22,
   "id": "0f16e9e4-b0db-4e74-b633-d23aeb3d3e2b",
   "metadata": {},
   "outputs": [],
   "source": [
    "# Ans- # The “=” is an assignment operator used to assign the value on the right to the variable on the left. \n",
    "             # a = 10;\n",
    "             # b = 20;\n",
    "\n",
    "       # The ‘==’ operator checks whether the two given operands are equal or not. If so, it returns true. \n",
    "       # Otherwise it returns false. \n"
   ]
  },
  {
   "cell_type": "code",
   "execution_count": 23,
   "id": "2c800f02-22aa-4ae6-b3b9-c72ca1910534",
   "metadata": {},
   "outputs": [
    {
     "data": {
      "text/plain": [
       "True"
      ]
     },
     "execution_count": 23,
     "metadata": {},
     "output_type": "execute_result"
    }
   ],
   "source": [
    "5==5"
   ]
  },
  {
   "cell_type": "code",
   "execution_count": 24,
   "id": "b4eaacca-e355-43b8-ba8c-a542de317f97",
   "metadata": {},
   "outputs": [],
   "source": [
    "# Q7. Identify the three blocks in this code:"
   ]
  },
  {
   "cell_type": "code",
   "execution_count": 25,
   "id": "0f61d24e-9aa9-4cd0-8057-583dcb742f8b",
   "metadata": {},
   "outputs": [
    {
     "name": "stdout",
     "output_type": "stream",
     "text": [
      "ham\n",
      "spam\n",
      "spam\n"
     ]
    }
   ],
   "source": [
    "spam = 0\n",
    "\n",
    "if spam == 10:\n",
    "    print('eggs')\n",
    "\n",
    "if spam > 5:\n",
    "    print('bacon')\n",
    "    \n",
    "else:\n",
    "    print('ham')\n",
    "    print('spam')\n",
    "    print('spam')"
   ]
  },
  {
   "cell_type": "code",
   "execution_count": 26,
   "id": "7d04a826-ebd3-4121-9e23-4a89f5a930d6",
   "metadata": {},
   "outputs": [],
   "source": [
    "# Ans- Here there are 3 blocks in the code in which 2 are of if block and 1 else block, \n",
    "#      that has being excuting according to the value and the condition given. "
   ]
  },
  {
   "cell_type": "code",
   "execution_count": 27,
   "id": "91c0673b-4db6-4927-87d1-b2627c997f90",
   "metadata": {},
   "outputs": [],
   "source": [
    "# Q8. Write code that prints Hello if 1 is stored in spam, prints Howdy if 2 is stored in spam, and prints\n",
    "#     Greetings! if anything else is stored in spam. "
   ]
  },
  {
   "cell_type": "code",
   "execution_count": 28,
   "id": "2a3d8711-3cb4-40d0-baec-5914b39f8d87",
   "metadata": {},
   "outputs": [
    {
     "name": "stdout",
     "output_type": "stream",
     "text": [
      "Greetings\n"
     ]
    }
   ],
   "source": [
    "spam = 0 \n",
    "\n",
    "if spam == 1:\n",
    "    print('Hello')\n",
    "    \n",
    "if spam == 2:\n",
    "    print('Howdy')\n",
    "\n",
    "else:\n",
    "    print('Greetings')"
   ]
  },
  {
   "cell_type": "code",
   "execution_count": 29,
   "id": "69d9b6db-e185-48af-a39a-b882d92f5aac",
   "metadata": {},
   "outputs": [],
   "source": [
    "#  Q9. If your programme is stuck in an endless loop, what keys you’ll press?"
   ]
  },
  {
   "cell_type": "code",
   "execution_count": 30,
   "id": "04455dc7-02cc-4c55-a957-f44e8eb5603a",
   "metadata": {},
   "outputs": [],
   "source": [
    "# Ans - CTRL + C"
   ]
  },
  {
   "cell_type": "code",
   "execution_count": 31,
   "id": "3037906f-757d-429e-9d9a-96e5500acd74",
   "metadata": {},
   "outputs": [],
   "source": [
    "# 10. How can you tell the difference between break and continue?"
   ]
  },
  {
   "cell_type": "code",
   "execution_count": 32,
   "id": "3a72535b-5753-4863-9011-f8cc662f2588",
   "metadata": {},
   "outputs": [
    {
     "name": "stdout",
     "output_type": "stream",
     "text": [
      "0\n",
      "1\n",
      "2\n"
     ]
    }
   ],
   "source": [
    "# Ans- break statement is used to terminate the loop immediately when it is encountered \n",
    "for i in range(5):\n",
    "    if i == 3:\n",
    "        break\n",
    "    print(i)"
   ]
  },
  {
   "cell_type": "code",
   "execution_count": 33,
   "id": "07b4a180-3a21-4f1f-bdec-6470d08f81bb",
   "metadata": {},
   "outputs": [
    {
     "name": "stdout",
     "output_type": "stream",
     "text": [
      "0\n",
      "1\n",
      "2\n",
      "4\n"
     ]
    }
   ],
   "source": [
    "# Ans- The continue statement is used to skip the current iteration of the loop and the control flow of the program goes to the next iteration.\n",
    "for i in range(5):\n",
    "    if i == 3:\n",
    "        continue\n",
    "    print(i)"
   ]
  },
  {
   "cell_type": "code",
   "execution_count": 34,
   "id": "1d2feeee-252a-4914-bd25-ded70ba27b7a",
   "metadata": {},
   "outputs": [],
   "source": [
    "# 11. In a for loop, what is the difference between range(10), range(0, 10), and range(0, 10, 1)?"
   ]
  },
  {
   "cell_type": "code",
   "execution_count": 35,
   "id": "4ecf0eac-a6de-4a0e-81df-fd5e78c865e2",
   "metadata": {},
   "outputs": [],
   "source": [
    "# Ans- Syntax: range(start, stop, step)\n",
    "\n",
    "        # Parameter :\n",
    "\n",
    "        # start: [ optional ] start value of the sequence\n",
    "        # stop: next value after the end value of the sequence\n",
    "        # step: [ optional ] integer value, denoting the difference between any two numbers in the sequence"
   ]
  },
  {
   "cell_type": "code",
   "execution_count": 36,
   "id": "0ca1f8dd-e957-4735-afe8-995f4257950a",
   "metadata": {},
   "outputs": [],
   "source": [
    "# if the range(10):\n",
    "#     we will get a series of numbers starting from 0 till 9 as the 10 is the stoping value for range(10)\n",
    "\n",
    "# if the range(0,10):\n",
    "#     it we will also get a series of numbers starting from 0 till 9 as the 10 is the stoping \n",
    "#     value for range(0,10), but this time we give the initial value to start the range.\n",
    "    \n",
    "# if the range(0,10,1) is given in this manner range (start, stop, step) then it gives the initial value as 0,\n",
    "      # final value as 10(stop), and the number of values to skip "
   ]
  },
  {
   "cell_type": "code",
   "execution_count": 37,
   "id": "2dafe3bd-3627-4800-8f5b-56fcec200fba",
   "metadata": {},
   "outputs": [
    {
     "name": "stdout",
     "output_type": "stream",
     "text": [
      "0 1 2 3 4 5 6 7 8 9 \n"
     ]
    }
   ],
   "source": [
    "# printing first 10\n",
    "# whole number\n",
    "for i in range(10):\n",
    "    print(i, end=\" \")\n",
    "print()\n"
   ]
  },
  {
   "cell_type": "code",
   "execution_count": 38,
   "id": "a74a7eab-498c-425b-bc82-f9170e62aff1",
   "metadata": {},
   "outputs": [
    {
     "name": "stdout",
     "output_type": "stream",
     "text": [
      "0 1 2 3 4 5 6 7 8 9 "
     ]
    }
   ],
   "source": [
    "for i in range(0, 10):\n",
    "    print(i, end=\" \")\n"
   ]
  },
  {
   "cell_type": "code",
   "execution_count": 39,
   "id": "855629c1-dff8-4217-8a66-43be948d24b6",
   "metadata": {},
   "outputs": [
    {
     "name": "stdout",
     "output_type": "stream",
     "text": [
      "0 1 2 3 4 5 6 7 8 9 \n"
     ]
    }
   ],
   "source": [
    "for i in range(0, 10, 1):\n",
    "    print(i, end=\" \")\n",
    "print()\n"
   ]
  },
  {
   "cell_type": "code",
   "execution_count": 40,
   "id": "9b1ade77-648e-461d-9274-03c98e211c41",
   "metadata": {},
   "outputs": [],
   "source": [
    "# 12. Write a short program that prints the numbers 1 to 10 using a for loop. Then write an equivalent\n",
    "# # program that prints the numbers 1 to 10 using a while loop."
   ]
  },
  {
   "cell_type": "code",
   "execution_count": 41,
   "id": "ef3823cc-c55e-4142-9f6b-2b4269fb8bac",
   "metadata": {},
   "outputs": [
    {
     "name": "stdout",
     "output_type": "stream",
     "text": [
      "1 2 3 4 5 6 7 8 9 "
     ]
    }
   ],
   "source": [
    "for i in range(1, 10):\n",
    "    print(i, end=\" \")"
   ]
  },
  {
   "cell_type": "code",
   "execution_count": 46,
   "id": "38506a41-48f5-4a9a-95dc-08693347d999",
   "metadata": {},
   "outputs": [
    {
     "name": "stdout",
     "output_type": "stream",
     "text": [
      "1 2 3 4 5 6 7 8 9 "
     ]
    }
   ],
   "source": [
    "i = 1\n",
    "while i in range(10):\n",
    "    print(i,end=\" \") \n",
    "    i+=1\n"
   ]
  },
  {
   "cell_type": "code",
   "execution_count": 47,
   "id": "4268eba3-82b2-4fa6-99a7-e1c0e7f88e54",
   "metadata": {},
   "outputs": [],
   "source": [
    "# 13. If you had a function named bacon() inside a module named spam, how would you call it after\n",
    "# # importing spam?"
   ]
  },
  {
   "cell_type": "code",
   "execution_count": 49,
   "id": "4cd0abb8-8865-4e5e-a491-e33638929ec2",
   "metadata": {},
   "outputs": [],
   "source": [
    "# we can call it by using spam.bacon()"
   ]
  },
  {
   "cell_type": "code",
   "execution_count": null,
   "id": "4dfac0bd-3f71-47dd-8365-2773a7826618",
   "metadata": {},
   "outputs": [],
   "source": []
  }
 ],
 "metadata": {
  "kernelspec": {
   "display_name": "Python 3 (ipykernel)",
   "language": "python",
   "name": "python3"
  },
  "language_info": {
   "codemirror_mode": {
    "name": "ipython",
    "version": 3
   },
   "file_extension": ".py",
   "mimetype": "text/x-python",
   "name": "python",
   "nbconvert_exporter": "python",
   "pygments_lexer": "ipython3",
   "version": "3.10.6"
  }
 },
 "nbformat": 4,
 "nbformat_minor": 5
}
