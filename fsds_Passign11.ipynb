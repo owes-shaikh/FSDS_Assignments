{
  "nbformat": 4,
  "nbformat_minor": 0,
  "metadata": {
    "colab": {
      "provenance": []
    },
    "kernelspec": {
      "name": "python3",
      "display_name": "Python 3"
    },
    "language_info": {
      "name": "python"
    }
  },
  "cells": [
    {
      "cell_type": "markdown",
      "source": [
        "## 1. Write a Python program to find words which are greater than given length k?\n"
      ],
      "metadata": {
        "id": "hH5zvk-WkzEa"
      }
    },
    {
      "cell_type": "code",
      "source": [
        "def string_k(k,str):\n",
        "\n",
        "  text = str.split(\" \")\n",
        "  string = []\n",
        "  for i in text:\n",
        "    if len(i) > k:\n",
        "      string.append(i)\n",
        "\n",
        "  return string\n",
        "\n",
        "# Driver Program\n",
        "k = 3\n",
        "str = \"geek for geeks\"\n",
        "print(string_k(k, str))"
      ],
      "metadata": {
        "colab": {
          "base_uri": "https://localhost:8080/"
        },
        "id": "tr7TcL5VEkCT",
        "outputId": "e26f86be-5c04-4a12-ef60-0e8a5be9ffee"
      },
      "execution_count": null,
      "outputs": [
        {
          "output_type": "stream",
          "name": "stdout",
          "text": [
            "['geek', 'geeks']\n"
          ]
        }
      ]
    },
    {
      "cell_type": "markdown",
      "source": [
        "## 2. Write a Python program for removing i-th character from a string?\n"
      ],
      "metadata": {
        "id": "Lddb4CTbEQ8t"
      }
    },
    {
      "cell_type": "code",
      "source": [
        "def string_i(i,str):\n",
        "  text = str.split(\" \")\n",
        "  string = []\n",
        "  for t in text:\n",
        "    if t != text[i]:\n",
        "      string.append(t)\n",
        "  return string\n",
        "\n",
        "k = 2\n",
        "str = \"geek for geeks\"\n",
        "print(string_i(k, str))"
      ],
      "metadata": {
        "colab": {
          "base_uri": "https://localhost:8080/"
        },
        "id": "BpZHN5vxFUKk",
        "outputId": "b868ad5d-f57b-47ab-b4fd-c71952170264"
      },
      "execution_count": null,
      "outputs": [
        {
          "output_type": "stream",
          "name": "stdout",
          "text": [
            "['geek', 'for']\n"
          ]
        }
      ]
    },
    {
      "cell_type": "markdown",
      "source": [
        "## 3. Write a Python program to split and join a string?\n"
      ],
      "metadata": {
        "id": "d3BaqlNEEQjx"
      }
    },
    {
      "cell_type": "code",
      "source": [
        "def split(str):\n",
        "  list_string = str.split(\" \")\n",
        "  return list_string\n",
        "\n",
        "def join(list_string):\n",
        "  string = \"-\".join(list_string)\n",
        "  return string\n",
        "\n",
        "if __name__==\"__main__\":\n",
        "\n",
        "  str = \"geek for geeks\"\n",
        "  list_string = split(str)\n",
        "  print(list_string)\n",
        "\n",
        "  new_string = join(list_string)\n",
        "  print(new_string)\n"
      ],
      "metadata": {
        "colab": {
          "base_uri": "https://localhost:8080/"
        },
        "id": "pfkTzKToG703",
        "outputId": "348137bd-7856-4615-e86c-9302b9938712"
      },
      "execution_count": null,
      "outputs": [
        {
          "output_type": "stream",
          "name": "stdout",
          "text": [
            "['geek', 'for', 'geeks']\n",
            "geek-for-geeks\n"
          ]
        }
      ]
    },
    {
      "cell_type": "markdown",
      "source": [
        "## 4. Write a Python to check if a given string is binary string or not?\n"
      ],
      "metadata": {
        "id": "jj9CJYvTEQYJ"
      }
    },
    {
      "cell_type": "code",
      "source": [
        "def checkBinary(str):\n",
        "  p = set(str)\n",
        "  s = {'0','1'}\n",
        "  if s == p or p == {'0'} or p == {'1'}:\n",
        "    return True\n",
        "  else:\n",
        "    False\n",
        "\n",
        "#driver code\n",
        "if __name__ == \"__main__\":\n",
        "\n",
        "    string = \"101010000111\"\n",
        "\n",
        "    # function calling\n",
        "    print(checkBinary(string))"
      ],
      "metadata": {
        "colab": {
          "base_uri": "https://localhost:8080/"
        },
        "id": "CEbxYCPRfxTX",
        "outputId": "8c9979c5-a37c-4e17-e7b3-0919a2bf40b1"
      },
      "execution_count": 3,
      "outputs": [
        {
          "output_type": "stream",
          "name": "stdout",
          "text": [
            "True\n"
          ]
        }
      ]
    },
    {
      "cell_type": "markdown",
      "source": [
        "## 5. Write a Python program to find uncommon words from two Strings?\n"
      ],
      "metadata": {
        "id": "7ofClsq6EQMx"
      }
    },
    {
      "cell_type": "code",
      "source": [
        "def UncommonWords(A,B):\n",
        "\n",
        "  count = {}\n",
        "\n",
        "  for word in A.split():\n",
        "    count[word] = count.get(word,0) + 1\n",
        "\n",
        "  for word in B.split():\n",
        "    count[word] = count.get(word,0) + 1\n",
        "  print(count)\n",
        "  return [word for word in count if count[word] == 1]\n",
        "\n",
        "  # Driver Code\n",
        "A = \"Geeks for Geeks\"\n",
        "B = \"Learning from Geeks for Geeks\"\n",
        "\n",
        "# Print required answer\n",
        "print(UncommonWords(A, B))\n"
      ],
      "metadata": {
        "colab": {
          "base_uri": "https://localhost:8080/"
        },
        "id": "I-GXIidnJveq",
        "outputId": "d48ad339-e9e1-480d-c5ff-3fe2c12779eb"
      },
      "execution_count": null,
      "outputs": [
        {
          "output_type": "stream",
          "name": "stdout",
          "text": [
            "{'Geeks': 4, 'for': 2, 'Learning': 1, 'from': 1}\n",
            "['Learning', 'from']\n"
          ]
        }
      ]
    },
    {
      "cell_type": "markdown",
      "source": [
        "## 6. Write a Python to find all duplicate characters in string?\n"
      ],
      "metadata": {
        "id": "X7PXl5eTEQCm"
      }
    },
    {
      "cell_type": "code",
      "source": [
        "# from string using maps\n",
        "def printDups(Str):\n",
        "\n",
        "\tcount = {}\n",
        "\tfor i in range(len(Str)):\n",
        "\t\tif(Str[i] in count):\n",
        "\t\t\tcount[Str[i]] += 1\n",
        "\t\telse:\n",
        "\t\t\tcount[Str[i]] = 1\n",
        "\n",
        "\n",
        "\tfor it,it2 in count.items():  #iterating through the unordered map\n",
        "\t\tif (it2 > 1):               #if the count of characters is greater than 1 then duplicate found\n",
        "\t\t\tprint(str(it) + \", count = \"+str(it2))\n",
        "\n",
        "\n",
        "if __name__==\"__main__\":\n",
        "\n",
        "  # Driver code\n",
        "  Str = \"test string\"\n",
        "  print(printDups(Str))\n",
        "\n"
      ],
      "metadata": {
        "id": "tzPNX96RvCeo"
      },
      "execution_count": null,
      "outputs": []
    },
    {
      "cell_type": "markdown",
      "source": [
        "## 7. Write a Python Program to check if a string contains any special character?"
      ],
      "metadata": {
        "id": "KWgJy27yEP8w"
      }
    },
    {
      "cell_type": "code",
      "execution_count": 15,
      "metadata": {
        "id": "N_mO1zONkv0P",
        "colab": {
          "base_uri": "https://localhost:8080/"
        },
        "outputId": "86fb8f0e-dffa-4756-8b01-0e31e7cc801f"
      },
      "outputs": [
        {
          "output_type": "stream",
          "name": "stdout",
          "text": [
            "String not accepted\n",
            "String not ok\n"
          ]
        }
      ],
      "source": [
        "import re\n",
        "\n",
        "def checkSpecials(str):\n",
        "\n",
        "  regex =  re.compile('[@_!#$%^&*()<>?/\\|}{~:]')\n",
        "\n",
        "  if (regex.search(string)==None):\n",
        "    return \"String is accepted\"\n",
        "\n",
        "  else: return \"String not accepted\"\n",
        "\n",
        "\n",
        "\n",
        "def test(str):\n",
        "  sp = '[!@#$%^&*?/\\|<>+-(){}[],.:;_-=~`]'\n",
        "\n",
        "  for i in str:\n",
        "    for j in sp:\n",
        "      if i == j:\n",
        "        return \"String not ok\"\n",
        "\n",
        "  return \"String is ok\"\n",
        "\n",
        "\n",
        "# Driver Code\n",
        "if __name__ == '__main__' :\n",
        "\n",
        "    # Enter the string\n",
        "    string = \"Geeks$For$Geeks\"\n",
        "\n",
        "    # calling run function\n",
        "    print(checkSpecials(string))\n",
        "    print(test(string))\n",
        "\n",
        "\n",
        "\n",
        "\n",
        "\n",
        "\n",
        "\n"
      ]
    },
    {
      "cell_type": "code",
      "source": [],
      "metadata": {
        "id": "JWehFaM5iMLD"
      },
      "execution_count": null,
      "outputs": []
    }
  ]
}