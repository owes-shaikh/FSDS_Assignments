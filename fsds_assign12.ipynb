{
  "nbformat": 4,
  "nbformat_minor": 0,
  "metadata": {
    "colab": {
      "provenance": []
    },
    "kernelspec": {
      "name": "python3",
      "display_name": "Python 3"
    },
    "language_info": {
      "name": "python"
    }
  },
  "cells": [
    {
      "cell_type": "code",
      "execution_count": null,
      "metadata": {
        "id": "l_t4z98BAGH8"
      },
      "outputs": [],
      "source": []
    },
    {
      "cell_type": "markdown",
      "source": [
        "## 1. In what modes should the PdfFileReader() and PdfFileWriter() File objects be opened?\n",
        "\n",
        "### Answer:\n",
        "- `PdfFileReader()` objects are opened in binary read mode (`'rb'`).\n",
        "- `PdfFileWriter()` objects are opened in binary write mode (`'wb'`).\n",
        "\n",
        "## 2. From a `PdfFileReader` object, how do you get a `Page` object for page 5?\n",
        "\n",
        "### Answer:\n",
        "```python\n",
        "page_object = pdf_reader.getPage(4)  # Page numbering starts from 0\n",
        "```\n",
        "\n",
        "## 3. What `PdfFileReader` variable stores the number of pages in the PDF document?\n",
        "\n",
        "### Answer:\n",
        "The `numPages` variable in a `PdfFileReader` object stores the number of pages in the PDF document.\n",
        "\n",
        "## 4. If a `PdfFileReader` object’s PDF is encrypted with the password `swordfish`, what must you do before you can obtain `Page` objects from it?\n",
        "\n",
        "### Answer:\n",
        "You need to decrypt the PDF by calling the `decrypt('swordfish')` method on the `PdfFileReader` object before obtaining `Page` objects.\n",
        "\n",
        "## 5. What methods do you use to rotate a page?\n",
        "\n",
        "### Answer:\n",
        "You can use the `rotateClockwise(degrees)` and `rotateCounterClockwise(degrees)` methods on a `Page` object to rotate it in the desired direction.\n",
        "\n",
        "## 6. What is the difference between a `Run` object and a `Paragraph` object?\n",
        "\n",
        "### Answer:\n",
        "- A `Run` object in the context of a Word document represents a contiguous run of text with the same style.\n",
        "- A `Paragraph` object represents a paragraph in a Word document and can contain multiple `Run` objects.\n",
        "\n",
        "## 7. How do you obtain a list of `Paragraph` objects for a `Document` object stored in a variable named `doc`?\n",
        "\n",
        "### Answer:\n",
        "```python\n",
        "paragraphs_list = doc.paragraphs\n",
        "```\n",
        "\n",
        "## 8. What type of object has `bold`, `underline`, `italic`, `strike`, and `outline` variables?\n",
        "\n",
        "### Answer:\n",
        "A `Run` object in a Word document has these variables.\n",
        "\n",
        "## 9. What is the difference between `False`, `True`, and `None` for the `bold` variable?\n",
        "\n",
        "### Answer:\n",
        "- `False`: Text is not bold.\n",
        "- `True`: Text is bold.\n",
        "- `None`: Text inherits the bold property from the style of the paragraph it is in.\n",
        "\n",
        "## 10. How do you create a `Document` object for a new Word document?\n",
        "\n",
        "### Answer:\n",
        "```python\n",
        "from docx import Document\n",
        "doc = Document()\n",
        "```\n",
        "\n",
        "## 11. How do you add a paragraph with the text 'Hello, there!' to a `Document` object stored in a variable named `doc`?\n",
        "\n",
        "### Answer:\n",
        "```python\n",
        "doc.add_paragraph('Hello, there!')\n",
        "```\n",
        "\n",
        "## 12. What integers represent the levels of headings available in Word documents?\n",
        "\n",
        "### Answer:\n",
        "Heading levels in Word documents are represented by integers from 1 to 9, where 1 is the highest level (main heading) and 9 is the lowest level."
      ],
      "metadata": {
        "id": "jVFDBPp2BE19"
      }
    }
  ]
}