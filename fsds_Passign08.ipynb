{
  "nbformat": 4,
  "nbformat_minor": 0,
  "metadata": {
    "colab": {
      "provenance": []
    },
    "kernelspec": {
      "name": "python3",
      "display_name": "Python 3"
    },
    "language_info": {
      "name": "python"
    }
  },
  "cells": [
    {
      "cell_type": "markdown",
      "source": [
        "## 1. Write a Python Program to Add Two Matrices?\n"
      ],
      "metadata": {
        "id": "g4rJmpzoHFv8"
      }
    },
    {
      "cell_type": "code",
      "source": [
        "def add_matrices(mat1, mat2):\n",
        "    result = [[mat1[i][j] + mat2[i][j] for j in range(len(mat1[0]))] for i in range(len(mat1))]\n",
        "    return result\n",
        "\n",
        "# Example usage\n",
        "if __name__ == \"__main__\":\n",
        "    matrix1 = [[1, 2, 3], [4, 5, 6], [7, 8, 9]]\n",
        "    matrix2 = [[9, 8, 7], [6, 5, 4], [3, 2, 1]]\n",
        "\n",
        "    result = add_matrices(matrix1, matrix2)\n",
        "    print(\"Sum of the matrices:\")\n",
        "    for row in result:\n",
        "        print(row)\n"
      ],
      "metadata": {
        "id": "TS9emDqWHSt6",
        "colab": {
          "base_uri": "https://localhost:8080/"
        },
        "outputId": "5cc79c9e-2283-43d1-b169-91b08809507e"
      },
      "execution_count": 1,
      "outputs": [
        {
          "output_type": "stream",
          "name": "stdout",
          "text": [
            "Sum of the matrices:\n",
            "[10, 10, 10]\n",
            "[10, 10, 10]\n",
            "[10, 10, 10]\n"
          ]
        }
      ]
    },
    {
      "cell_type": "markdown",
      "source": [
        "## 2. Write a Python Program to Multiply Two Matrices?\n"
      ],
      "metadata": {
        "id": "Dd70wXigHFqp"
      }
    },
    {
      "cell_type": "code",
      "source": [
        "def multiply_matrices(mat1, mat2):\n",
        "    result = [[sum(mat1[i][k] * mat2[k][j] for k in range(len(mat2))) for j in range(len(mat2[0]))] for i in range(len(mat1))]\n",
        "    return result\n",
        "\n",
        "# Example usage\n",
        "if __name__ == \"__main__\":\n",
        "    matrix1 = [[1, 2, 3], [4, 5, 6], [7, 8, 9]]\n",
        "    matrix2 = [[9, 8, 7], [6, 5, 4], [3, 2, 1]]\n",
        "\n",
        "    result = multiply_matrices(matrix1, matrix2)\n",
        "    print(\"Product of the matrices:\")\n",
        "    for row in result:\n",
        "        print(row)\n"
      ],
      "metadata": {
        "id": "Cf63W07HHTY4",
        "colab": {
          "base_uri": "https://localhost:8080/"
        },
        "outputId": "cb42ebee-1441-4063-f1e8-e73c84f081c1"
      },
      "execution_count": 2,
      "outputs": [
        {
          "output_type": "stream",
          "name": "stdout",
          "text": [
            "Product of the matrices:\n",
            "[30, 24, 18]\n",
            "[84, 69, 54]\n",
            "[138, 114, 90]\n"
          ]
        }
      ]
    },
    {
      "cell_type": "markdown",
      "source": [
        "## 3. Write a Python Program to Transpose a Matrix?\n"
      ],
      "metadata": {
        "id": "ZNZYRqqzHFlj"
      }
    },
    {
      "cell_type": "code",
      "source": [
        "def transpose_matrix(mat):\n",
        "    result = [[mat[j][i] for j in range(len(mat))] for i in range(len(mat[0]))]\n",
        "    return result\n",
        "\n",
        "# Example usage\n",
        "if __name__ == \"__main__\":\n",
        "    matrix = [[1, 2, 3], [4, 5, 6], [7, 8, 9]]\n",
        "\n",
        "    result = transpose_matrix(matrix)\n",
        "    print(\"Transposed matrix:\")\n",
        "    for row in result:\n",
        "        print(row)\n"
      ],
      "metadata": {
        "id": "SEm1pW8jHT2w",
        "colab": {
          "base_uri": "https://localhost:8080/"
        },
        "outputId": "b35c05f3-3964-4200-b135-edf0c75e5bf4"
      },
      "execution_count": 3,
      "outputs": [
        {
          "output_type": "stream",
          "name": "stdout",
          "text": [
            "Transposed matrix:\n",
            "[1, 4, 7]\n",
            "[2, 5, 8]\n",
            "[3, 6, 9]\n"
          ]
        }
      ]
    },
    {
      "cell_type": "markdown",
      "source": [
        "## 4. Write a Python Program to Sort Words in Alphabetic Order?\n"
      ],
      "metadata": {
        "id": "jQAhQTjSHFhP"
      }
    },
    {
      "cell_type": "code",
      "source": [
        "def sort_words(sentence):\n",
        "    words = sentence.split()\n",
        "    sorted_words = sorted(words)\n",
        "    return ' '.join(sorted_words)\n",
        "\n",
        "# Example usage\n",
        "if __name__ == \"__main__\":\n",
        "    input_sentence = \"Python is a powerful programming language\"\n",
        "    result = sort_words(input_sentence.lower())\n",
        "    print(\"Sorted words in alphabetic order:\", result)\n"
      ],
      "metadata": {
        "id": "ODyQDErtHUXO",
        "colab": {
          "base_uri": "https://localhost:8080/"
        },
        "outputId": "3f9d6318-3f70-44e8-c329-ca952753ae5b"
      },
      "execution_count": 4,
      "outputs": [
        {
          "output_type": "stream",
          "name": "stdout",
          "text": [
            "Sorted words in alphabetic order: a is language powerful programming python\n"
          ]
        }
      ]
    },
    {
      "cell_type": "markdown",
      "source": [
        "## 5. Write a Python Program to Remove Punctuation From a String?"
      ],
      "metadata": {
        "id": "reCgh4GGHFPK"
      }
    },
    {
      "cell_type": "code",
      "execution_count": 5,
      "metadata": {
        "id": "vdQRxVnLG_cy",
        "colab": {
          "base_uri": "https://localhost:8080/"
        },
        "outputId": "d1e3f0b4-b7de-43b1-d95b-a93607994f0e"
      },
      "outputs": [
        {
          "output_type": "stream",
          "name": "stdout",
          "text": [
            "Text after removing punctuation: Hello this is a sample text It contains some punctuation marks\n"
          ]
        }
      ],
      "source": [
        "def remove_punctuation(text):\n",
        "    punctuation_chars = '''!()-[]{};:'\"\\,<>./?@#$%^&*_~'''\n",
        "    cleaned_text = ''.join(char for char in text if char not in punctuation_chars)\n",
        "    return cleaned_text\n",
        "\n",
        "# Example usage\n",
        "if __name__ == \"__main__\":\n",
        "    input_text = \"Hello, this is a sample text! It contains some punctuation marks.\"\n",
        "    result = remove_punctuation(input_text)\n",
        "    print(\"Text after removing punctuation:\", result)\n"
      ]
    },
    {
      "cell_type": "code",
      "source": [],
      "metadata": {
        "id": "XfSb3t0r_ki_"
      },
      "execution_count": null,
      "outputs": []
    }
  ]
}