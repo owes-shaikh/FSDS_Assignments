{
  "nbformat": 4,
  "nbformat_minor": 0,
  "metadata": {
    "colab": {
      "provenance": []
    },
    "kernelspec": {
      "name": "python3",
      "display_name": "Python 3"
    },
    "language_info": {
      "name": "python"
    }
  },
  "cells": [
    {
      "cell_type": "markdown",
      "source": [
        "## 1. Write a Python program to Extract Unique values dictionary values?\n"
      ],
      "metadata": {
        "id": "1rp5ItalxOdl"
      }
    },
    {
      "cell_type": "code",
      "source": [
        "def extract_unique_values(dictionary):\n",
        "    unique_values = set(val for sublist in dictionary.values() for val in sublist)\n",
        "    return list(unique_values)\n",
        "\n",
        "if __name__ == \"__main__\":\n",
        "    my_dict = {'a': [1, 2, 3], 'b': [2, 3, 4], 'c': [3, 4, 5]}\n",
        "    result = extract_unique_values(my_dict)\n",
        "    print(\"Unique values from dictionary values:\", result)\n"
      ],
      "metadata": {
        "colab": {
          "base_uri": "https://localhost:8080/"
        },
        "id": "i_7ZINS-Qk3h",
        "outputId": "f4f64450-2a3b-45e9-9b8f-5477b89d5a11"
      },
      "execution_count": 12,
      "outputs": [
        {
          "output_type": "stream",
          "name": "stdout",
          "text": [
            "Unique values from dictionary values: [1, 2, 3, 4, 5]\n"
          ]
        }
      ]
    },
    {
      "cell_type": "markdown",
      "source": [
        "## 2. Write a Python program to find the sum of all items in a dictionary?\n"
      ],
      "metadata": {
        "id": "QQPdayO2xOX-"
      }
    },
    {
      "cell_type": "code",
      "source": [
        "def sum_of_items(dict):\n",
        "  # sum = 0\n",
        "  # for i in dict:\n",
        "  #   val = dict[i]\n",
        "  #   sum = sum + val\n",
        "  # return sum\n",
        "    return sum(dict.values())\n",
        "\n",
        "ages = {'Matt': 30, 'Katie': 29, 'Nik': 31, 'Jack': 43, 'Alison': 32, 'Kevin': 38}\n",
        "print(sum_of_items(ages))\n"
      ],
      "metadata": {
        "colab": {
          "base_uri": "https://localhost:8080/"
        },
        "id": "FPo1VB36R6Fh",
        "outputId": "90eb0340-4394-4bcd-df6a-b7755fb8ec8b"
      },
      "execution_count": 2,
      "outputs": [
        {
          "output_type": "stream",
          "name": "stdout",
          "text": [
            "203\n"
          ]
        }
      ]
    },
    {
      "cell_type": "markdown",
      "source": [
        "## 3. Write a Python program to Merging two Dictionaries?\n"
      ],
      "metadata": {
        "id": "zY-DMDMsxOQx"
      }
    },
    {
      "cell_type": "code",
      "source": [
        "def merge_dictionaries(dict1,dict2):\n",
        "  merge_dict = {**dict1,**dict2}\n",
        "  return merge_dict\n",
        "\n",
        "if __name__ == \"__main__\":\n",
        "    dict1 = {'a': 1, 'b': 2}\n",
        "    dict2 = {'c': 3, 'd': 4}\n",
        "    result = merge_dictionaries(dict1, dict2)\n",
        "    print(\"Merged dictionary:\", result)"
      ],
      "metadata": {
        "colab": {
          "base_uri": "https://localhost:8080/"
        },
        "id": "X_drW1_kF-J3",
        "outputId": "f812fe79-273e-4c40-965b-55c69ebbe520"
      },
      "execution_count": 3,
      "outputs": [
        {
          "output_type": "stream",
          "name": "stdout",
          "text": [
            "Merged dictionary: {'a': 1, 'b': 2, 'c': 3, 'd': 4}\n"
          ]
        }
      ]
    },
    {
      "cell_type": "markdown",
      "source": [
        "## 4. Write a Python program to convert key-values list to flat dictionary?\n"
      ],
      "metadata": {
        "id": "GqYtAMKTxOKI"
      }
    },
    {
      "cell_type": "code",
      "source": [
        "def convert_to_flat_dict(keys,values):\n",
        "  flat_dict = dict(zip(keys,values))\n",
        "  return flat_dict\n",
        "\n",
        "\n",
        "if __name__ == '__main__':\n",
        "  keys_list = ['a', 'b', 'c']\n",
        "  values_list = [1, 2, 3]\n",
        "  result = convert_to_flat_dict(keys_list, values_list)\n",
        "  print(\"Flat dictionary:\", result)"
      ],
      "metadata": {
        "colab": {
          "base_uri": "https://localhost:8080/"
        },
        "id": "QYzvVI4PGZRP",
        "outputId": "17dd3718-1b1a-4612-8b8f-73b7eb43ed20"
      },
      "execution_count": 4,
      "outputs": [
        {
          "output_type": "stream",
          "name": "stdout",
          "text": [
            "Flat dictionary: {'a': 1, 'b': 2, 'c': 3}\n"
          ]
        }
      ]
    },
    {
      "cell_type": "markdown",
      "source": [
        "##5. Write a Python program to insertion at the beginning in OrderedDict?"
      ],
      "metadata": {
        "id": "7Xzp1IWyxODl"
      }
    },
    {
      "cell_type": "code",
      "source": [
        "from collections import OrderedDict\n",
        "\n",
        "def insert_at_beginning(ordered_dict, key, value):\n",
        "    ordered_dict[key] = value\n",
        "\n",
        "    ordered_dict.move_to_end(key, last=True)\n",
        "\n",
        "\n",
        "# Example usage\n",
        "if __name__ == \"__main__\":\n",
        "    my_ordered_dict = OrderedDict([('a', 1), ('b', 2), ('c', 3)])\n",
        "    insert_at_beginning(my_ordered_dict,'d', 4)\n",
        "    print(\"OrderedDict after insertion at the beginning:\", my_ordered_dict)\n"
      ],
      "metadata": {
        "colab": {
          "base_uri": "https://localhost:8080/"
        },
        "id": "lkaZKhCZG7p_",
        "outputId": "80f1b954-4b8b-4cd3-ec8b-1f739db1dacb"
      },
      "execution_count": 15,
      "outputs": [
        {
          "output_type": "stream",
          "name": "stdout",
          "text": [
            "OrderedDict after insertion at the beginning: OrderedDict([('a', 1), ('b', 2), ('c', 3), ('d', 4)])\n"
          ]
        }
      ]
    },
    {
      "cell_type": "markdown",
      "source": [
        "##6. Write a Python program to check order of character in string using OrderedDict()?\n"
      ],
      "metadata": {
        "id": "tLfmC6ZlxN8e"
      }
    },
    {
      "cell_type": "code",
      "source": [
        "from collections import OrderedDict\n",
        "\n",
        "def check_order_of_char(string, pattern):\n",
        "    pattern_dict = OrderedDict.fromkeys(pattern)\n",
        "    pattern_length = len(pattern_dict)\n",
        "\n",
        "    for char in string:\n",
        "        if char in pattern_dict:\n",
        "            del pattern_dict[char]\n",
        "\n",
        "    return len(pattern_dict) == 0\n",
        "\n",
        "if __name__ == \"__main__\":\n",
        "    input_string = \"hello world\"\n",
        "    search_pattern = \"hlo\"\n",
        "    result = check_order_of_char(input_string, search_pattern)\n",
        "    print(f\"Does the pattern '{search_pattern}' appear in order in the string? {result}\")\n"
      ],
      "metadata": {
        "colab": {
          "base_uri": "https://localhost:8080/"
        },
        "id": "VgT650pBIQ_x",
        "outputId": "e7e7b8a2-e20f-44cd-b95d-988d249c146a"
      },
      "execution_count": 11,
      "outputs": [
        {
          "output_type": "stream",
          "name": "stdout",
          "text": [
            "Does the pattern 'hlo' appear in order in the string? True\n"
          ]
        }
      ]
    },
    {
      "cell_type": "markdown",
      "source": [
        "##7. Write a Python program to sort Python Dictionaries by Key or Value?"
      ],
      "metadata": {
        "id": "GvfQiavRxN1M"
      }
    },
    {
      "cell_type": "code",
      "execution_count": 16,
      "metadata": {
        "id": "RnZHS-30vsFr",
        "colab": {
          "base_uri": "https://localhost:8080/"
        },
        "outputId": "c06764a2-b4d0-4ef1-d7f4-a93e9285b895"
      },
      "outputs": [
        {
          "output_type": "stream",
          "name": "stdout",
          "text": [
            "Dictionary sorted by key: {'a': 1, 'b': 2, 'c': 3}\n",
            "Dictionary sorted by value: {'a': 1, 'b': 2, 'c': 3}\n"
          ]
        }
      ],
      "source": [
        "def sort_dict_by_key(input_dict):\n",
        "    sorted_dict = dict(sorted(input_dict.items()))\n",
        "    return sorted_dict\n",
        "\n",
        "def sort_dict_by_value(input_dict):\n",
        "    sorted_dict = dict(sorted(input_dict.items(), key=lambda item: item[1]))\n",
        "    return sorted_dict\n",
        "\n",
        "# Example usage\n",
        "if __name__ == \"__main__\":\n",
        "    my_dict = {'c': 3, 'a': 1, 'b': 2}\n",
        "    sorted_by_key = sort_dict_by_key(my_dict)\n",
        "    print(\"Dictionary sorted by key:\", sorted_by_key)\n",
        "    sorted_by_value = sort_dict_by_value(my_dict)\n",
        "    print(\"Dictionary sorted by value:\", sorted_by_value)\n"
      ]
    }
  ]
}