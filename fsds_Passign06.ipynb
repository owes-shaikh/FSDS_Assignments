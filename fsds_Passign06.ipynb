{
  "nbformat": 4,
  "nbformat_minor": 0,
  "metadata": {
    "colab": {
      "provenance": []
    },
    "kernelspec": {
      "name": "python3",
      "display_name": "Python 3"
    },
    "language_info": {
      "name": "python"
    }
  },
  "cells": [
    {
      "cell_type": "markdown",
      "source": [
        "## 1. Write a Python Program to Display Fibonacci Sequence Using Recursion?\n"
      ],
      "metadata": {
        "id": "ZKPxWOzafRL6"
      }
    },
    {
      "cell_type": "code",
      "source": [
        "def fibonacci(num):\n",
        "  if num <= 0:\n",
        "    return 0\n",
        "  if num == 1:\n",
        "    return 1\n",
        "  else:\n",
        "    fibonum = fibonacci(num-2) + fibonacci(num-1) # function calling itself recursively\n",
        "    return fibonum\n",
        "\n",
        "fib_list = dict()\n",
        "def fib(num):\n",
        "  for i in range(num):\n",
        "    fib_list[i] = fibonacci(i)\n",
        "  print(fib_list)\n",
        "  return fib_list[i]\n",
        "\n",
        "fib(10)"
      ],
      "metadata": {
        "colab": {
          "base_uri": "https://localhost:8080/"
        },
        "id": "LipJDeeXfcrV",
        "outputId": "e2dbfb84-3971-41e3-bf00-bf46a86ee920"
      },
      "execution_count": 4,
      "outputs": [
        {
          "output_type": "stream",
          "name": "stdout",
          "text": [
            "{0: 0, 1: 1, 2: 1, 3: 2, 4: 3, 5: 5, 6: 8, 7: 13, 8: 21, 9: 34}\n"
          ]
        },
        {
          "output_type": "execute_result",
          "data": {
            "text/plain": [
              "34"
            ]
          },
          "metadata": {},
          "execution_count": 4
        }
      ]
    },
    {
      "cell_type": "markdown",
      "source": [
        "## 2. Write a Python Program to Find Factorial of Number Using Recursion?\n"
      ],
      "metadata": {
        "id": "zYbc62FqfRCe"
      }
    },
    {
      "cell_type": "code",
      "source": [
        "def factorial(num):\n",
        "  if num < 0:\n",
        "    return \"Negative number not valid\"\n",
        "  if num in [0,1]:\n",
        "    return 1\n",
        "  else:\n",
        "    fact_num = num * factorial(num-1)  # Function calling itself recursively\n",
        "  return fact_num\n",
        "\n",
        "factorial(5)"
      ],
      "metadata": {
        "colab": {
          "base_uri": "https://localhost:8080/"
        },
        "id": "GISGICCMhVYU",
        "outputId": "ff420315-47d5-4458-f114-3e863bb36e74"
      },
      "execution_count": 6,
      "outputs": [
        {
          "output_type": "execute_result",
          "data": {
            "text/plain": [
              "120"
            ]
          },
          "metadata": {},
          "execution_count": 6
        }
      ]
    },
    {
      "cell_type": "markdown",
      "source": [
        "## 3. Write a Python Program to calculate your Body Mass Index?\n"
      ],
      "metadata": {
        "id": "CGZo8IzyfQ5j"
      }
    },
    {
      "cell_type": "code",
      "source": [
        "def check_bmi(mass,ht):\n",
        "  weight = mass\n",
        "  height = (ht/100)**2\n",
        "  return weight/height\n",
        "\n",
        "def bmi(mass,ht):\n",
        "  result = check_bmi(mass,ht)\n",
        "  if result <= 18.5:\n",
        "    print(\"BMI is\",result,\"and body is Underweight\")\n",
        "  elif result > 18.5 and result <= 24.9:\n",
        "   print(\"BMI is\",result,\"and body is Normal\")\n",
        "  elif result > 24.9 and result < 29.9:\n",
        "    print(\"BMI is\",result,\"and body is OverWeight\")\n",
        "  else:\n",
        "    print(\"BMI is\",result,\"and body is OBESE\")\n",
        "\n",
        "\n",
        "\n",
        "mass = float(input(\"Enter you mass in kg : \"))\n",
        "ht = float(input(\"Enter height in Cetimeters : \"))\n",
        "bmi(mass,ht)\n",
        "\n"
      ],
      "metadata": {
        "colab": {
          "base_uri": "https://localhost:8080/"
        },
        "id": "DHEy2kw2iKPc",
        "outputId": "b67b0843-cace-466e-8f57-c264658c2cf5"
      },
      "execution_count": 9,
      "outputs": [
        {
          "output_type": "stream",
          "name": "stdout",
          "text": [
            "Enter you mass in kg : 85\n",
            "Enter height in Cetimeters : 175\n",
            "BMI is 27.755102040816325 and body is OverWeight\n"
          ]
        }
      ]
    },
    {
      "cell_type": "markdown",
      "source": [
        "## 4. Write a Python Program to calculate the natural logarithm of any number?\n"
      ],
      "metadata": {
        "id": "7F_5VlnzfQww"
      }
    },
    {
      "cell_type": "code",
      "source": [
        "import math\n",
        "def get_log(n):\n",
        "  return f\"The Natural logrithm of {n} is {math.log(n)}\"\n",
        "\n",
        "get_log(10)"
      ],
      "metadata": {
        "colab": {
          "base_uri": "https://localhost:8080/",
          "height": 38
        },
        "id": "7VqJPQBmndMt",
        "outputId": "fd1537df-1a25-4c2f-f928-09181e43d576"
      },
      "execution_count": 15,
      "outputs": [
        {
          "output_type": "execute_result",
          "data": {
            "text/plain": [
              "'The Natural logrithm of 10 is 2.302585092994046'"
            ],
            "application/vnd.google.colaboratory.intrinsic+json": {
              "type": "string"
            }
          },
          "metadata": {},
          "execution_count": 15
        }
      ]
    },
    {
      "cell_type": "markdown",
      "source": [
        "## 5. Write a Python Program for cube sum of first n natural numbers?"
      ],
      "metadata": {
        "id": "xDVFrh4UfQox"
      }
    },
    {
      "cell_type": "code",
      "execution_count": 13,
      "metadata": {
        "colab": {
          "base_uri": "https://localhost:8080/"
        },
        "id": "pi6Y4SzkfPhr",
        "outputId": "7401c036-8152-4edf-fe13-341301c55c05"
      },
      "outputs": [
        {
          "output_type": "execute_result",
          "data": {
            "text/plain": [
              "[1, 8, 27]"
            ]
          },
          "metadata": {},
          "execution_count": 13
        }
      ],
      "source": [
        "def cube(n):\n",
        "  number = []\n",
        "  if n ==0 or n < 0:\n",
        "    return \"zero and negative numbers are not natural number\"\n",
        "  if n > 0:\n",
        "    for i in range(1,n+1):\n",
        "      c = i**3\n",
        "      i += 1\n",
        "      number.append(c)\n",
        "  return number\n",
        "\n",
        "cube(3)\n",
        "\n"
      ]
    },
    {
      "cell_type": "code",
      "source": [],
      "metadata": {
        "id": "SgPL2m5loF1s"
      },
      "execution_count": null,
      "outputs": []
    }
  ]
}