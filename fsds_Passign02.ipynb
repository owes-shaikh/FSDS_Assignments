{
  "nbformat": 4,
  "nbformat_minor": 0,
  "metadata": {
    "colab": {
      "provenance": []
    },
    "kernelspec": {
      "name": "python3",
      "display_name": "Python 3"
    },
    "language_info": {
      "name": "python"
    }
  },
  "cells": [
    {
      "cell_type": "code",
      "source": [
        "# pip install calendra"
      ],
      "metadata": {
        "id": "1FETvo2BDS2q"
      },
      "execution_count": 20,
      "outputs": []
    },
    {
      "cell_type": "markdown",
      "source": [
        "## 1. Write a Python program to convert kilometers to miles?\n"
      ],
      "metadata": {
        "id": "x4qXkZMHxp14"
      }
    },
    {
      "cell_type": "code",
      "source": [
        "def km_to_miles(km):\n",
        "  mile = km*0.6213712\n",
        "  return mile\n",
        "\n",
        "km = 100\n",
        "miles = km_to_miles(km)\n",
        "print(miles)\n",
        ""
      ],
      "metadata": {
        "colab": {
          "base_uri": "https://localhost:8080/"
        },
        "id": "dxVnjM4xx5Zi",
        "outputId": "41dd5a71-3219-4d72-d608-b876c9cc7d0d"
      },
      "execution_count": 1,
      "outputs": [
        {
          "output_type": "stream",
          "name": "stdout",
          "text": [
            "62.13712\n"
          ]
        }
      ]
    },
    {
      "cell_type": "markdown",
      "source": [
        "## 2. Write a Python program to convert Celsius to Fahrenheit?\n"
      ],
      "metadata": {
        "id": "EZtVJa_exs7r"
      }
    },
    {
      "cell_type": "code",
      "source": [
        "def get_fahrenheit(degree):\n",
        "  fahren = (degree*1.8)+32\n",
        "  return fahren\n",
        "\n",
        "celsius = 100\n",
        "fahrenheit = get_fahrenheit(celsius)\n",
        "print(f\"{celsius} celsius  are {fahrenheit} in Fahrenheit\")"
      ],
      "metadata": {
        "colab": {
          "base_uri": "https://localhost:8080/"
        },
        "id": "9_X2PsuEx51V",
        "outputId": "ad44517d-8c69-4dfa-ed5e-beb840f271ec"
      },
      "execution_count": 2,
      "outputs": [
        {
          "output_type": "stream",
          "name": "stdout",
          "text": [
            "100 celsius  are 212.0 in Fahrenheit\n"
          ]
        }
      ]
    },
    {
      "cell_type": "markdown",
      "source": [
        "## 3. Write a Python program to display calendar?\n"
      ],
      "metadata": {
        "id": "AvvTU1iqxtrj"
      }
    },
    {
      "cell_type": "code",
      "source": [
        "import calendar\n",
        "\n",
        "def display_calendar(year,month):\n",
        "  cal = calendar.month(year,month)\n",
        "\n",
        "  print(f\"Calendar for {calendar.month_name[month]} {year}:\\n\")\n",
        "  print(cal)\n",
        "\n",
        "if __name__ == \"__main__\":\n",
        "\n",
        "  year = int(input('Enter year: '))\n",
        "  month = int(input('Enter month (1-12): '))\n",
        "\n",
        "  display_calendar(year,month)\n",
        "\n"
      ],
      "metadata": {
        "colab": {
          "base_uri": "https://localhost:8080/"
        },
        "id": "tqyM4UPmx6mO",
        "outputId": "aa5bd8d8-b58c-406e-e0f6-e34fb49eded0"
      },
      "execution_count": 19,
      "outputs": [
        {
          "output_type": "stream",
          "name": "stdout",
          "text": [
            "Enter year: 1\n",
            "Enter month (1-12): 5\n",
            "Calendar for May 1:\n",
            "\n",
            "       May 1\n",
            "Mo Tu We Th Fr Sa Su\n",
            "    1  2  3  4  5  6\n",
            " 7  8  9 10 11 12 13\n",
            "14 15 16 17 18 19 20\n",
            "21 22 23 24 25 26 27\n",
            "28 29 30 31\n",
            "\n"
          ]
        }
      ]
    },
    {
      "cell_type": "markdown",
      "source": [
        "## 4. Write a Python program to solve quadratic equation?\n",
        "5"
      ],
      "metadata": {
        "id": "Tvg0GX0yxuI0"
      }
    },
    {
      "cell_type": "code",
      "source": [
        "import math\n",
        "\n",
        "def get_roots(a,b,c):\n",
        "  if a != 0:\n",
        "    # sol = +- a*(x**2) +- b*x +- c\n",
        "    discriment = math.sqrt(b**2 - 4*a*c)\n",
        "    print(discriment)\n",
        "    divisor = 2*a\n",
        "    print(divisor)\n",
        "    x1  = (-b + discriment)/divisor\n",
        "    x2  = (-b - discriment)/divisor\n",
        "    return x1,x2\n",
        "\n",
        "\n",
        "a,b,c =  3,-5,2\n",
        "roots = get_roots(a,b,c)\n",
        "print(f\"The roots of the following quat eq are {roots}\")"
      ],
      "metadata": {
        "colab": {
          "base_uri": "https://localhost:8080/"
        },
        "id": "YZQnm6V6x7Hr",
        "outputId": "a8281b64-ce41-48be-ccac-cd127e32d33a"
      },
      "execution_count": 9,
      "outputs": [
        {
          "output_type": "stream",
          "name": "stdout",
          "text": [
            "1.0\n",
            "6\n",
            "The roots of the following quat eq are (1.0, 0.6666666666666666)\n"
          ]
        }
      ]
    },
    {
      "cell_type": "markdown",
      "source": [
        "## 5. Write a Python program to swap two variables without temp variable?"
      ],
      "metadata": {
        "id": "z1JzKyooxueN"
      }
    },
    {
      "cell_type": "code",
      "execution_count": 12,
      "metadata": {
        "colab": {
          "base_uri": "https://localhost:8080/"
        },
        "id": "seQTDorlxh5D",
        "outputId": "77a858ee-b922-46d1-a000-3e94c9444b9f"
      },
      "outputs": [
        {
          "output_type": "stream",
          "name": "stdout",
          "text": [
            "Before swapping x=4, y=7\n",
            "Before swapping x=7, y=4\n"
          ]
        }
      ],
      "source": [
        "def swap_var(var1,var2):\n",
        "  var1, var2 = var2,var1\n",
        "  return var1,var2\n",
        "\n",
        "if __name__ == '__main__':\n",
        "  x = 4\n",
        "  y = 7\n",
        "  print(f\"Before swapping x={x}, y={y}\")\n",
        "  x,y = swap_var(x,y)\n",
        "  print(f\"Before swapping x={x}, y={y}\")"
      ]
    },
    {
      "cell_type": "markdown",
      "source": [],
      "metadata": {
        "id": "BruWdMkc0APK"
      }
    },
    {
      "cell_type": "code",
      "source": [],
      "metadata": {
        "id": "iZ6ZeB4H1jC-"
      },
      "execution_count": null,
      "outputs": []
    }
  ]
}