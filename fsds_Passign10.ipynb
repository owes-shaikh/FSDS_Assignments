{
  "nbformat": 4,
  "nbformat_minor": 0,
  "metadata": {
    "colab": {
      "provenance": []
    },
    "kernelspec": {
      "name": "python3",
      "display_name": "Python 3"
    },
    "language_info": {
      "name": "python"
    }
  },
  "cells": [
    {
      "cell_type": "markdown",
      "source": [
        "## 1. Write a Python program to find sum of elements in list?\n"
      ],
      "metadata": {
        "id": "SkjrnBQVZOQH"
      }
    },
    {
      "cell_type": "code",
      "source": [
        "def sum_of_digits(l):\n",
        "  sum = 0\n",
        "  for i in l:\n",
        "    sum = sum + i\n",
        "  return sum\n",
        "\n",
        "if __name__ == \"__main__\":\n",
        "  num = [1,2,3,4,5,6,7,8,9,10]\n",
        "  print(sum_of_digits(num))\n",
        "\n"
      ],
      "metadata": {
        "colab": {
          "base_uri": "https://localhost:8080/"
        },
        "id": "Nces-pDbZmx5",
        "outputId": "05e5ab63-4965-4ff2-cfb3-48918e13efde"
      },
      "execution_count": null,
      "outputs": [
        {
          "output_type": "stream",
          "name": "stdout",
          "text": [
            "55\n"
          ]
        }
      ]
    },
    {
      "cell_type": "markdown",
      "source": [
        "## 2. Write a Python program to Multiply all numbers in the list?\n"
      ],
      "metadata": {
        "id": "LgFKe9-VZOKO"
      }
    },
    {
      "cell_type": "code",
      "source": [
        "def multi_digits(l):\n",
        "  multi = 1\n",
        "  for i in range(1,len(l)):\n",
        "    multi = multi * l[i]\n",
        "    i += 1\n",
        "  return multi\n",
        "\n",
        "num = [1,2,3]\n",
        "multi_digits(num)"
      ],
      "metadata": {
        "colab": {
          "base_uri": "https://localhost:8080/"
        },
        "id": "DQw9zIrQaVXc",
        "outputId": "9fda4285-d443-4f7b-f3e5-610ca04b8566"
      },
      "execution_count": null,
      "outputs": [
        {
          "output_type": "execute_result",
          "data": {
            "text/plain": [
              "6"
            ]
          },
          "metadata": {},
          "execution_count": 10
        }
      ]
    },
    {
      "cell_type": "markdown",
      "source": [
        "## 3. Write a Python program to find smallest number in a list?\n"
      ],
      "metadata": {
        "id": "Hsmczm9RZOFF"
      }
    },
    {
      "cell_type": "code",
      "source": [
        "def smallest(l):\n",
        "  l = sorted(l)\n",
        "  min = l[0]\n",
        "  return min\n",
        "\n",
        "def minimum(l):\n",
        "  s = min(l)\n",
        "  return s\n",
        "\n",
        "num = [9,5,1]\n",
        "print(smallest(num))\n",
        "print(minimum(num))"
      ],
      "metadata": {
        "colab": {
          "base_uri": "https://localhost:8080/"
        },
        "id": "fTpY8n_1qg1V",
        "outputId": "5f583de1-d0ad-4aff-825e-cc7b844432e9"
      },
      "execution_count": null,
      "outputs": [
        {
          "output_type": "stream",
          "name": "stdout",
          "text": [
            "1\n",
            "1\n"
          ]
        }
      ]
    },
    {
      "cell_type": "markdown",
      "source": [
        "## 4. Write a Python program to find largest number in a list?\n"
      ],
      "metadata": {
        "id": "4Mz5mtjfZN_Q"
      }
    },
    {
      "cell_type": "code",
      "source": [
        "def largest(l):\n",
        "  l = sorted(l)\n",
        "  large = l[-1]\n",
        "  return large\n",
        "\n",
        "\n",
        "num = [9,3,7]\n",
        "print(largest(num))"
      ],
      "metadata": {
        "colab": {
          "base_uri": "https://localhost:8080/"
        },
        "id": "vJuQCnLlrdG2",
        "outputId": "294b0e7a-59df-451f-f154-aca4c3b504bc"
      },
      "execution_count": null,
      "outputs": [
        {
          "output_type": "stream",
          "name": "stdout",
          "text": [
            "9\n"
          ]
        }
      ]
    },
    {
      "cell_type": "markdown",
      "source": [
        "## 5. Write a Python program to find second largest number in a list?"
      ],
      "metadata": {
        "id": "LfFhtfk4ZN5h"
      }
    },
    {
      "cell_type": "code",
      "source": [
        "def second_largest(l):\n",
        "  l = sorted(l)\n",
        "  second_large = l[1]\n",
        "  return second_large\n",
        "\n",
        "num = [101,110,98]\n",
        "second_largest(num)"
      ],
      "metadata": {
        "colab": {
          "base_uri": "https://localhost:8080/"
        },
        "id": "jCjasXZks52K",
        "outputId": "fe1219e9-e8a9-477e-c275-b068d31ec97e"
      },
      "execution_count": null,
      "outputs": [
        {
          "output_type": "execute_result",
          "data": {
            "text/plain": [
              "101"
            ]
          },
          "metadata": {},
          "execution_count": 15
        }
      ]
    },
    {
      "cell_type": "markdown",
      "source": [
        "## 6. Write a Python program to find N largest elements from a list?\n"
      ],
      "metadata": {
        "id": "HfgPaJJDZNzb"
      }
    },
    {
      "cell_type": "code",
      "source": [
        "def find_nlargest(lst,n):\n",
        "  sorted_lst = sorted(lst,reverse=True)\n",
        "  return sorted_lst[:n]\n",
        "\n",
        "my_list = [12, 45, 2, 41, 31, 10, 8, 6, 4]\n",
        "n=3\n",
        "n_largest_element = find_nlargest(my_list,n)\n",
        "print(f\"The {n} largest of the my_list are {n_largest_element}\")"
      ],
      "metadata": {
        "id": "faeAojWKwkh6",
        "colab": {
          "base_uri": "https://localhost:8080/"
        },
        "outputId": "a622d639-3969-480b-bf05-16fed9a72686"
      },
      "execution_count": 3,
      "outputs": [
        {
          "output_type": "stream",
          "name": "stdout",
          "text": [
            "The 3 largest of the my_list are [45, 41, 31]\n"
          ]
        }
      ]
    },
    {
      "cell_type": "markdown",
      "source": [
        "## 7. Write a Python program to print even numbers in a list?\n"
      ],
      "metadata": {
        "id": "CqjMSd4SZNtq"
      }
    },
    {
      "cell_type": "code",
      "source": [
        "def even_numbers(l):\n",
        "  even = []\n",
        "  for i in l:\n",
        "    if i % 2 ==0:\n",
        "      even.append(i)\n",
        "  return even\n",
        "\n",
        "num = [1,2,3,4,5,6,7,8,9,10]\n",
        "even_numbers(num)"
      ],
      "metadata": {
        "colab": {
          "base_uri": "https://localhost:8080/"
        },
        "id": "28oH0Y2FtlRh",
        "outputId": "31b2a6e5-10a4-47a8-9d7f-59757f675211"
      },
      "execution_count": null,
      "outputs": [
        {
          "output_type": "execute_result",
          "data": {
            "text/plain": [
              "[2, 4, 6, 8, 10]"
            ]
          },
          "metadata": {},
          "execution_count": 17
        }
      ]
    },
    {
      "cell_type": "markdown",
      "source": [
        "## 8. Write a Python program to print odd numbers in a List?\n"
      ],
      "metadata": {
        "id": "F9h8HavrZNn6"
      }
    },
    {
      "cell_type": "code",
      "source": [
        "def even_numbers(l):\n",
        "  even = []\n",
        "  for i in l:\n",
        "    if i % 2 !=0:\n",
        "      even.append(i)\n",
        "  return even\n",
        "\n",
        "num = [1,2,3,4,5,6,7,8,9,10]\n",
        "even_numbers(num)"
      ],
      "metadata": {
        "colab": {
          "base_uri": "https://localhost:8080/"
        },
        "id": "_s4Iw1vQuEGg",
        "outputId": "079c99fe-ac5f-4077-b96f-8ccc0c6964af"
      },
      "execution_count": null,
      "outputs": [
        {
          "output_type": "execute_result",
          "data": {
            "text/plain": [
              "[1, 3, 5, 7, 9]"
            ]
          },
          "metadata": {},
          "execution_count": 18
        }
      ]
    },
    {
      "cell_type": "markdown",
      "source": [
        "## 9. Write a Python program to Remove empty List from List?\n"
      ],
      "metadata": {
        "id": "alAJMLuqZNiU"
      }
    },
    {
      "cell_type": "code",
      "source": [
        "def empty_list(l):\n",
        "  for i in l:\n",
        "    if i == []:\n",
        "      l.remove(i)\n",
        "  return l\n",
        "\n",
        "lit = [[1,2,3],[4,5,6,],[],[7,8,9],[]]\n",
        "empty_list(lit)"
      ],
      "metadata": {
        "colab": {
          "base_uri": "https://localhost:8080/"
        },
        "id": "TFPjvA8-vPEA",
        "outputId": "1cfa1b59-5299-4bab-8554-ae51d8a084ab"
      },
      "execution_count": null,
      "outputs": [
        {
          "output_type": "execute_result",
          "data": {
            "text/plain": [
              "[[1, 2, 3], [4, 5, 6], [7, 8, 9]]"
            ]
          },
          "metadata": {},
          "execution_count": 20
        }
      ]
    },
    {
      "cell_type": "markdown",
      "source": [
        "## 10. Write a Python program to Cloning or Copying a list?\n"
      ],
      "metadata": {
        "id": "EXr18BfLZNbn"
      }
    },
    {
      "cell_type": "code",
      "source": [
        "def clone_list(l):\n",
        "  clone = l\n",
        "  return clone\n",
        "lits = ['a','b','c','d',1,2,3,40]\n",
        "clone_list(lits)"
      ],
      "metadata": {
        "colab": {
          "base_uri": "https://localhost:8080/"
        },
        "id": "UlBTUvPtwmg2",
        "outputId": "ca4431ce-19d3-4c75-a889-187cb66ebe77"
      },
      "execution_count": null,
      "outputs": [
        {
          "output_type": "execute_result",
          "data": {
            "text/plain": [
              "['a', 'b', 'c', 'd', 1, 2, 3, 40]"
            ]
          },
          "metadata": {},
          "execution_count": 21
        }
      ]
    },
    {
      "cell_type": "markdown",
      "source": [
        "## 11. Write a Python program to Count occurrences of an element in a list?"
      ],
      "metadata": {
        "id": "50qiBPRiZj3z"
      }
    },
    {
      "cell_type": "code",
      "execution_count": 1,
      "metadata": {
        "colab": {
          "base_uri": "https://localhost:8080/"
        },
        "id": "l7yD1fSaYkCP",
        "outputId": "3734a369-509f-4b30-ba5b-70bf0f6a5e60"
      },
      "outputs": [
        {
          "output_type": "stream",
          "name": "stdout",
          "text": [
            "The element 2 occurs 4 times in the list.\n"
          ]
        }
      ],
      "source": [
        "def count_occurrences(lst, element):\n",
        "    return lst.count(element)\n",
        "\n",
        "# Example: Count occurrences of an element in a list\n",
        "my_list = [1, 2, 3, 4, 2, 5, 2, 6, 2, 7]\n",
        "element_to_count = 2\n",
        "\n",
        "occurrences = count_occurrences(my_list, element_to_count)\n",
        "\n",
        "print(f\"The element {element_to_count} occurs {occurrences} times in the list.\")\n"
      ]
    },
    {
      "cell_type": "code",
      "source": [],
      "metadata": {
        "id": "RwlVngDhzHC5"
      },
      "execution_count": null,
      "outputs": []
    }
  ]
}