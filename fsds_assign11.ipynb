{
  "nbformat": 4,
  "nbformat_minor": 0,
  "metadata": {
    "colab": {
      "provenance": []
    },
    "kernelspec": {
      "name": "python3",
      "display_name": "Python 3"
    },
    "language_info": {
      "name": "python"
    }
  },
  "cells": [
    {
      "cell_type": "code",
      "execution_count": null,
      "metadata": {
        "id": "u1q5cVAg-8ci"
      },
      "outputs": [],
      "source": []
    },
    {
      "cell_type": "markdown",
      "source": [
        "## 1. Create an assert statement that throws an AssertionError if the variable spam is a negative integer.\n",
        "\n",
        "### Answer:\n",
        "```python\n",
        "assert spam >= 0, \"The variable 'spam' should not be a negative integer.\"\n",
        "```\n",
        "\n",
        "## 2. Write an assert statement that triggers an AssertionError if the variables eggs and bacon contain strings that are the same as each other, even if their cases are different.\n",
        "\n",
        "### Answer:\n",
        "```python\n",
        "assert eggs.lower() != bacon.lower(), \"The variables 'eggs' and 'bacon' should not have the same string value.\"\n",
        "```\n",
        "\n",
        "## 3. Create an assert statement that throws an AssertionError every time.\n",
        "\n",
        "### Answer:\n",
        "```python\n",
        "assert False, \"This assert statement will always throw an AssertionError.\"\n",
        "```\n",
        "\n",
        "## 4. What are the two lines that must be present in your software in order to call `logging.debug()`?\n",
        "\n",
        "### Answer:\n",
        "```python\n",
        "import logging\n",
        "logging.basicConfig(level=logging.DEBUG)\n",
        "```\n",
        "\n",
        "## 5. What are the two lines that your program must have in order to have `logging.debug()` send a logging message to a file named `programLog.txt`?\n",
        "\n",
        "### Answer:\n",
        "```python\n",
        "import logging\n",
        "logging.basicConfig(filename='programLog.txt', level=logging.DEBUG)\n",
        "```\n",
        "\n",
        "## 6. What are the five levels of logging?\n",
        "\n",
        "### Answer:\n",
        "The five levels of logging, in increasing order of severity, are:\n",
        "- `DEBUG`\n",
        "- `INFO`\n",
        "- `WARNING`\n",
        "- `ERROR`\n",
        "- `CRITICAL`\n",
        "\n",
        "## 7. What line of code would you add to your software to disable all logging messages?\n",
        "\n",
        "### Answer:\n",
        "```python\n",
        "logging.disable(logging.CRITICAL)\n",
        "```\n",
        "\n",
        "## 8. Why is using logging messages better than using `print()` to display the same message?\n",
        "\n",
        "### Answer:\n",
        "Logging provides a more flexible and configurable way to manage output. You can easily control the verbosity of messages by adjusting the logging level, and it allows you to redirect messages to different outputs (e.g., console, file) without modifying your code.\n",
        "\n",
        "## 9. What are the differences between the Step Over, Step In, and Step Out buttons in the debugger?\n",
        "\n",
        "### Answer:\n",
        "- **Step Over (`F10`):** Executes the current line of code and stops at the next line. If the next line is a function, it won't go into the function.\n",
        "- **Step In (`F7`):** Executes the current line of code and stops at the first line of any function that is called.\n",
        "- **Step Out (`Shift + F8`):** Continues execution until the current function returns.\n",
        "\n",
        "## 10. After you click Continue, when will the debugger stop?\n",
        "\n",
        "### Answer:\n",
        "The debugger will stop when it reaches the end of the program or encounters a breakpoint.\n",
        "\n",
        "## 11. What is the concept of a breakpoint?\n",
        "\n",
        "### Answer:\n",
        "A breakpoint is a designated point in your code where the debugger will pause execution, allowing you to inspect variables, step through code, and analyze the program's state at that specific point."
      ],
      "metadata": {
        "id": "fHZkX9FC_CEF"
      }
    },
    {
      "cell_type": "code",
      "source": [],
      "metadata": {
        "id": "Tbs4rrID_Fni"
      },
      "execution_count": null,
      "outputs": []
    }
  ]
}