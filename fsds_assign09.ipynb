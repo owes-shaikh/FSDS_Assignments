{
  "nbformat": 4,
  "nbformat_minor": 0,
  "metadata": {
    "colab": {
      "provenance": []
    },
    "kernelspec": {
      "name": "python3",
      "display_name": "Python 3"
    },
    "language_info": {
      "name": "python"
    }
  },
  "cells": [
    {
      "cell_type": "code",
      "execution_count": null,
      "metadata": {
        "id": "74kr5l1y8afH"
      },
      "outputs": [],
      "source": []
    },
    {
      "cell_type": "markdown",
      "source": [
        "",
        "\n",
        "## 1. To what does a relative path refer?\n",
        "\n",
        "### Answer:\n",
        "A relative path is like giving directions starting from where you currently are. It tells the computer where to find a file or folder based on your current location, rather than specifying the full path from the beginning.\n",
        "\n",
        "## 2. What does an absolute path start with in your operating system?\n",
        "\n",
        "### Answer:\n",
        "An absolute path gives the full and complete location of a file or folder from the root of your computer. On Windows, it typically starts with something like `C:\\`, and on Linux or macOS, it starts with `/`.\n",
        "\n",
        "## 3. What do the functions `os.getcwd()` and `os.chdir()` do?\n",
        "\n",
        "### Answer:\n",
        "- `os.getcwd()` tells you the current working directory, which is like asking the computer, \"Where am I right now?\"\n",
        "- `os.chdir(path)` allows you to change the current working directory to a specified location, similar to navigating to a different folder.\n",
        "\n",
        "## 4. What are the `.`, and `..` folders?\n",
        "\n",
        "### Answer:\n",
        "- `.` refers to the current folder you are in.\n",
        "- `..` refers to the folder one level up, or the parent folder of the current one.\n",
        "\n",
        "## 5. In `C:\\bacon\\eggs\\spam.txt`, which part is the dir name, and which part is the base name?\n",
        "\n",
        "### Answer:\n",
        "- `C:\\bacon\\eggs` is the directory name (folder or path).\n",
        "- `spam.txt` is the base name (the actual file).\n",
        "\n",
        "## 6. What are the three “mode” arguments that can be passed to the `open()` function?\n",
        "\n",
        "### Answer:\n",
        "- `'r'`: Read mode. You use this when you want to read from a file.\n",
        "- `'w'`: Write mode. You use this when you want to write to a file, and it will create a new file or overwrite an existing one.\n",
        "- `'a'`: Append mode. You use this when you want to add content to the end of an existing file.\n",
        "\n",
        "## 7. What happens if an existing file is opened in write mode?\n",
        "\n",
        "### Answer:\n",
        "If you open a file in write mode (`'w'`), it will erase the existing content of the file. So, be careful! If the file doesn't exist, it will create a new empty file.\n",
        "\n",
        "## 8. How do you tell the difference between `read()` and `readlines()`?\n",
        "\n",
        "### Answer:\n",
        "- `read()` reads the entire content of the file as a single piece, like reading a book cover to cover.\n",
        "- `readlines()` reads the lines of the file one by one and stores them in a list. It's like reading a book, one line at a time.\n",
        "\n",
        "## 9. What data structure does a shelf value resemble?\n",
        "\n",
        "### Answer:\n",
        "A shelf value, obtained using the `shelve` module, is like a dictionary. It stores data in key-value pairs, much like how words and their definitions are stored in a dictionary. It's a handy way to save and retrieve information in Python programs."
      ],
      "metadata": {
        "id": "TAE4p1f2D36q"
      }
    },
    {
      "cell_type": "code",
      "source": [],
      "metadata": {
        "id": "maCiVFOpD4qZ"
      },
      "execution_count": null,
      "outputs": []
    }
  ]
}
