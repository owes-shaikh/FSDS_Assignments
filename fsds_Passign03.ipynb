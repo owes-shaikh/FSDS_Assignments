{
  "nbformat": 4,
  "nbformat_minor": 0,
  "metadata": {
    "colab": {
      "provenance": []
    },
    "kernelspec": {
      "name": "python3",
      "display_name": "Python 3"
    },
    "language_info": {
      "name": "python"
    }
  },
  "cells": [
    {
      "cell_type": "markdown",
      "source": [
        "## 1. Write a Python Program to Check if a Number is Positive, Negative or Zero?\n"
      ],
      "metadata": {
        "id": "9FhzGim1E3kx"
      }
    },
    {
      "cell_type": "code",
      "source": [
        "def check(num):\n",
        "\n",
        "  if num == 0:\n",
        "    return (f\"num {num} is zero\")\n",
        "  elif num < 0:\n",
        "    return (f\"num {num} is negative\")\n",
        "  else:\n",
        "    return (f\"num {num} is positive\")\n",
        "\n",
        "print(check(0))\n",
        "print(check(-2))\n",
        "print(check(22))"
      ],
      "metadata": {
        "colab": {
          "base_uri": "https://localhost:8080/"
        },
        "id": "UmA_rD5CFGRo",
        "outputId": "d8b9cf37-b48f-47df-c619-d5ad980d6e86"
      },
      "execution_count": null,
      "outputs": [
        {
          "output_type": "stream",
          "name": "stdout",
          "text": [
            "num 0 is zero\n",
            "num -2 is negative\n",
            "num 22 is positive\n"
          ]
        }
      ]
    },
    {
      "cell_type": "markdown",
      "source": [
        "## 2. Write a Python Program to Check if a Number is Odd or Even?\n"
      ],
      "metadata": {
        "id": "f3TovMhkE3ZF"
      }
    },
    {
      "cell_type": "code",
      "source": [
        "def check_odd_even(num):\n",
        "\n",
        "  if num%2 == 0:\n",
        "    return f\"The number {num} is even\"\n",
        "  else:\n",
        "    return f\"The number {num} is odd\"\n",
        "\n",
        "print(check_odd_even(54))\n",
        "print(check_odd_even(81))"
      ],
      "metadata": {
        "colab": {
          "base_uri": "https://localhost:8080/"
        },
        "id": "jctkJEp4FG3M",
        "outputId": "218ef5d3-b21f-4613-be67-9685475d3a2d"
      },
      "execution_count": null,
      "outputs": [
        {
          "output_type": "stream",
          "name": "stdout",
          "text": [
            "The number 54 is even\n",
            "The number 81 is odd\n"
          ]
        }
      ]
    },
    {
      "cell_type": "markdown",
      "source": [
        "## 3. Write a Python Program to Check Leap Year?\n"
      ],
      "metadata": {
        "id": "yailWRJ0E3Fh"
      }
    },
    {
      "cell_type": "code",
      "source": [
        "import calendar\n",
        "\n",
        "def checkleapyear(year):\n",
        "  return calendar.isleap(year)\n",
        "\n",
        "year = int(input(\"Enter Year : \"))\n",
        "if checkleapyear(year):\n",
        "  print(year,\" is leap year\")\n",
        "else:\n",
        "  print(year,\" is not a leap year\")"
      ],
      "metadata": {
        "id": "zThUZPyFFHfW",
        "colab": {
          "base_uri": "https://localhost:8080/"
        },
        "outputId": "11e57a24-bb2f-452a-fb85-f88fc2e60d72"
      },
      "execution_count": 1,
      "outputs": [
        {
          "output_type": "stream",
          "name": "stdout",
          "text": [
            "Enter Year : 2020\n",
            "2020  is leap year\n"
          ]
        }
      ]
    },
    {
      "cell_type": "markdown",
      "source": [
        "## 4. Write a Python Program to Check Prime Number?\n"
      ],
      "metadata": {
        "id": "izNbzsIyE266"
      }
    },
    {
      "cell_type": "code",
      "source": [
        "import math\n",
        "\n",
        "def is_prime(num):\n",
        "    if num <= 1:\n",
        "        return False\n",
        "    for i in range(2, int(math.sqrt(num)) + 1):\n",
        "        if num % i == 0:\n",
        "            return False\n",
        "    return True\n",
        "\n",
        "# Test the function\n",
        "print(is_prime(2))    # True\n",
        "print(is_prime(7))    # True\n",
        "print(is_prime(16))    # False\n",
        "print(is_prime(15))   # False\n"
      ],
      "metadata": {
        "colab": {
          "base_uri": "https://localhost:8080/"
        },
        "id": "rYeEAYYeFICD",
        "outputId": "57a4bfe0-2287-4215-8549-78d018b7827e"
      },
      "execution_count": null,
      "outputs": [
        {
          "output_type": "stream",
          "name": "stdout",
          "text": [
            "True\n",
            "True\n",
            "False\n",
            "False\n"
          ]
        }
      ]
    },
    {
      "cell_type": "markdown",
      "source": [
        "## 5. Write a Python Program to Print all Prime Numbers in an Interval of 1-10000?"
      ],
      "metadata": {
        "id": "ANyrVp4LE2vg"
      }
    },
    {
      "cell_type": "code",
      "execution_count": 7,
      "metadata": {
        "colab": {
          "base_uri": "https://localhost:8080/"
        },
        "id": "sulsxT7AE0oD",
        "outputId": "181f1ae1-481c-466e-eb5e-b6fac1fff70c"
      },
      "outputs": [
        {
          "output_type": "stream",
          "name": "stdout",
          "text": [
            "Enter the initial number of range : 1\n",
            "Enter the end number of range : 10\n",
            "[2, 3, 5, 7]  are the prime numbers in range 1 -- 10\n"
          ]
        }
      ],
      "source": [
        "\n",
        "def find_prime(start,end):\n",
        "  primes = []\n",
        "  for num in range(start,end+1):\n",
        "    if is_prime(num):\n",
        "      primes.append(num)\n",
        "  return primes\n",
        "\n",
        "def is_prime(num):\n",
        "    if num <= 1:\n",
        "        return False\n",
        "    for i in range(2, int((num**0.5)) + 1):\n",
        "        if num % i == 0:\n",
        "          return False\n",
        "    return True\n",
        "\n",
        "\n",
        "start = int(input(\"Enter the initial number of range : \"))\n",
        "end = int(input(\"Enter the end number of range : \"))\n",
        "\n",
        "prime_numbers = find_prime(start,end)\n",
        "print(prime_numbers, \" are the prime numbers in range\",start,\"--\",end)"
      ]
    },
    {
      "cell_type": "code",
      "source": [],
      "metadata": {
        "id": "Dy5WygYXLbtj"
      },
      "execution_count": null,
      "outputs": []
    },
    {
      "cell_type": "code",
      "source": [],
      "metadata": {
        "id": "rEG1l6VoQ_gf"
      },
      "execution_count": null,
      "outputs": []
    }
  ]
}