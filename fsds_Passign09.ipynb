{
  "nbformat": 4,
  "nbformat_minor": 0,
  "metadata": {
    "colab": {
      "provenance": []
    },
    "kernelspec": {
      "name": "python3",
      "display_name": "Python 3"
    },
    "language_info": {
      "name": "python"
    }
  },
  "cells": [
    {
      "cell_type": "markdown",
      "source": [
        "## 1. Write a Python program to check if the given number is a Disarium Number?\n"
      ],
      "metadata": {
        "id": "bfhVp8hX4wVu"
      }
    },
    {
      "cell_type": "code",
      "source": [
        "def disarium_number(n):\n",
        "  # len = getlength(n)\n",
        "  length = len(str(n))\n",
        "  sum = 0\n",
        "  rem = 0\n",
        "  while n > 0:\n",
        "    rem = n%10\n",
        "    sum = sum + (rem**length)\n",
        "    n = n//10\n",
        "    length -= 1\n",
        "  return sum\n",
        "\n",
        "  if (sum == n):\n",
        "    return True\n",
        "  else:\n",
        "    return False\n",
        "\n",
        "\n",
        "# def getlength(n):\n",
        "#   len = 0\n",
        "#   while n > 0:\n",
        "#     len += 1\n",
        "#     n = n//10\n",
        "#   return len\n",
        "\n",
        "if __name__ == \"__main__\":\n",
        "\n",
        "  n  = int(input(\"ENter number : \"))\n",
        "\n",
        "  if (disarium_number(n)==True):\n",
        "    print(f\"{n} is diarium number\")\n",
        "\n",
        "  else:\n",
        "     print(f\"{n} is diarium number\")\n",
        "\n"
      ],
      "metadata": {
        "colab": {
          "base_uri": "https://localhost:8080/"
        },
        "id": "QGxGMBoe5sP2",
        "outputId": "3cf59714-3e17-410f-d392-a703b82e8844"
      },
      "execution_count": 20,
      "outputs": [
        {
          "output_type": "stream",
          "name": "stdout",
          "text": [
            "ENter number : 175\n",
            "175 is diarium number\n"
          ]
        }
      ]
    },
    {
      "cell_type": "markdown",
      "source": [
        "## 2. Write a Python program to print all disarium numbers between 1 to 100?\n"
      ],
      "metadata": {
        "id": "qB0CiOvj4wLG"
      }
    },
    {
      "cell_type": "code",
      "source": [
        "def disarium_number(n):\n",
        "  length = len(str(n))\n",
        "  sum = 0\n",
        "  rem = 0\n",
        "  while n >0:\n",
        "    rem = n%10\n",
        "    sum = sum + (rem**length)\n",
        "    length = length - 1\n",
        "    n = n //10\n",
        "  return sum\n",
        "\n",
        "\n",
        "\n",
        "def disarium_in_range(a,b):\n",
        "  ar_list = []\n",
        "  for i in range(a,b+1):\n",
        "    if disarium_number(i) == i:\n",
        "      ar_list.append(i)\n",
        "  return ar_list\n",
        "\n",
        "if __name__ == \"__main__\":\n",
        "  num1 = 500\n",
        "  num2 = 5000\n",
        "  result = disarium_in_range(num1,num2)\n",
        "  print(f\"The disarium number in range {num1}, {num2} is  : {result}\")"
      ],
      "metadata": {
        "colab": {
          "base_uri": "https://localhost:8080/"
        },
        "id": "towuPIV5-hp3",
        "outputId": "217092cc-703b-4fd3-8520-9c5659f725f8"
      },
      "execution_count": 29,
      "outputs": [
        {
          "output_type": "stream",
          "name": "stdout",
          "text": [
            "The disarium number in range 500, 5000 is  : [518, 598, 1306, 1676, 2427]\n"
          ]
        }
      ]
    },
    {
      "cell_type": "markdown",
      "source": [
        "## 3. Write a Python program to check if the given number is Happy Number?\n"
      ],
      "metadata": {
        "id": "VRyhCLw74v-t"
      }
    },
    {
      "cell_type": "code",
      "source": [
        "def isHappynumber(n):\n",
        "\tif n == 1 or n == 7:\n",
        "\t\treturn True\n",
        "\n",
        "\tSum, x = n, n\n",
        "\n",
        "\t# This loop executes till the sum\n",
        "\t# of square of digits obtained is\n",
        "\t# not a single digit number\n",
        "\twhile Sum > 9:\n",
        "\t\tSum = 0\n",
        "\n",
        "\t\t# This loop finds the sum of\n",
        "\t\t# square of digits\n",
        "\t\twhile x > 0:\n",
        "\t\t\td = x % 10\n",
        "\t\t\tSum += d * d\n",
        "\t\t\tx = int(x / 10)\n",
        "\n",
        "\t\tif Sum == 1:\n",
        "\t\t\treturn True\n",
        "\n",
        "\t\tx = Sum\n",
        "\n",
        "\tif Sum == 7:\n",
        "\t\treturn True\n",
        "\n",
        "\treturn False\n",
        "\n",
        "n = 13\n",
        "\n",
        "if isHappynumber(n):\n",
        "\tprint(n, \"is a Happy number\")\n",
        "else:\n",
        "\tprint(n, \"is not a Happy number\")\n"
      ],
      "metadata": {
        "id": "GZfgPlZdIIPF"
      },
      "execution_count": null,
      "outputs": []
    },
    {
      "cell_type": "markdown",
      "source": [
        "## 4. Write a Python program to print all happy numbers between 1 and 100?\n"
      ],
      "metadata": {
        "id": "83v9WR6Z4v3z"
      }
    },
    {
      "cell_type": "code",
      "source": [
        "def isHappynumber(n):\n",
        "\tif n == 1 or n == 7:\n",
        "\t\treturn True\n",
        "\n",
        "\tSum, x = n, n\n",
        "\n",
        "\t# This loop executes till the sum\n",
        "\t# of square of digits obtained is\n",
        "\t# not a single digit number\n",
        "\twhile Sum > 9:\n",
        "\t\tSum = 0\n",
        "\n",
        "\t\t# This loop finds the sum of\n",
        "\t\t# square of digits\n",
        "\t\twhile x > 0:\n",
        "\t\t\td = x % 10\n",
        "\t\t\tSum += d * d\n",
        "\t\t\tx = int(x / 10)\n",
        "\n",
        "\t\tif Sum == 1:\n",
        "\t\t\treturn True\n",
        "\n",
        "\t\tx = Sum\n",
        "\n",
        "\tif Sum == 7:\n",
        "\t\treturn True\n",
        "\n",
        "\treturn False\n",
        "\n",
        "def happy_numbers(n1,n2):\n",
        "  happy_list = []\n",
        "  for i in range(n1,n2+1):\n",
        "    if isHappynumber(i):\n",
        "      happy_list.append(i)\n",
        "  return happy_list\n",
        "\n",
        "\n",
        "if __name__ == \"__main__\":\n",
        "  a = 1\n",
        "  b = 100\n",
        "  result = happy_numbers(a,b)\n",
        "  print(result)\n",
        "\n"
      ],
      "metadata": {
        "colab": {
          "base_uri": "https://localhost:8080/"
        },
        "id": "W39b0mQlIaT3",
        "outputId": "56090024-5127-4cd6-c52e-a6d4b3607136"
      },
      "execution_count": 38,
      "outputs": [
        {
          "output_type": "stream",
          "name": "stdout",
          "text": [
            "[1, 7, 10, 13, 19, 23, 28, 31, 32, 44, 49, 68, 70, 79, 82, 86, 91, 94, 97, 100]\n"
          ]
        }
      ]
    },
    {
      "cell_type": "markdown",
      "source": [
        "## 5. Write a Python program to determine whether the given number is a Harshad Number?\n"
      ],
      "metadata": {
        "id": "Rl-56zYl4vvz"
      }
    },
    {
      "cell_type": "code",
      "source": [
        "def check_harshad(num):\n",
        "  sum = 0\n",
        "  temp = n\n",
        "  while temp > 0:\n",
        "    sum = sum + temp%10\n",
        "    temp = temp//10\n",
        "\n",
        "  return num % sum == 0\n",
        "\n",
        "n = 18\n",
        "if check_harshad(n): print(\"True\")\n",
        "else: print(\"Flase\")\n",
        "\n"
      ],
      "metadata": {
        "colab": {
          "base_uri": "https://localhost:8080/"
        },
        "id": "hvJiicN6MTJm",
        "outputId": "78c913a9-18c7-4996-c95c-70bd797167fb"
      },
      "execution_count": 34,
      "outputs": [
        {
          "output_type": "stream",
          "name": "stdout",
          "text": [
            "True\n"
          ]
        }
      ]
    },
    {
      "cell_type": "markdown",
      "source": [
        "## 6. Write a Python program to print all pronic numbers between 1 and 100?"
      ],
      "metadata": {
        "id": "YZGekpdv4vpB"
      }
    },
    {
      "cell_type": "code",
      "execution_count": 36,
      "metadata": {
        "colab": {
          "base_uri": "https://localhost:8080/"
        },
        "id": "o1kZw8jq4pDJ",
        "outputId": "27ee217b-b0ec-48e5-8573-ea9d8ecf4e35"
      },
      "outputs": [
        {
          "output_type": "stream",
          "name": "stdout",
          "text": [
            "The Harshad Numbers in range 1, 100 \n",
            "[1, 2, 3, 4, 5, 6, 7, 8, 9, 10, 12, 18, 20, 21, 24, 27, 30, 36, 40, 42, 45, 48, 50, 54, 60, 63, 70, 72, 80, 81, 84, 90]\n"
          ]
        }
      ],
      "source": [
        "def check_harshad(n):\n",
        "  sum = 0\n",
        "  while n >0:\n",
        "    sum = sum + n%10\n",
        "    n = n//10\n",
        "  return sum\n",
        "\n",
        "\n",
        "def isharshad(n1,n2):\n",
        "  l = []\n",
        "  for i in range(n1,n2):\n",
        "    if i % check_harshad(i)  == 0:\n",
        "      l.append(i)\n",
        "  return l\n",
        "\n",
        "\n",
        "if __name__ == \"__main__\":\n",
        "  a = 1\n",
        "  b = 100\n",
        "  result = isharshad(a,b)\n",
        "  print(f\"The Harshad Numbers in range {a}, {b} \")\n",
        "  print(result)"
      ]
    },
    {
      "cell_type": "code",
      "source": [],
      "metadata": {
        "id": "17k7nkqeWw7K"
      },
      "execution_count": null,
      "outputs": []
    }
  ]
}