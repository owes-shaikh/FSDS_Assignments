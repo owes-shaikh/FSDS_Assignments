{
  "nbformat": 4,
  "nbformat_minor": 0,
  "metadata": {
    "colab": {
      "provenance": []
    },
    "kernelspec": {
      "name": "python3",
      "display_name": "Python 3"
    },
    "language_info": {
      "name": "python"
    }
  },
  "cells": [
    {
      "cell_type": "markdown",
      "source": [
        "## 1. Write a Python Program to find sum of array?\n"
      ],
      "metadata": {
        "id": "9D-heNxiE9d4"
      }
    },
    {
      "cell_type": "code",
      "source": [
        "def find_sum(arr):\n",
        "    return sum(arr)\n",
        "\n",
        "# Example usage\n",
        "if __name__ == \"__main__\":\n",
        "    array = [1, 2, 3, 4, 5]\n",
        "    result = find_sum(array)\n",
        "    print(f\"Sum of the array: {result}\")\n"
      ],
      "metadata": {
        "colab": {
          "base_uri": "https://localhost:8080/"
        },
        "id": "vmiwJbi1FJjZ",
        "outputId": "63dea5b0-36ea-4659-e526-edc6b1c5d19b"
      },
      "execution_count": 1,
      "outputs": [
        {
          "output_type": "stream",
          "name": "stdout",
          "text": [
            "Sum of the array: 15\n"
          ]
        }
      ]
    },
    {
      "cell_type": "markdown",
      "source": [
        "## 2. Write a Python Program to find largest element in an array?\n"
      ],
      "metadata": {
        "id": "s8hDegaVE9YN"
      }
    },
    {
      "cell_type": "code",
      "source": [
        "def find_largest_element(arr):\n",
        "    return max(arr)\n",
        "\n",
        "# Example usage\n",
        "if __name__ == \"__main__\":\n",
        "    array = [10, 5, 7, 18, 3]\n",
        "    result = find_largest_element(array)\n",
        "    print(f\"Largest element in the array: {result}\")\n"
      ],
      "metadata": {
        "colab": {
          "base_uri": "https://localhost:8080/"
        },
        "id": "48FeOl65GSnv",
        "outputId": "4ee08439-16e6-4134-91c8-03dd5363218c"
      },
      "execution_count": 2,
      "outputs": [
        {
          "output_type": "stream",
          "name": "stdout",
          "text": [
            "Largest element in the array: 18\n"
          ]
        }
      ]
    },
    {
      "cell_type": "markdown",
      "source": [
        "## 3. Write a Python Program for array rotation?\n"
      ],
      "metadata": {
        "id": "4P1sU4kkE9So"
      }
    },
    {
      "cell_type": "code",
      "source": [
        "def rotate_array(arr, k):\n",
        "    return arr[k:] + arr[:k]\n",
        "\n",
        "# Example usage\n",
        "if __name__ == \"__main__\":\n",
        "    array = [1, 2, 3, 4, 5]\n",
        "    k = 2\n",
        "    result = rotate_array(array, k)\n",
        "    print(f\"Array after rotation: {result}\")\n"
      ],
      "metadata": {
        "colab": {
          "base_uri": "https://localhost:8080/"
        },
        "id": "tXdzWm3yGUCI",
        "outputId": "2534ae2d-458a-44a2-9793-1e19f7474124"
      },
      "execution_count": 3,
      "outputs": [
        {
          "output_type": "stream",
          "name": "stdout",
          "text": [
            "Array after rotation: [3, 4, 5, 1, 2]\n"
          ]
        }
      ]
    },
    {
      "cell_type": "markdown",
      "source": [
        "## 4. Write a Python Program to Split the array and add the first part to the end?\n"
      ],
      "metadata": {
        "id": "zBsjYVU2E9Mu"
      }
    },
    {
      "cell_type": "code",
      "source": [
        "def split_and_add(arr, split_index):\n",
        "    return arr[split_index:] + arr[:split_index]\n",
        "\n",
        "# Example usage\n",
        "if __name__ == \"__main__\":\n",
        "    array = [1, 2, 3, 4, 5]\n",
        "    split_index = 2\n",
        "    result = split_and_add(array, split_index)\n",
        "    print(f\"Array after splitting and adding: {result}\")\n"
      ],
      "metadata": {
        "colab": {
          "base_uri": "https://localhost:8080/"
        },
        "id": "JB7RfwamGUhZ",
        "outputId": "6c8563a9-9c99-47c9-a1cf-9c22bd323d81"
      },
      "execution_count": 4,
      "outputs": [
        {
          "output_type": "stream",
          "name": "stdout",
          "text": [
            "Array after splitting and adding: [3, 4, 5, 1, 2]\n"
          ]
        }
      ]
    },
    {
      "cell_type": "markdown",
      "source": [
        "## 5. Write a Python Program to check if given array is Monotonic?"
      ],
      "metadata": {
        "id": "6QxUXmR8E9Hh"
      }
    },
    {
      "cell_type": "code",
      "execution_count": 5,
      "metadata": {
        "colab": {
          "base_uri": "https://localhost:8080/"
        },
        "id": "BYf0yIJaCzrB",
        "outputId": "5bccd0c7-c921-41d4-d1d1-27fd1db3b3c7"
      },
      "outputs": [
        {
          "output_type": "stream",
          "name": "stdout",
          "text": [
            "Is array1 monotonic? True\n",
            "Is array2 monotonic? True\n"
          ]
        }
      ],
      "source": [
        "def is_monotonic(arr):\n",
        "    return all(arr[i] <= arr[i + 1] for i in range(len(arr) - 1)) or all(arr[i] >= arr[i + 1] for i in range(len(arr) - 1))\n",
        "\n",
        "# Example usage\n",
        "if __name__ == \"__main__\":\n",
        "    array1 = [1, 2, 3, 4, 5]\n",
        "    array2 = [5, 4, 3, 2, 1]\n",
        "\n",
        "    print(f\"Is array1 monotonic? {is_monotonic(array1)}\")\n",
        "    print(f\"Is array2 monotonic? {is_monotonic(array2)}\")\n"
      ]
    },
    {
      "cell_type": "markdown",
      "source": [],
      "metadata": {
        "id": "KjC9T-FuGKF5"
      }
    }
  ]
}