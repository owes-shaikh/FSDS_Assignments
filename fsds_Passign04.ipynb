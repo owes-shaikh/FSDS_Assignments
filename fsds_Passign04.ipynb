{
  "nbformat": 4,
  "nbformat_minor": 0,
  "metadata": {
    "colab": {
      "provenance": []
    },
    "kernelspec": {
      "name": "python3",
      "display_name": "Python 3"
    },
    "language_info": {
      "name": "python"
    }
  },
  "cells": [
    {
      "cell_type": "markdown",
      "source": [
        "## 1. Write a Python Program to Find the Factorial of a Number?\n"
      ],
      "metadata": {
        "id": "c7zJ2xO40Oyf"
      }
    },
    {
      "cell_type": "code",
      "source": [
        "def find_factorial(num):\n",
        "  assert num >= 0 and num == int(num)\n",
        "  for i in range(0,num+1):\n",
        "    if num < 0:\n",
        "      break\n",
        "    if num in [0,1]:\n",
        "      return 1\n",
        "    else:\n",
        "      factorial = num * find_factorial(num-1)\n",
        "  return factorial\n",
        "\n",
        "print(find_factorial(0))\n",
        "print(find_factorial(1))\n",
        "print(find_factorial(5))"
      ],
      "metadata": {
        "colab": {
          "base_uri": "https://localhost:8080/"
        },
        "id": "pIayQyOH0dlF",
        "outputId": "216abe9c-9531-47b7-b364-f22e7487ffaf"
      },
      "execution_count": 1,
      "outputs": [
        {
          "output_type": "stream",
          "name": "stdout",
          "text": [
            "1\n",
            "1\n",
            "120\n"
          ]
        }
      ]
    },
    {
      "cell_type": "markdown",
      "source": [
        "## 2. Write a Python Program to Display the multiplication Table?\n"
      ],
      "metadata": {
        "id": "0WfVXhYf0N58"
      }
    },
    {
      "cell_type": "code",
      "source": [
        "def mul_table(num):\n",
        "  l = [1,2,3,4,5,6,7,8,9,10]\n",
        "  r = []\n",
        "  for i in l:\n",
        "    multi = i * num\n",
        "    print(num, '*', i , '=', multi)\n",
        "    r.append(multi)\n",
        "  return r\n",
        "\n",
        "mul_table(2)"
      ],
      "metadata": {
        "colab": {
          "base_uri": "https://localhost:8080/"
        },
        "id": "cwocyVcj0eMc",
        "outputId": "c9b73acc-c0fd-48ec-a1d5-2020f44c2e31"
      },
      "execution_count": 15,
      "outputs": [
        {
          "output_type": "stream",
          "name": "stdout",
          "text": [
            "2 * 1 = 2\n",
            "2 * 2 = 4\n",
            "2 * 3 = 6\n",
            "2 * 4 = 8\n",
            "2 * 5 = 10\n",
            "2 * 6 = 12\n",
            "2 * 7 = 14\n",
            "2 * 8 = 16\n",
            "2 * 9 = 18\n",
            "2 * 10 = 20\n"
          ]
        },
        {
          "output_type": "execute_result",
          "data": {
            "text/plain": [
              "[2, 4, 6, 8, 10, 12, 14, 16, 18, 20]"
            ]
          },
          "metadata": {},
          "execution_count": 15
        }
      ]
    },
    {
      "cell_type": "markdown",
      "source": [
        "## 3. Write a Python Program to Print the Fibonacci sequence?\n"
      ],
      "metadata": {
        "id": "IWGPi93h0Nwd"
      }
    },
    {
      "cell_type": "code",
      "source": [
        "def fibonacci_seq(num):\n",
        "    global fib_list\n",
        "    if fib_list.get(num):\n",
        "#      print(fib_list)\n",
        "      return fib_list[num]\n",
        "    if num <= 0:\n",
        "      return 0\n",
        "    if num == 1:\n",
        "      return 1\n",
        "    else:\n",
        "      return fibonacci_seq(num-2) + fibonacci_seq(num-1)\n",
        "\n",
        "fib_list = dict()\n",
        "def fib(num):\n",
        "  for i in range(num):\n",
        "    fib_list[i] = fibonacci_seq(i)\n",
        "  return fib_list[i]\n",
        "\n",
        "fib(8)"
      ],
      "metadata": {
        "colab": {
          "base_uri": "https://localhost:8080/"
        },
        "id": "ytLOR5X00evn",
        "outputId": "f40ebaa4-5031-4032-844c-a1b678cca907"
      },
      "execution_count": 25,
      "outputs": [
        {
          "output_type": "execute_result",
          "data": {
            "text/plain": [
              "13"
            ]
          },
          "metadata": {},
          "execution_count": 25
        }
      ]
    },
    {
      "cell_type": "markdown",
      "source": [
        "## 4. Write a Python Program to Check Armstrong Number?\n"
      ],
      "metadata": {
        "id": "B27D5v4l0Nm9"
      }
    },
    {
      "cell_type": "code",
      "source": [
        "\n",
        "def check_armstrong(num):\n",
        "  temp = num\n",
        "  sum = 0\n",
        "  order = len(str(num))\n",
        "  while num > 0 :\n",
        "    r = num % 10\n",
        "    sum = sum + (r**order)\n",
        "    num = num//10\n",
        "\n",
        "  if sum == temp:\n",
        "    print(temp,\" Number is an Armstrong number\")\n",
        "  else:\n",
        "    print(temp,\" Number is not an Armstrong number\")\n",
        "\n",
        "check_armstrong(1634)"
      ],
      "metadata": {
        "colab": {
          "base_uri": "https://localhost:8080/"
        },
        "id": "UFYcuYae0fRH",
        "outputId": "f1df7e13-9211-4502-b56d-0316676dfac1"
      },
      "execution_count": 14,
      "outputs": [
        {
          "output_type": "stream",
          "name": "stdout",
          "text": [
            "1634  Number is an Armstrong number\n"
          ]
        }
      ]
    },
    {
      "cell_type": "markdown",
      "source": [
        "## 5. Write a Python Program to Find Armstrong Number in an Interval?\n"
      ],
      "metadata": {
        "id": "r5trJ3se0NeA"
      }
    },
    {
      "cell_type": "code",
      "source": [
        "\n",
        "def check_armstrong(num):\n",
        "  temp = num\n",
        "  sum = 0\n",
        "  order = len(str(num))\n",
        "  while num > 0 :\n",
        "    r = num % 10\n",
        "    sum = sum + (r**order)\n",
        "    num = num//10\n",
        "\n",
        "  return sum == temp\n",
        "# check_armstrong(1634)\n",
        "\n",
        "def armstrong_in_interval(start,end):\n",
        "  armstrong_number = []\n",
        "  for i in range(start,end+1):\n",
        "    if check_armstrong(i):\n",
        "      armstrong_number.append(i)\n",
        "  return armstrong_number\n",
        "\n",
        "armstrong_in_interval(10,10000)\n",
        ""
      ],
      "metadata": {
        "colab": {
          "base_uri": "https://localhost:8080/"
        },
        "id": "kLAeXW160fwj",
        "outputId": "77a5e079-2f02-46c9-9ac8-ae23c92ab881"
      },
      "execution_count": 17,
      "outputs": [
        {
          "output_type": "execute_result",
          "data": {
            "text/plain": [
              "[153, 370, 371, 407, 1634, 8208, 9474]"
            ]
          },
          "metadata": {},
          "execution_count": 17
        }
      ]
    },
    {
      "cell_type": "markdown",
      "source": [
        "## 6. Write a Python Program to Find the Sum of Natural Numbers?"
      ],
      "metadata": {
        "id": "y1e5Jlz20NVC"
      }
    },
    {
      "cell_type": "code",
      "execution_count": null,
      "metadata": {
        "id": "yZNbvSKyzpS3"
      },
      "outputs": [],
      "source": []
    }
  ]
}