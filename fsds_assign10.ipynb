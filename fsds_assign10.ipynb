{
  "nbformat": 4,
  "nbformat_minor": 0,
  "metadata": {
    "colab": {
      "provenance": []
    },
    "kernelspec": {
      "name": "python3",
      "display_name": "Python 3"
    },
    "language_info": {
      "name": "python"
    }
  },
  "cells": [
    {
      "cell_type": "code",
      "execution_count": null,
      "metadata": {
        "id": "xKjm4f9M1Dl2"
      },
      "outputs": [],
      "source": []
    },
    {
      "cell_type": "markdown",
      "source": [
        "Absolutely, let's break down the answers for these questions in a beginner-friendly way:\n",
        "\n",
        "## 1. How do you distinguish between `shutil.copy()` and `shutil.copytree()`?\n",
        "\n",
        "### Answer:\n",
        "- `shutil.copy(src, dest)` is used to copy a single file from the source (`src`) to the destination (`dest`).\n",
        "- `shutil.copytree(src, dest)` is used to copy an entire directory tree from the source (`src`) to the destination (`dest`), including all of its contents.\n",
        "\n",
        "## 2. What function is used to rename files?\n",
        "\n",
        "### Answer:\n",
        "To rename files, you can use the `os.rename(old_name, new_name)` function. This function takes the current name (`old_name`) of the file and the desired new name (`new_name`) as arguments.\n",
        "\n",
        "## 3. What is the difference between the delete functions in the `send2trash` and `shutil` modules?\n",
        "\n",
        "### Answer:\n",
        "- `send2trash` module provides a safer way to delete files by sending them to the operating system's trash or recycle bin instead of permanently deleting them.\n",
        "- `shutil` module provides functions like `shutil.rmtree()` to permanently delete files and directories. It doesn't use the operating system's trash.\n",
        "\n",
        "## 4. `ZipFile` objects have a `close()` method just like File objects’ `close()` method. What `ZipFile` method is equivalent to File objects’ `open()` method?\n",
        "\n",
        "### Answer:\n",
        "The `ZipFile` method equivalent to File objects’ `open()` method is `ZipFile(file_path, 'w')`. This is used to create a new ZIP file or overwrite an existing one. It's similar to opening a file for writing.\n",
        "\n",
        "## 5. Create a programme that searches a folder tree for files\n"
      ],
      "metadata": {
        "id": "p8hBBW2C1wCP"
      }
    },
    {
      "cell_type": "markdown",
      "source": [
        "we will use `os` library in Python that is essential for interacting with the operating system, providing functions to perform various operating system-related tasks.\n",
        "\n",
        "`os.walk` allows the program to explore all subdirectories and files recursively.\n",
        "\n",
        "The `os.path.join` function is employed to construct valid file or directory paths by joining the folder name and filename components.`"
      ],
      "metadata": {
        "id": "4y9qOsGf4IBo"
      }
    },
    {
      "cell_type": "code",
      "source": [
        "import os\n",
        "\n",
        "def search_req_files(folder_path, file_extension=''):\n",
        "    for foldername, subfolders, filenames in os.walk(folder_path):\n",
        "        for filename in filenames:\n",
        "            if filename.endswith(file_extension):\n",
        "                file_path = os.path.join(foldername, filename)\n",
        "                print(f'Found file: {file_path}')\n",
        "\n",
        "\n",
        "# For Example usage:\n",
        "folder_to_search = '/path/to/the/folder'\n",
        "file_extension_to_search = '.txt'  # Change to the desired file extension, or leave it empty to find all files inside folder\n",
        "\n",
        "search_req_files(folder_to_search, file_extension_to_search)\n"
      ],
      "metadata": {
        "colab": {
          "base_uri": "https://localhost:8080/",
          "height": 210
        },
        "id": "KLWTsyK11x_l",
        "outputId": "dfae5a9f-05fa-444b-813c-8582b9225b46"
      },
      "execution_count": 1,
      "outputs": [
        {
          "output_type": "error",
          "ename": "NameError",
          "evalue": "ignored",
          "traceback": [
            "\u001b[0;31m---------------------------------------------------------------------------\u001b[0m",
            "\u001b[0;31mNameError\u001b[0m                                 Traceback (most recent call last)",
            "\u001b[0;32m<ipython-input-1-02cbc3aa74d1>\u001b[0m in \u001b[0;36m<cell line: 14>\u001b[0;34m()\u001b[0m\n\u001b[1;32m     12\u001b[0m \u001b[0mfile_extension_to_search\u001b[0m \u001b[0;34m=\u001b[0m \u001b[0;34m'.txt'\u001b[0m  \u001b[0;31m# Change to the desired file extension, or leave it empty to find all files inside folder\u001b[0m\u001b[0;34m\u001b[0m\u001b[0;34m\u001b[0m\u001b[0m\n\u001b[1;32m     13\u001b[0m \u001b[0;34m\u001b[0m\u001b[0m\n\u001b[0;32m---> 14\u001b[0;31m \u001b[0msearch_files\u001b[0m\u001b[0;34m(\u001b[0m\u001b[0mfolder_to_search\u001b[0m\u001b[0;34m,\u001b[0m \u001b[0mfile_extension_to_search\u001b[0m\u001b[0;34m)\u001b[0m\u001b[0;34m\u001b[0m\u001b[0;34m\u001b[0m\u001b[0m\n\u001b[0m",
            "\u001b[0;31mNameError\u001b[0m: name 'search_files' is not defined"
          ]
        }
      ]
    },
    {
      "cell_type": "code",
      "source": [],
      "metadata": {
        "id": "L1OZq9KS3KCS"
      },
      "execution_count": null,
      "outputs": []
    }
  ]
}