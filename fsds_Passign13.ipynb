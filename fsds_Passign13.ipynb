{
  "nbformat": 4,
  "nbformat_minor": 0,
  "metadata": {
    "colab": {
      "provenance": []
    },
    "kernelspec": {
      "name": "python3",
      "display_name": "Python 3"
    },
    "language_info": {
      "name": "python"
    }
  },
  "cells": [
    {
      "cell_type": "markdown",
      "source": [
        "###Question 1:\n",
        "Write a program that calculates and prints the value according to the given formula:\n",
        "Q = Square root of [(2 * C * D)/H]\n",
        "Following are the fixed values of C and H:\n",
        "C is 50. H is 30.\n",
        "D is the variable whose values should be input to your program in a comma-separated\n",
        "sequence.\n",
        "Example\n",
        "Let us assume the following comma separated input sequence is given to the program:\n",
        "100,150,180\n",
        "The output of the program should be:\n",
        "18,22,24"
      ],
      "metadata": {
        "id": "p4VS9GszNiDI"
      }
    },
    {
      "cell_type": "code",
      "source": [
        "def calculate(l):\n",
        "  C = 50\n",
        "  H = 30\n",
        "  ol = []\n",
        "  for d in l:\n",
        "    D = d\n",
        "    Q = int(((2*C*D)/H)**0.5)\n",
        "    ol.append(Q)\n",
        "  return ol\n",
        "\n",
        "if __name__ == '__main__':\n",
        "  x = list(map(int, input('Enter multiple values to calculate : ').split(',')))\n",
        "  result = calculate(x)\n",
        "  print(result)\n"
      ],
      "metadata": {
        "colab": {
          "base_uri": "https://localhost:8080/"
        },
        "id": "AXiAjALBN8WZ",
        "outputId": "533a113c-3db7-449d-e098-3050851c756e"
      },
      "execution_count": null,
      "outputs": [
        {
          "output_type": "stream",
          "name": "stdout",
          "text": [
            "Enter multiple values to calculate : 100,150,180\n",
            "[18, 22, 24]\n"
          ]
        }
      ]
    },
    {
      "cell_type": "code",
      "source": [
        "def calculate(l):\n",
        "  C,H = 50,30\n",
        "  return [int(((2*C*d)/H)**0.5) for d in l]\n",
        "\n",
        "if __name__ == '__main__':\n",
        "  x = list(map(int,input('Enter multiple numbers : ').split(',')))\n",
        "  result = calculate(x)\n",
        "  print(result)"
      ],
      "metadata": {
        "colab": {
          "base_uri": "https://localhost:8080/"
        },
        "id": "BniV_wqpj09y",
        "outputId": "fda5f156-c755-4c50-f911-70b931243285"
      },
      "execution_count": null,
      "outputs": [
        {
          "output_type": "stream",
          "name": "stdout",
          "text": [
            "Enter multiple numbers : 100,150,180\n",
            "[18, 22, 24]\n"
          ]
        }
      ]
    },
    {
      "cell_type": "markdown",
      "source": [
        "##Question 2:\n",
        "Write a program which takes 2 digits, X,Y as input and generates a 2-dimensional array. The\n",
        "element value in the i-th row and j-th column of the array should be i*j.\n",
        "Note: i=0,1.., X-1; j=0,1,¡Y-1.\n",
        "Example\n",
        "Suppose the following inputs are given to the program:\n",
        "3,5\n",
        "Then, the output of the program should be:\n",
        "[[0, 0, 0, 0, 0], [0, 1, 2, 3, 4], [0, 2, 4, 6, 8]]"
      ],
      "metadata": {
        "id": "RNiiagFINnmK"
      }
    },
    {
      "cell_type": "code",
      "source": [
        "def create_matrix(x,y):\n",
        "  final_array = []\n",
        "  for i in range(0,x):\n",
        "    subarray = []\n",
        "    for j in range(0,y):\n",
        "      subarray.append(i*j)\n",
        "    final_array.append(subarray)\n",
        "  return final_array\n",
        "\n",
        "def generate_2d_array(x,y):\n",
        "  return [[i*j for j in range(y)] for i in range(x)]\n",
        "\n",
        "\n",
        "if __name__ == '__main__':\n",
        "  x,y = list(map(int,input('Enter rows and columns of matrix :').split(',')))\n",
        "  result = create_matrix(x,y)\n",
        "  print(result)\n",
        "  print('======================================================')\n",
        "  result1 = generate_2d_array(x,y)\n",
        "  print(result1)\n",
        "\n"
      ],
      "metadata": {
        "id": "iftXo8tjN8p8",
        "colab": {
          "base_uri": "https://localhost:8080/"
        },
        "outputId": "28573420-a435-4fa4-edb4-a99945374912"
      },
      "execution_count": 5,
      "outputs": [
        {
          "output_type": "stream",
          "name": "stdout",
          "text": [
            "Enter rows and columns of matrix :3,5\n",
            "[[0, 0, 0, 0, 0], [0, 1, 2, 3, 4], [0, 2, 4, 6, 8]]\n",
            "======================================================\n",
            "[[0, 0, 0, 0, 0], [0, 1, 2, 3, 4], [0, 2, 4, 6, 8]]\n"
          ]
        }
      ]
    },
    {
      "cell_type": "markdown",
      "source": [
        "## Question 3:\n",
        "Write a program that accepts a comma separated sequence of words as input and prints the\n",
        "words in a comma-separated sequence after sorting them alphabetically.\n",
        "Suppose the following input is supplied to the program:\n",
        "without,hello,bag,world\n",
        "Then, the output should be:\n",
        "bag,hello,without,world"
      ],
      "metadata": {
        "id": "mruf8FltNqrC"
      }
    },
    {
      "cell_type": "code",
      "source": [
        "def sort_words(a):\n",
        "  word = a.split(',')\n",
        "  sorted_words = sorted(word)\n",
        "  result_sequence = ','.join(sorted_words)\n",
        "  return result_sequence\n",
        "\n",
        "if __name__ == '__main__':\n",
        "  a = input('Enter comma seperated words:')\n",
        "  result = sort_words(a)\n",
        "  print(result)"
      ],
      "metadata": {
        "id": "Fw8xTJU1N9DO",
        "colab": {
          "base_uri": "https://localhost:8080/"
        },
        "outputId": "35891449-08eb-4ed0-b0e5-29247c341a77"
      },
      "execution_count": 9,
      "outputs": [
        {
          "output_type": "stream",
          "name": "stdout",
          "text": [
            "Enter comma seperated words:without,hello,bag,world\n",
            "bag,hello,without,world\n"
          ]
        }
      ]
    },
    {
      "cell_type": "markdown",
      "source": [
        "Question 4:\n",
        "Write a program that accepts a sequence of whitespace separated words as input and prints\n",
        "the words after removing all duplicate words and sorting them alphanumerically.\n",
        "Suppose the following input is supplied to the program:\n",
        "hello world and practice makes perfect and hello world again\n",
        "Then, the output should be:\n",
        "again and hello makes perfect practice world"
      ],
      "metadata": {
        "id": "JVIwRCyqNsIu"
      }
    },
    {
      "cell_type": "code",
      "source": [
        "def dropdup_sort(words):\n",
        "  word = words.split()\n",
        "  duplicates = set()\n",
        "  for i in word:\n",
        "    if i not in duplicates:\n",
        "      duplicates.add(i)\n",
        "  sorted_words = sorted(duplicates)\n",
        "  result = ','.join(sorted_words).replace(',',' ')\n",
        "  return result\n",
        "\n",
        "\n",
        "\n",
        "if __name__== '__main__':\n",
        "  words = input('Enter the sentence:')\n",
        "  result = dropdup_sort(words)\n",
        "  print(result)"
      ],
      "metadata": {
        "id": "J70iBn_VN9Yi",
        "colab": {
          "base_uri": "https://localhost:8080/"
        },
        "outputId": "afa1175f-01a8-4278-d9a2-695dc4241a0b"
      },
      "execution_count": 19,
      "outputs": [
        {
          "output_type": "stream",
          "name": "stdout",
          "text": [
            "Enter the sentence:hello world and practice makes perfect and hello world again\n",
            "again and hello makes perfect practice world\n"
          ]
        }
      ]
    },
    {
      "cell_type": "markdown",
      "source": [
        "## Question 5:\n",
        "Write a program that accepts a sentence and calculate the number of letters and digits.\n",
        "Suppose the following input is supplied to the program:\n",
        "hello world! 123\n",
        "Then, the output should be:\n",
        "LETTERS 10\n",
        "\n",
        "DIGITS 3"
      ],
      "metadata": {
        "id": "96PjkL9mNuAO"
      }
    },
    {
      "cell_type": "code",
      "source": [
        "def count_letters(a):\n",
        "  print(a)\n",
        "  letters = a.replace('!','').split()\n",
        "  print(letters)\n",
        "  Letters,Digits = 0,0\n",
        "  for char in letters:\n",
        "    if char.isalpha():\n",
        "      Letters += len(char)\n",
        "    if char.isdigit():\n",
        "      Digits += len(char)\n",
        "\n",
        "\n",
        "  print(Letters)\n",
        "  print(Digits)\n",
        "\n",
        "  return (f\"The given sentence has LETTERS {Letters} DIGITS {Digits}\")\n",
        "\n",
        "\n",
        "def counting(a):\n",
        "  letter_count = sum(len(char) for char in a if char.isalpha())\n",
        "  digit_count = sum(len(char) for char in a if char.isdigit())\n",
        "\n",
        "  print(f\"LETTERS : {letter_count} and DIGITS : {digit_count}\")\n",
        "\n",
        "\n",
        "\n",
        "\n",
        "\n",
        "\n",
        "if __name__ == '__main__':\n",
        "  # a = input('Enter the sentence with spaces :')\n",
        "  a = \"hello world! 123\"\n",
        "  result = count_letters(a)\n",
        "  print(result)\n",
        "  print(\"========================================\")\n",
        "  con = counting(a)\n",
        "\n"
      ],
      "metadata": {
        "id": "lALZI9hrN95x",
        "colab": {
          "base_uri": "https://localhost:8080/"
        },
        "outputId": "aadeb780-cb6d-4bbc-a683-7c2d5b579cc4"
      },
      "execution_count": 10,
      "outputs": [
        {
          "output_type": "stream",
          "name": "stdout",
          "text": [
            "hello world! 123\n",
            "['hello', 'world', '123']\n",
            "10\n",
            "3\n",
            "The given sentence has LETTERS 10 DIGITS 3\n",
            "========================================\n",
            "LETTERS : 10 and DIGITS : 3\n"
          ]
        }
      ]
    },
    {
      "cell_type": "markdown",
      "source": [
        "## Question 6:\n",
        "A website requires the users to input username and password to register. Write a program to\n",
        "check the validity of password input by users.\n",
        "Following are the criteria for checking the password:\n",
        "1. At least 1 letter between [a-z]\n",
        "2. At least 1 number between [0-9]\n",
        "1. At least 1 letter between [A-Z]\n",
        "3. At least 1 character from [$#@]\n",
        "4. Minimum length of transaction password: 6\n",
        "5. Maximum length of transaction password: 12\n",
        "Your program should accept a sequence of comma separated passwords and will check them\n",
        "according to the above criteria. Passwords that match the criteria are to be printed, each\n",
        "separated by a comma.\n",
        "Example\n",
        "If the following passwords are given as input to the program:\n",
        "ABd1234@1,a F1#,2w3E*,2We3345\n",
        "Then, the output of the program should be:\n",
        "ABd1234@1"
      ],
      "metadata": {
        "id": "XsI5P6BGN30m"
      }
    },
    {
      "cell_type": "code",
      "source": [
        "import re\n",
        "\n",
        "def isvalid_password(password):\n",
        "  regex  = r\"^(?=.*[a-z])(?=.*[A-Z])(?=.*[0-9])(?=.*[$#@]).{6,12}$\"\n",
        "  return re.match(regex, password) is not None\n",
        "\n",
        "if __name__ == '__main__':\n",
        "  Input = 'ABd1234@1,a F1#,2w3E*,2We3345'\n",
        "  passwords = Input.split(',')\n",
        "  valid_password = [password for password in passwords if isvalid_password(password)]\n",
        "  result = ','.join(valid_password)\n",
        "  print(result)\n"
      ],
      "metadata": {
        "colab": {
          "base_uri": "https://localhost:8080/"
        },
        "id": "u0piqKSokiu1",
        "outputId": "79e267e1-13ae-48a3-bda7-3bc26b8f1101"
      },
      "execution_count": 14,
      "outputs": [
        {
          "output_type": "stream",
          "name": "stdout",
          "text": [
            "ABd1234@1\n"
          ]
        }
      ]
    },
    {
      "cell_type": "code",
      "source": [],
      "metadata": {
        "id": "SZoUculciZnS"
      },
      "execution_count": null,
      "outputs": []
    }
  ]
}