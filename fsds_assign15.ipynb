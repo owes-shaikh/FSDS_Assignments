{
  "nbformat": 4,
  "nbformat_minor": 0,
  "metadata": {
    "colab": {
      "provenance": []
    },
    "kernelspec": {
      "name": "python3",
      "display_name": "Python 3"
    },
    "language_info": {
      "name": "python"
    }
  },
  "cells": [
    {
      "cell_type": "code",
      "execution_count": null,
      "metadata": {
        "id": "n0qhsx3iEx7P"
      },
      "outputs": [],
      "source": []
    },
    {
      "cell_type": "markdown",
      "source": [
        "## 1. How many seconds are in an hour? Use the interactive interpreter as a calculator and multiply the number of seconds in a minute (60) by the number of minutes in an hour (also 60).\n",
        "\n",
        "### Answer:\n",
        "```python\n",
        "60 * 60  # Result: 3600\n",
        "```\n",
        "\n",
        "## 2. Assign the result from the previous task (seconds in an hour) to a variable called seconds_per_hour.\n",
        "\n",
        "### Answer:\n",
        "```python\n",
        "seconds_per_hour = 60 * 60\n",
        "```\n",
        "\n",
        "## 3. How many seconds do you think there are in a day? Make use of the variables seconds per hour and minutes per hour.\n",
        "\n",
        "### Answer:\n",
        "```python\n",
        "# Assuming there are 24 hours in a day\n",
        "seconds_per_day = seconds_per_hour * 24\n",
        "```\n",
        "\n",
        "## 4. Calculate seconds per day again, but this time save the result in a variable called seconds_per_day.\n",
        "\n",
        "### Answer:\n",
        "```python\n",
        "seconds_per_day = seconds_per_hour * 24\n",
        "```\n",
        "\n",
        "## 5. Divide seconds_per_day by seconds_per_hour. Use floating-point (/) division.\n",
        "\n",
        "### Answer:\n",
        "```python\n",
        "seconds_per_day / seconds_per_hour  # Result: 24.0\n",
        "```\n",
        "\n",
        "## 6. Divide seconds_per_day by seconds_per_hour, using integer (//) division. Did this number agree with the floating-point value from the previous question, aside from the final .0?\n",
        "\n",
        "### Answer:\n",
        "```python\n",
        "seconds_per_day // seconds_per_hour  # Result: 24\n",
        "```\n",
        "Yes, the result is 24, which agrees with the floating-point value, except without the decimal point.\n",
        "\n",
        "## 7. Write a generator, genPrimes, that returns the sequence of prime numbers on successive calls to its next() method: 2, 3, 5, 7, 11, ...\n",
        "\n",
        "### Answer:\n",
        "```python\n",
        "def genPrimes():\n",
        "    primes = []  # Empty List to store prime numbers\n",
        "    n = 2\n",
        "    while True:\n",
        "        for p in primes:\n",
        "            if n % p == 0:\n",
        "                break\n",
        "        else:\n",
        "            primes.append(n)\n",
        "            yield n\n",
        "        n += 1\n",
        "\n",
        "prime_generator = genPrimes()\n",
        "print(next(prime_generator))  # Output: 2\n",
        "print(next(prime_generator))  # Output: 3\n",
        "print(next(prime_generator))  # Output: 5  # Continue calling next() for more prime numbers\n",
        "```"
      ],
      "metadata": {
        "id": "ndTfitt8FgD4"
      }
    },
    {
      "cell_type": "code",
      "source": [],
      "metadata": {
        "id": "W5ePheWSF01d"
      },
      "execution_count": null,
      "outputs": []
    }
  ]
}