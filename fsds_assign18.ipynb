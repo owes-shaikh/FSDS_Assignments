{
  "nbformat": 4,
  "nbformat_minor": 0,
  "metadata": {
    "colab": {
      "provenance": []
    },
    "kernelspec": {
      "name": "python3",
      "display_name": "Python 3"
    },
    "language_info": {
      "name": "python"
    }
  },
  "cells": [
    {
      "cell_type": "code",
      "execution_count": null,
      "metadata": {
        "id": "60auFTfMe8S1"
      },
      "outputs": [],
      "source": []
    },
    {
      "cell_type": "markdown",
      "source": [
        "### 1. Create a `zoo.py` file first. Define the `hours()` function, which prints the string 'Open 9-5 daily'. Then, use the interactive interpreter to import the zoo module and call its `hours()` function.\n",
        "\n",
        "**File: zoo.py**\n",
        "```python\n",
        "# zoo.py\n",
        "def hours():\n",
        "    print('Open 9-5 daily')\n",
        "```\n",
        "\n",
        "**Interactive Interpreter:**\n",
        "```python\n",
        "# Importing and calling the function from zoo module\n",
        "import zoo\n",
        "zoo.hours()\n",
        "```\n",
        "\n",
        "### 2. In the interactive interpreter, import the `zoo` module as `menagerie` and call its `hours()` function.\n",
        "\n",
        "**Interactive Interpreter:**\n",
        "```python\n",
        "# Importing as menagerie and calling the function\n",
        "import zoo as menagerie\n",
        "menagerie.hours()\n",
        "```\n",
        "\n",
        "### 3. Using the interpreter, explicitly import and call the `hours()` function from `zoo`.\n",
        "\n",
        "**Interactive Interpreter:**\n",
        "```python\n",
        "# Explicitly importing and calling the function\n",
        "from zoo import hours\n",
        "hours()\n",
        "```\n",
        "\n",
        "### 4. Import the `hours()` function as `info` and call it.\n",
        "\n",
        "**Interactive Interpreter:**\n",
        "```python\n",
        "# Importing as info and calling the function\n",
        "from zoo import hours as info\n",
        "info()\n",
        "```\n",
        "\n",
        "### 5. Create a plain dictionary with the key-value pairs 'a': 1, 'b': 2, and 'c': 3, and print it out.\n",
        "\n",
        "**Interactive Interpreter:**\n",
        "```python\n",
        "# Creating and printing a plain dictionary\n",
        "plain_dict = {'a': 1, 'b': 2, 'c': 3}\n",
        "print(plain_dict)\n",
        "```\n",
        "\n",
        "### 6. Make an `OrderedDict` called `fancy` from the same pairs listed in 5 and print it. Did it print in the same order as plain?\n",
        "\n",
        "**Interactive Interpreter:**\n",
        "```python\n",
        "from collections import OrderedDict\n",
        "\n",
        "# Creating and printing an OrderedDict\n",
        "fancy = OrderedDict([('a', 1), ('b', 2), ('c', 3)])\n",
        "print(fancy)\n",
        "```\n",
        "\n",
        "Yes, `OrderedDict` preserves the order of insertion, so it will print in the same order as the plain dictionary.\n",
        "\n",
        "### 7. Make a default dictionary called `dict_of_lists` and pass it the argument `list`. Make the list `dict_of_lists['a']` and append the value 'something for a' to it in one assignment. Print `dict_of_lists['a']`.\n",
        "\n",
        "**Interactive Interpreter:**\n",
        "```python\n",
        "from collections import defaultdict\n",
        "\n",
        "# Creating and printing a defaultdict with a default value of list\n",
        "dict_of_lists = defaultdict(list)\n",
        "dict_of_lists['a'].append('something for a')\n",
        "print(dict_of_lists['a'])\n",
        "```\n",
        "\n",
        "This will print the list `['something for a']` within the defaultdict."
      ],
      "metadata": {
        "id": "NAH5BD6Qf4oQ"
      }
    },
    {
      "cell_type": "code",
      "source": [],
      "metadata": {
        "id": "w00QgZiPf8RM"
      },
      "execution_count": null,
      "outputs": []
    }
  ]
}