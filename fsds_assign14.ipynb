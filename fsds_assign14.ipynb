{
  "nbformat": 4,
  "nbformat_minor": 0,
  "metadata": {
    "colab": {
      "provenance": []
    },
    "kernelspec": {
      "name": "python3",
      "display_name": "Python 3"
    },
    "language_info": {
      "name": "python"
    }
  },
  "cells": [
    {
      "cell_type": "code",
      "execution_count": null,
      "metadata": {
        "id": "ufqUQUaqEjvM"
      },
      "outputs": [],
      "source": []
    },
    {
      "cell_type": "markdown",
      "source": [
        "## 1. What does RGBA stand for?\n",
        "\n",
        "### Answer:\n",
        "RGBA stands for Red, Green, Blue, and Alpha. It is a color model that represents colors in digital images, where the alpha channel represents the level of transparency.\n",
        "\n",
        "## 2. From the Pillow module, how do you get the RGBA value of any images?\n",
        "\n",
        "### Answer:\n",
        "You can use the `getpixel()` method from the Pillow module to get the RGBA values of any pixel in an image.\n",
        "\n",
        "## 3. What is a box tuple, and how does it work?\n",
        "\n",
        "### Answer:\n",
        "A box tuple is a tuple containing four integers representing the left, top, right, and bottom coordinates of a rectangular region in an image. It defines a box or an area within an image.\n",
        "\n",
        "## 4. Use your image and load in a notebook, then how can you find out the width and height of an Image object?\n",
        "\n",
        "### Answer:\n",
        "```python\n",
        "from PIL import Image\n",
        "\n",
        "# Load the image\n",
        "image = Image.open(\"your_image.jpg\")\n",
        "\n",
        "# Get the width and height\n",
        "width, height = image.size\n",
        "print(f\"Width: {width}, Height: {height}\")\n",
        "```\n",
        "\n",
        "## 5. What method would you call to get an Image object for a 100×100 image, excluding the lower-left quarter of it?\n",
        "\n",
        "### Answer:\n",
        "```python\n",
        "cropped_image = image.crop((0, 0, 50, 50))\n",
        "```\n",
        "\n",
        "## 6. After making changes to an Image object, how could you save it as an image file?\n",
        "\n",
        "### Answer:\n",
        "```python\n",
        "# Assuming 'modified_image' is the modified Image object\n",
        "modified_image.save(\"new_image.jpg\")\n",
        "```\n",
        "\n",
        "## 7. What module contains Pillow’s shape-drawing code?\n",
        "\n",
        "### Answer:\n",
        "The shape-drawing code in Pillow is contained in the `ImageDraw` module.\n",
        "\n",
        "## 8. Image objects do not have drawing methods. What kind of object does? How do you get this kind of object?\n",
        "\n",
        "### Answer:\n",
        "The `ImageDraw` object has drawing methods. You can get an `ImageDraw` object by calling the `ImageDraw.Draw()` function, passing it the Image object you want to draw on."
      ],
      "metadata": {
        "id": "-_rT1Qz6En6Z"
      }
    },
    {
      "cell_type": "code",
      "source": [],
      "metadata": {
        "id": "WJ-Yn6IVEqWc"
      },
      "execution_count": null,
      "outputs": []
    }
  ]
}