{
 "cells": [
  {
   "cell_type": "code",
   "execution_count": null,
   "id": "b086f649-db6b-4a47-a204-778aa7282ca7",
   "metadata": {},
   "outputs": [],
   "source": []
  },
  {
   "cell_type": "code",
   "execution_count": 1,
   "id": "501faa93-7f30-41cc-b2d1-6138e5687303",
   "metadata": {},
   "outputs": [],
   "source": [
    "# Q1.What does an empty dictionary's code look like?"
   ]
  },
  {
   "cell_type": "code",
   "execution_count": 1,
   "id": "e1ce2671-4dd1-4413-a490-2f0de2e10130",
   "metadata": {},
   "outputs": [
    {
     "data": {
      "text/plain": [
       "{}"
      ]
     },
     "execution_count": 1,
     "metadata": {},
     "output_type": "execute_result"
    }
   ],
   "source": [
    "{}"
   ]
  },
  {
   "cell_type": "code",
   "execution_count": 2,
   "id": "ce7ed20c-0689-4af1-a0a1-024f8a632193",
   "metadata": {},
   "outputs": [],
   "source": [
    "# Q2.What is the value of a dictionary value with the key 'foo' and the value 42?"
   ]
  },
  {
   "cell_type": "code",
   "execution_count": 5,
   "id": "2d33e220-1b7d-4185-9977-906662dad56c",
   "metadata": {},
   "outputs": [
    {
     "data": {
      "text/plain": [
       "dict"
      ]
     },
     "execution_count": 5,
     "metadata": {},
     "output_type": "execute_result"
    }
   ],
   "source": [
    "dic = {'foo':42}\n",
    "type(dic)"
   ]
  },
  {
   "cell_type": "code",
   "execution_count": 3,
   "id": "fcc60947-7b16-413d-b26f-c0714b9f4818",
   "metadata": {},
   "outputs": [],
   "source": [
    "# Q3.What is the most significant distinction between a dictionary and a list?"
   ]
  },
  {
   "cell_type": "code",
   "execution_count": 6,
   "id": "8d415844-981f-4301-9a9f-dd6cad3537e9",
   "metadata": {},
   "outputs": [],
   "source": [
    "# the values in the list are arranged in orderly manner, while in a dictionary the key and the values are not in arranged in orderly manner.\n",
    "# we can call the value in the list by indexing and in case of dictionary first we have to call the key first then we get the value"
   ]
  },
  {
   "cell_type": "code",
   "execution_count": 4,
   "id": "246a7d44-4e7e-40d4-aac8-15ecc308dc5b",
   "metadata": {},
   "outputs": [],
   "source": [
    "# Q4.What happens if you try to access spam['foo'] if spam is {'bar': 100}?"
   ]
  },
  {
   "cell_type": "code",
   "execution_count": 7,
   "id": "9464cb41-6aa7-401b-9001-53c65893ef9c",
   "metadata": {},
   "outputs": [
    {
     "ename": "KeyError",
     "evalue": "'foo'",
     "output_type": "error",
     "traceback": [
      "\u001b[0;31m---------------------------------------------------------------------------\u001b[0m",
      "\u001b[0;31mKeyError\u001b[0m                                  Traceback (most recent call last)",
      "Cell \u001b[0;32mIn [7], line 2\u001b[0m\n\u001b[1;32m      1\u001b[0m spam \u001b[38;5;241m=\u001b[39m {\u001b[38;5;124m'\u001b[39m\u001b[38;5;124mbar\u001b[39m\u001b[38;5;124m'\u001b[39m: \u001b[38;5;241m100\u001b[39m}\n\u001b[0;32m----> 2\u001b[0m \u001b[43mspam\u001b[49m\u001b[43m[\u001b[49m\u001b[38;5;124;43m'\u001b[39;49m\u001b[38;5;124;43mfoo\u001b[39;49m\u001b[38;5;124;43m'\u001b[39;49m\u001b[43m]\u001b[49m\n",
      "\u001b[0;31mKeyError\u001b[0m: 'foo'"
     ]
    }
   ],
   "source": [
    "# we will get key error\n",
    "spam = {'bar': 100}\n",
    "spam['foo']\n"
   ]
  },
  {
   "cell_type": "code",
   "execution_count": null,
   "id": "3765fbc1-408e-408a-9044-8508eda3f849",
   "metadata": {},
   "outputs": [],
   "source": []
  },
  {
   "cell_type": "code",
   "execution_count": null,
   "id": "f4fa8598-c5ea-4ff0-ad96-7fe61c6baeab",
   "metadata": {},
   "outputs": [],
   "source": [
    "# Q5.If a dictionary is stored in spam, what is the difference between the expressions 'cat' in spam and\n",
    "# 'cat' in spam.keys()?"
   ]
  },
  {
   "cell_type": "code",
   "execution_count": 10,
   "id": "dfc654a2-9d73-470d-94c6-4c4bc1b37138",
   "metadata": {},
   "outputs": [
    {
     "data": {
      "text/plain": [
       "dict_keys(['cat'])"
      ]
     },
     "execution_count": 10,
     "metadata": {},
     "output_type": "execute_result"
    }
   ],
   "source": [
    "# It will only check if the key is present or not\n",
    "spam = {'cat': 42}\n",
    "spam.keys()"
   ]
  },
  {
   "cell_type": "code",
   "execution_count": null,
   "id": "cb6e9652-5858-40df-b3c4-1c9a5c15e8df",
   "metadata": {},
   "outputs": [],
   "source": []
  },
  {
   "cell_type": "code",
   "execution_count": null,
   "id": "aa796249-6ddc-492f-bf18-f389cc54cf67",
   "metadata": {},
   "outputs": [],
   "source": [
    "# Q6.If a dictionary is stored in spam, what is the difference between the expressions 'cat'; in spam and\n",
    "# 'cat' in spam.values()?"
   ]
  },
  {
   "cell_type": "code",
   "execution_count": null,
   "id": "653fef1a-06e9-4770-80a5-525749b30a98",
   "metadata": {},
   "outputs": [],
   "source": [
    "# 'cat' in spam checks whether there is a 'cat' key in the dictionary, while 'cat' in spam.values() checks whether there is a value 'cat' for one of the keys in spam."
   ]
  },
  {
   "cell_type": "code",
   "execution_count": 15,
   "id": "84abbb72-3223-401e-a769-277a9a08d666",
   "metadata": {},
   "outputs": [
    {
     "data": {
      "text/plain": [
       "dict_values([42])"
      ]
     },
     "execution_count": 15,
     "metadata": {},
     "output_type": "execute_result"
    }
   ],
   "source": [
    "spam.values()"
   ]
  },
  {
   "cell_type": "code",
   "execution_count": null,
   "id": "586220c8-5c2c-4bfd-bb12-1557276283d2",
   "metadata": {},
   "outputs": [],
   "source": [
    "# Q7.What is a shortcut for the following code?\n",
    "if 'color' not in spam:\n",
    "spam['color'] = 'black'"
   ]
  },
  {
   "cell_type": "code",
   "execution_count": 16,
   "id": "7ad19c6f-84c5-4070-82c1-7b1cb1a26d6b",
   "metadata": {},
   "outputs": [
    {
     "data": {
      "text/plain": [
       "'black'"
      ]
     },
     "execution_count": 16,
     "metadata": {},
     "output_type": "execute_result"
    }
   ],
   "source": [
    "spam.setdefault('color','black')"
   ]
  },
  {
   "cell_type": "code",
   "execution_count": null,
   "id": "43ea57c8-a1a9-44c4-8123-d0ff000e80c3",
   "metadata": {},
   "outputs": [],
   "source": []
  },
  {
   "cell_type": "code",
   "execution_count": null,
   "id": "00a07462-5ef7-45ad-b7f7-08971d02868c",
   "metadata": {},
   "outputs": [],
   "source": [
    "# Q8.How do you \"pretty print\" dictionary values using which module and function?"
   ]
  },
  {
   "cell_type": "code",
   "execution_count": 18,
   "id": "6ff16f1f-60bb-4d67-9253-2d2efcc5ccfe",
   "metadata": {},
   "outputs": [],
   "source": [
    " pprint.ppprint()"
   ]
  },
  {
   "cell_type": "code",
   "execution_count": null,
   "id": "a0ae553c-2d01-42a6-99f3-d28d208e5ec3",
   "metadata": {},
   "outputs": [],
   "source": []
  }
 ],
 "metadata": {
  "kernelspec": {
   "display_name": "Python 3 (ipykernel)",
   "language": "python",
   "name": "python3"
  },
  "language_info": {
   "codemirror_mode": {
    "name": "ipython",
    "version": 3
   },
   "file_extension": ".py",
   "mimetype": "text/x-python",
   "name": "python",
   "nbconvert_exporter": "python",
   "pygments_lexer": "ipython3",
   "version": "3.10.6"
  }
 },
 "nbformat": 4,
 "nbformat_minor": 5
}
