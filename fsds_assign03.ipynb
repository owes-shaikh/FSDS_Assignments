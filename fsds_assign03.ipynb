{
 "cells": [
  {
   "cell_type": "code",
   "execution_count": 1,
   "id": "f2bf4f60-9cb8-4f56-bfba-47271fa296db",
   "metadata": {},
   "outputs": [],
   "source": [
    "# Q1.Why are functions advantageous to have in your programs?"
   ]
  },
  {
   "cell_type": "code",
   "execution_count": 2,
   "id": "7446a164-13d3-401d-8a79-6c35855ea1f3",
   "metadata": {},
   "outputs": [],
   "source": [
    "# Ans- Functions reduce the need for duplicate code and can be use easily and helps on reducing the code. This makes programs shorter, easier to read, and easier\n",
    "#      to update."
   ]
  },
  {
   "cell_type": "code",
   "execution_count": null,
   "id": "0c55972d-f886-4cad-8d57-a6d33b1f75c0",
   "metadata": {},
   "outputs": [],
   "source": []
  },
  {
   "cell_type": "code",
   "execution_count": 3,
   "id": "8a88ed62-0132-410b-a5e6-001315c82ddc",
   "metadata": {},
   "outputs": [],
   "source": [
    "# Q2.When does the code in a function run: when it's specified or when it's called?"
   ]
  },
  {
   "cell_type": "code",
   "execution_count": 4,
   "id": "10eab805-1021-4162-9583-6f1a41970ab4",
   "metadata": {},
   "outputs": [],
   "source": [
    "#    The code in a function executes when the function is called, not when the function is defined."
   ]
  },
  {
   "cell_type": "code",
   "execution_count": null,
   "id": "261b667b-373b-49e6-9733-f7b95543629a",
   "metadata": {},
   "outputs": [],
   "source": []
  },
  {
   "cell_type": "code",
   "execution_count": 8,
   "id": "0cff285d-f674-46df-8ea5-c22fb20dbca6",
   "metadata": {},
   "outputs": [],
   "source": [
    "# Q3.What statement creates a function?"
   ]
  },
  {
   "cell_type": "code",
   "execution_count": 6,
   "id": "7eaeda1f-3b28-4caa-9752-2a7b3b3173a2",
   "metadata": {},
   "outputs": [],
   "source": [
    "# The def statement defines, i.e. creates a function."
   ]
  },
  {
   "cell_type": "code",
   "execution_count": null,
   "id": "4f1aa6e0-0356-485e-9f65-b9ea387105e6",
   "metadata": {},
   "outputs": [],
   "source": []
  },
  {
   "cell_type": "code",
   "execution_count": 9,
   "id": "9bdbd52f-303b-401a-abf6-7b2896417f20",
   "metadata": {},
   "outputs": [],
   "source": [
    "# Q4. What is the difference between a function and a function call?"
   ]
  },
  {
   "cell_type": "code",
   "execution_count": 10,
   "id": "7b604f16-30e0-4fc7-8e53-4ddc23523dcb",
   "metadata": {},
   "outputs": [],
   "source": [
    "# Ans- A Function is a reusable piece of code. It can have input data on which it can operate (i.e. arguments)\n",
    "#      and it can also return data by having a return type.\n",
    "#      the method is similar to a function but has two important differences when compared to a function.\n",
    "#         1.A method is limited to operating on data inside the class in which the method is contained.\n",
    "#         2.It is a concept of object-oriented programming language."
   ]
  },
  {
   "cell_type": "code",
   "execution_count": null,
   "id": "db622b43-7c25-4a05-9005-9ba4f8c02201",
   "metadata": {},
   "outputs": [],
   "source": []
  },
  {
   "cell_type": "code",
   "execution_count": 11,
   "id": "c65915c1-a831-479c-aae0-b2e8f5b19b84",
   "metadata": {},
   "outputs": [],
   "source": [
    "# Q5. How many global scopes are there in a Python program? How many local scopes?"
   ]
  },
  {
   "cell_type": "code",
   "execution_count": 12,
   "id": "de4ccbe5-5d6d-4e3d-b845-5053c4904cb8",
   "metadata": {},
   "outputs": [],
   "source": [
    "# There is one global scope, and a local scope is created whenever a function is called."
   ]
  },
  {
   "cell_type": "code",
   "execution_count": null,
   "id": "d842dde4-6d0a-41fa-87ec-3d572b7d1e3a",
   "metadata": {},
   "outputs": [],
   "source": []
  },
  {
   "cell_type": "code",
   "execution_count": 13,
   "id": "f8fd824b-7c35-4fed-b7d3-2e2c65ee6674",
   "metadata": {},
   "outputs": [],
   "source": [
    "# Q6. What happens to variables in a local scope when the function call returns?"
   ]
  },
  {
   "cell_type": "code",
   "execution_count": 15,
   "id": "b989eb7f-d3f7-4ea7-921e-7346eded15a6",
   "metadata": {},
   "outputs": [],
   "source": [
    "# When a function returns, the local scope is terminated, and all the variables in it are lost."
   ]
  },
  {
   "cell_type": "code",
   "execution_count": null,
   "id": "6218a7b1-0ebc-4b72-b94a-33348ec53b1d",
   "metadata": {},
   "outputs": [],
   "source": []
  },
  {
   "cell_type": "code",
   "execution_count": null,
   "id": "318ed367-694b-4aaf-89c3-2ca8a1ca0cb7",
   "metadata": {},
   "outputs": [],
   "source": [
    "# Q7.What is the concept of a return value? Is it possible to have a return value in an expression?"
   ]
  },
  {
   "cell_type": "code",
   "execution_count": null,
   "id": "2b715df7-b5a2-415c-bc81-17cf6081ea3e",
   "metadata": {},
   "outputs": [],
   "source": [
    "# A return is a value that a function returns to the calling script or function when it completes its task,\n",
    "# Like any value, a return value can be used as part of an expression."
   ]
  },
  {
   "cell_type": "code",
   "execution_count": null,
   "id": "63bb7298-3cbb-441d-b396-ca7b4b629c82",
   "metadata": {},
   "outputs": [],
   "source": []
  },
  {
   "cell_type": "code",
   "execution_count": null,
   "id": "3c775cd9-90bd-486d-a4e4-b0ed6be5fc94",
   "metadata": {},
   "outputs": [],
   "source": [
    "# Q8.If a function does not have a return statement, what is the return value of a call to that function?"
   ]
  },
  {
   "cell_type": "code",
   "execution_count": null,
   "id": "8d1ac23c-4245-4903-b13d-0014af5f8ea6",
   "metadata": {},
   "outputs": [],
   "source": [
    "# The return value is None."
   ]
  },
  {
   "cell_type": "code",
   "execution_count": null,
   "id": "b3a8b65c-f02f-4041-a5e6-81eb7922ce33",
   "metadata": {},
   "outputs": [],
   "source": []
  },
  {
   "cell_type": "code",
   "execution_count": null,
   "id": "a89966c2-5818-4bf5-bb8f-eb860b7ba8f1",
   "metadata": {},
   "outputs": [],
   "source": [
    "# Q9.How do you make a function variable refer to the global variable?"
   ]
  },
  {
   "cell_type": "code",
   "execution_count": 16,
   "id": "133a526a-1919-4910-8a29-cc64447baf71",
   "metadata": {},
   "outputs": [
    {
     "name": "stdout",
     "output_type": "stream",
     "text": [
      "Python is snake\n"
     ]
    }
   ],
   "source": [
    "# Create a variable outside of a function, and use it inside the function\n",
    "x = \"snake\"\n",
    "\n",
    "def myfunc():\n",
    "  print(\"Python is \" + x)\n",
    "\n",
    "myfunc()"
   ]
  },
  {
   "cell_type": "code",
   "execution_count": null,
   "id": "ffe6508f-12a0-4b22-b4b1-0236a77b8df6",
   "metadata": {},
   "outputs": [],
   "source": [
    "# Q10.What is the data type of None?"
   ]
  },
  {
   "cell_type": "code",
   "execution_count": null,
   "id": "fd07989f-be2f-4288-bc6c-bfa31239c7f6",
   "metadata": {},
   "outputs": [],
   "source": [
    "# The data type of None is Nonetype."
   ]
  },
  {
   "cell_type": "code",
   "execution_count": null,
   "id": "64bf000f-e11b-4fd4-ac52-eaca9f3b45ff",
   "metadata": {},
   "outputs": [],
   "source": []
  },
  {
   "cell_type": "code",
   "execution_count": null,
   "id": "3ab06525-aac0-4f05-bd06-c4cbbebbe6d7",
   "metadata": {},
   "outputs": [],
   "source": [
    "# Q11.What does the sentence import areallyourpetsnamederic do?"
   ]
  },
  {
   "cell_type": "code",
   "execution_count": null,
   "id": "fcfaded1-b9ed-4b27-a22b-425653a74eda",
   "metadata": {},
   "outputs": [],
   "source": [
    "# That import statement imports a module named areallyourpetsnamederic"
   ]
  },
  {
   "cell_type": "code",
   "execution_count": null,
   "id": "cd911ae8-2f4c-4d2e-9edf-9089b3c2f731",
   "metadata": {},
   "outputs": [],
   "source": []
  },
  {
   "cell_type": "code",
   "execution_count": null,
   "id": "b0ba506a-0a98-41d9-827c-2428e749cb9f",
   "metadata": {},
   "outputs": [],
   "source": [
    "# Q12.If you had a bacon() feature in a spam module, what would you call it after importing spam?"
   ]
  },
  {
   "cell_type": "code",
   "execution_count": 18,
   "id": "9688c1c3-93c4-4954-89ee-30a3c3684228",
   "metadata": {},
   "outputs": [],
   "source": [
    "# spam.bacon()"
   ]
  },
  {
   "cell_type": "code",
   "execution_count": null,
   "id": "8ee77dd5-9a57-4729-a05f-8516afa342eb",
   "metadata": {},
   "outputs": [],
   "source": []
  },
  {
   "cell_type": "code",
   "execution_count": null,
   "id": "896ec942-2ec7-4ff9-937a-90bc9d627193",
   "metadata": {},
   "outputs": [],
   "source": [
    "# Q13.What can you do to save a programme from crashing if it encounters an error?"
   ]
  },
  {
   "cell_type": "code",
   "execution_count": null,
   "id": "7904e0b9-82ce-4367-88c4-ea353d91b1c1",
   "metadata": {},
   "outputs": [],
   "source": [
    "# As we do in exceptional handling by putting the error or may cause error block of code in try clause"
   ]
  },
  {
   "cell_type": "code",
   "execution_count": null,
   "id": "276dbd86-2949-4af6-95b9-57876b1a975a",
   "metadata": {},
   "outputs": [],
   "source": []
  },
  {
   "cell_type": "code",
   "execution_count": null,
   "id": "7138c6d1-8d26-48f4-80f4-6d4e9dbdfb29",
   "metadata": {},
   "outputs": [],
   "source": [
    "# Q14.What is the purpose of the try clause? What is the purpose of the except clause?"
   ]
  },
  {
   "cell_type": "code",
   "execution_count": null,
   "id": "1fe7764f-2a60-40cb-84ad-c090cc08bd66",
   "metadata": {},
   "outputs": [],
   "source": [
    "# The code that could potentially cause an error goes in the try clause.\n",
    "# -The code that executes if an error happens goes in the except clause."
   ]
  }
 ],
 "metadata": {
  "kernelspec": {
   "display_name": "Python 3 (ipykernel)",
   "language": "python",
   "name": "python3"
  },
  "language_info": {
   "codemirror_mode": {
    "name": "ipython",
    "version": 3
   },
   "file_extension": ".py",
   "mimetype": "text/x-python",
   "name": "python",
   "nbconvert_exporter": "python",
   "pygments_lexer": "ipython3",
   "version": "3.10.6"
  }
 },
 "nbformat": 4,
 "nbformat_minor": 5
}
