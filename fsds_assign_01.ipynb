{
 "cells": [
  {
   "cell_type": "code",
   "execution_count": null,
   "id": "f800e488-33b0-4a1e-b8a2-d7b2f79d6ec0",
   "metadata": {},
   "outputs": [],
   "source": []
  },
  {
   "cell_type": "code",
   "execution_count": 10,
   "id": "5ea98b61-ff38-4110-bf2e-99efa29b0130",
   "metadata": {},
   "outputs": [],
   "source": [
    "## 1. In the below elements which of them are values or an expression? eg:- values can be integer or string and expressions will be mathematical operators.* , 'hello' , -87.8, -, / , + , 6 \n"
   ]
  },
  {
   "cell_type": "code",
   "execution_count": 2,
   "id": "0b1f0495-6dae-443f-a56a-e34efb0e0ddd",
   "metadata": {},
   "outputs": [],
   "source": [
    "# ANS - Values are 'hello', -87.8, 6\n",
    "#     - expressions are *, -, /, +"
   ]
  },
  {
   "cell_type": "code",
   "execution_count": 7,
   "id": "d66a80a1-2275-4aee-8864-2126fc4982ee",
   "metadata": {},
   "outputs": [],
   "source": [
    "# Q2. What is the difference between string and variable?"
   ]
  },
  {
   "cell_type": "code",
   "execution_count": 8,
   "id": "e99efac0-e3a3-4a8b-9069-a01005972b99",
   "metadata": {},
   "outputs": [],
   "source": [
    "# ANS -  n Python, a string is a sequence of characters enclosed in quotation marks, while a variable is a named container that holds a value. Strings are used to represent text, while variables can hold any type of data, including integer, floating point, string, boolean."
   ]
  },
  {
   "cell_type": "code",
   "execution_count": 9,
   "id": "c00b50f3-5fd0-4200-b708-d42da23b0660",
   "metadata": {},
   "outputs": [],
   "source": [
    "# Q3. Describe three different data types ?\n"
   ]
  },
  {
   "cell_type": "code",
   "execution_count": 11,
   "id": "51d1aa7a-bed8-4620-bb8e-d9235bd68db1",
   "metadata": {},
   "outputs": [],
   "source": [
    "# ANS - text type : str\n",
    "#       num type  : int, float, complex\n",
    "#       sequence type : list, tuple, range\n",
    "#       mapping type : dict\n",
    "#       set types : set, forzen set\n",
    "#       boolean type : bool\n",
    "#       1.String Data Type:\n",
    "#          Strings in Python are arrays of bytes representing Unicode characters. A string is a collection of one or more characters put in a single quote, double-quote, or triple-quote. In python there is no character data type, a character is a string of length one. It is represented by str class.  \n",
    "#       2.List Data Type:\n",
    "#          Lists are just like arrays, declared in other languages which is an ordered collection of data. It is very flexible as the items in a list do not need to be of the same type.  \n",
    "#       3.Tuple Data Types:\n",
    "#          A tuple is also an ordered collection of Python objects. The only difference between a tuple and a list is that tuples are immutable i.e. tuples cannot be modified after it is created. It is represented by a tuple class. "
   ]
  },
  {
   "cell_type": "code",
   "execution_count": 12,
   "id": "fd914e77-06ec-43fe-8989-b2dcc1b75f0e",
   "metadata": {},
   "outputs": [],
   "source": [
    "# Q4. What is an expression made up of? What do all expressions do?"
   ]
  },
  {
   "cell_type": "code",
   "execution_count": null,
   "id": "78a6c8ee-7660-4943-92ab-3d1c2c090043",
   "metadata": {},
   "outputs": [],
   "source": [
    "# ANS - Expression: An expression is a combination of operators, constants and variables. An expression may consist of one or more operands, and zero or more operators to produce a value. An expression in Python produces some value or result after being interpreted by the Python interpreter. An expression in Python is a combination of operators and operands.\n",
    "\n",
    "#       An example of expression can be : x=x+10. In this expression, the first 10 is added to the variable x."
   ]
  },
  {
   "cell_type": "code",
   "execution_count": 13,
   "id": "70bec7f5-0aaf-4b07-9c22-9aeb0645cae2",
   "metadata": {},
   "outputs": [],
   "source": [
    "# Q5. This assignment statements, like spam = 10. What is the difference between an expression and a statement?"
   ]
  },
  {
   "cell_type": "code",
   "execution_count": 14,
   "id": "1cda5319-8459-4ba6-b22c-aea4df3e9f33",
   "metadata": {},
   "outputs": [],
   "source": [
    "# Ans - Expressions can be assigned or used as operands, while statements can only be declared. such as the value 5 is assigned to the variable spam and can be used as a operand while if we try to have a statement it cannot be use as am operand"
   ]
  },
  {
   "cell_type": "code",
   "execution_count": 15,
   "id": "db7b6f50-5778-494d-8b1d-a44f7e41aa25",
   "metadata": {},
   "outputs": [],
   "source": [
    "# Q6. After running the following code, what does the variable bacon contain? bacon = 22, bacon + 1"
   ]
  },
  {
   "cell_type": "code",
   "execution_count": 16,
   "id": "1b544a03-8e42-4cee-ac43-ca46348b66e8",
   "metadata": {},
   "outputs": [],
   "source": [
    "# ANS - the initial value of the bacon is = 22, then is we apply the expression (bacon + 1) then the value changes to (22 + 1 ) = 23, but the value of bacon remains the same as = 22"
   ]
  },
  {
   "cell_type": "code",
   "execution_count": 30,
   "id": "c4226b0d-3abe-45d4-9d6d-b542716f077f",
   "metadata": {},
   "outputs": [
    {
     "data": {
      "text/plain": [
       "23"
      ]
     },
     "execution_count": 30,
     "metadata": {},
     "output_type": "execute_result"
    }
   ],
   "source": [
    "bacon = 22\n",
    "bacon + 1 "
   ]
  },
  {
   "cell_type": "code",
   "execution_count": 31,
   "id": "3ecf8089-dfb4-41fe-872b-fa2c2cc74d2d",
   "metadata": {},
   "outputs": [
    {
     "data": {
      "text/plain": [
       "22"
      ]
     },
     "execution_count": 31,
     "metadata": {},
     "output_type": "execute_result"
    }
   ],
   "source": [
    "bacon"
   ]
  },
  {
   "cell_type": "code",
   "execution_count": 17,
   "id": "3c2f6dfd-6bd1-4d25-bc90-1efc85ae8e65",
   "metadata": {},
   "outputs": [],
   "source": [
    "# Q7. What should the values of the following two terms be? 'spam' + 'spamspam', 'spam' * 3"
   ]
  },
  {
   "cell_type": "code",
   "execution_count": null,
   "id": "007bbd0e-9735-4028-b7b7-5926d67c0d8d",
   "metadata": {},
   "outputs": [],
   "source": [
    "# ANS  - Both of them will have the same results as it will append in both cases and the final result will be 'spamspamspam'"
   ]
  },
  {
   "cell_type": "code",
   "execution_count": 18,
   "id": "fe07112d-45bc-4a3e-8caa-efc58fde4f13",
   "metadata": {},
   "outputs": [
    {
     "data": {
      "text/plain": [
       "'spamspamspam'"
      ]
     },
     "execution_count": 18,
     "metadata": {},
     "output_type": "execute_result"
    }
   ],
   "source": [
    "'spam' + 'spamspam'"
   ]
  },
  {
   "cell_type": "code",
   "execution_count": 19,
   "id": "662b5c77-5dd2-44b2-94f1-5d2e40ad93ba",
   "metadata": {},
   "outputs": [
    {
     "data": {
      "text/plain": [
       "'spamspamspam'"
      ]
     },
     "execution_count": 19,
     "metadata": {},
     "output_type": "execute_result"
    }
   ],
   "source": [
    "'spam' * 3"
   ]
  },
  {
   "cell_type": "code",
   "execution_count": 20,
   "id": "7269b516-f033-4af4-b596-966c67ae8617",
   "metadata": {},
   "outputs": [],
   "source": [
    "# Q8. Why is eggs a valid variable name while 100 is invalid?"
   ]
  },
  {
   "cell_type": "code",
   "execution_count": 21,
   "id": "e8f67d80-f472-4c74-bc2c-199e6339cba2",
   "metadata": {},
   "outputs": [],
   "source": [
    "# ANS - A variable name cannot be an interger"
   ]
  },
  {
   "cell_type": "code",
   "execution_count": 22,
   "id": "e3da62ab-7d7b-4cf0-87a5-a565cf3d020f",
   "metadata": {},
   "outputs": [],
   "source": [
    "# Q9. What three functions can be used to get the integer, floating-point number, or string version of a value?"
   ]
  },
  {
   "cell_type": "code",
   "execution_count": 23,
   "id": "ddca0616-50f5-41a5-9f96-7891b1024add",
   "metadata": {},
   "outputs": [],
   "source": [
    "# ANS - int() to get integer, float() to get floating point number, and str() to get string are the functions which will evaluate to the integer, floating point number, string versions of the values passed to them."
   ]
  },
  {
   "cell_type": "code",
   "execution_count": 24,
   "id": "1094cb97-3752-4726-823c-d556a50090e8",
   "metadata": {},
   "outputs": [],
   "source": [
    "# Q10. Why does this expression cause an error? How can you fix it? 'I have eaten' + 99 + 'burritos' "
   ]
  },
  {
   "cell_type": "code",
   "execution_count": null,
   "id": "5ceae32b-d5d5-4e50-9a15-1a90f3535b94",
   "metadata": {},
   "outputs": [],
   "source": [
    "99 # ANS - It gives an error beacause in python it cannot concatenate string and an integer and to solve this we have to put 99 either as a string "
   ]
  },
  {
   "cell_type": "code",
   "execution_count": 25,
   "id": "1b14c74d-d798-436f-b97c-ae989557e065",
   "metadata": {},
   "outputs": [
    {
     "ename": "TypeError",
     "evalue": "can only concatenate str (not \"int\") to str",
     "output_type": "error",
     "traceback": [
      "\u001b[0;31m---------------------------------------------------------------------------\u001b[0m",
      "\u001b[0;31mTypeError\u001b[0m                                 Traceback (most recent call last)",
      "Cell \u001b[0;32mIn [25], line 1\u001b[0m\n\u001b[0;32m----> 1\u001b[0m \u001b[38;5;124;43m'\u001b[39;49m\u001b[38;5;124;43mI have eaten\u001b[39;49m\u001b[38;5;124;43m'\u001b[39;49m\u001b[43m \u001b[49m\u001b[38;5;241;43m+\u001b[39;49m\u001b[43m \u001b[49m\u001b[38;5;241;43m99\u001b[39;49m \u001b[38;5;241m+\u001b[39m \u001b[38;5;124m'\u001b[39m\u001b[38;5;124mburritos\u001b[39m\u001b[38;5;124m'\u001b[39m\n",
      "\u001b[0;31mTypeError\u001b[0m: can only concatenate str (not \"int\") to str"
     ]
    }
   ],
   "source": [
    "'I have eaten' + 99 + 'burritos'"
   ]
  },
  {
   "cell_type": "code",
   "execution_count": 27,
   "id": "5de1244f-fde9-42b8-9c01-b816ed3b6a78",
   "metadata": {},
   "outputs": [
    {
     "data": {
      "text/plain": [
       "'I have eaten 99 burritos'"
      ]
     },
     "execution_count": 27,
     "metadata": {},
     "output_type": "execute_result"
    }
   ],
   "source": [
    "'I have eaten' + ' 99 ' + 'burritos'"
   ]
  },
  {
   "cell_type": "code",
   "execution_count": null,
   "id": "0c16ccac-ee97-487d-9140-0a43e1ad26d2",
   "metadata": {},
   "outputs": [],
   "source": []
  },
  {
   "cell_type": "code",
   "execution_count": null,
   "id": "d45e3aae-7624-47a0-8cb7-f1de63bd6ce0",
   "metadata": {},
   "outputs": [],
   "source": []
  }
 ],
 "metadata": {
  "kernelspec": {
   "display_name": "Python 3 (ipykernel)",
   "language": "python",
   "name": "python3"
  },
  "language_info": {
   "codemirror_mode": {
    "name": "ipython",
    "version": 3
   },
   "file_extension": ".py",
   "mimetype": "text/x-python",
   "name": "python",
   "nbconvert_exporter": "python",
   "pygments_lexer": "ipython3",
   "version": "3.10.6"
  }
 },
 "nbformat": 4,
 "nbformat_minor": 5
}
