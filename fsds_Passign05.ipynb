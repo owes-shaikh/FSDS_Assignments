{
  "nbformat": 4,
  "nbformat_minor": 0,
  "metadata": {
    "colab": {
      "provenance": []
    },
    "kernelspec": {
      "name": "python3",
      "display_name": "Python 3"
    },
    "language_info": {
      "name": "python"
    }
  },
  "cells": [
    {
      "cell_type": "markdown",
      "source": [
        "## 1. Write a Python Program to Find LCM?\n"
      ],
      "metadata": {
        "id": "HxjTnf9f-oQ_"
      }
    },
    {
      "cell_type": "code",
      "source": [
        "def compute_lcm(n1,n2):\n",
        "  if n1 > n2:\n",
        "    higher = n1\n",
        "  else:\n",
        "    higher = n2\n",
        "\n",
        "  value = higher\n",
        "\n",
        "  while True:\n",
        "    if higher % n1==0 and higher % n2==0:\n",
        "      print(f\"LCM of {n1} and {n2} is {higher}\")\n",
        "      break\n",
        "    else:\n",
        "      higher = higher + value\n",
        "\n",
        "n1 = int(input(\"Enter 1st num : \"))\n",
        "n2 = int(input(\"Enter 2nd num : \"))\n",
        "compute_lcm(n1,n2)"
      ],
      "metadata": {
        "colab": {
          "base_uri": "https://localhost:8080/"
        },
        "id": "jf3HmwEA-1Aq",
        "outputId": "85436e20-a279-4a38-a185-4a0c84b55458"
      },
      "execution_count": 18,
      "outputs": [
        {
          "output_type": "stream",
          "name": "stdout",
          "text": [
            "Enter 1st num : 24\n",
            "Enter 2nd num : 36\n",
            "LCM of 24 and 36 is 72\n"
          ]
        }
      ]
    },
    {
      "cell_type": "code",
      "source": [
        "def lcm(n1,n2):\n",
        "  higher = max(n1,n2)\n",
        "  smaller = min(n1,n2)\n",
        "\n",
        "  for i in range(higher, higher*smaller+1, higher):\n",
        "    if i % smaller == 0:\n",
        "      return i\n",
        "\n",
        "if __name__ == '__main__':\n",
        "  n1 = int(input(\"Enter 1st number : \"))\n",
        "  n2 = int(input(\"Enter 2nd number : \"))\n",
        "  result = lcm(n1,n2)\n",
        "  print(f\"The LCM of {n1} and {n2} is {result}\")\n"
      ],
      "metadata": {
        "colab": {
          "base_uri": "https://localhost:8080/"
        },
        "id": "UUcJWYtQY-wx",
        "outputId": "58d74d99-adb3-46e9-9d21-fabe83de7f8c"
      },
      "execution_count": 17,
      "outputs": [
        {
          "output_type": "stream",
          "name": "stdout",
          "text": [
            "Enter 1st number : 24\n",
            "Enter 2nd number : 36\n",
            "The LCM of 24 and 36 is 72\n"
          ]
        }
      ]
    },
    {
      "cell_type": "markdown",
      "source": [
        "## 2. Write a Python Program to Find HCF?\n"
      ],
      "metadata": {
        "id": "AgTLxgQW-oIk"
      }
    },
    {
      "cell_type": "code",
      "source": [
        "def hcf(a,b): # HCF or GCD\n",
        "  higher = max(a,b)\n",
        "  smaller = min(a,b)\n",
        "\n",
        "  if smaller == 0:\n",
        "    return higher\n",
        "  else:\n",
        "    return (higher % smaller)\n",
        "\n",
        "\n",
        "\n",
        "a = 24\n",
        "b = 36\n",
        "print(hcf(a,b))"
      ],
      "metadata": {
        "colab": {
          "base_uri": "https://localhost:8080/"
        },
        "id": "Tgx43K6Edu05",
        "outputId": "c5626632-d617-4d25-8729-7bb4c36c6a9c"
      },
      "execution_count": 24,
      "outputs": [
        {
          "output_type": "stream",
          "name": "stdout",
          "text": [
            "12\n"
          ]
        }
      ]
    },
    {
      "cell_type": "markdown",
      "source": [
        "## 3. Write a Python Program to Convert Decimal to Binary, Octal and Hexadecimal?\n"
      ],
      "metadata": {
        "id": "WmcWQbWt-oAc"
      }
    },
    {
      "cell_type": "code",
      "source": [
        "# class convert:\n",
        "#   def __init__(self,decimal):\n",
        "#     self.decimal = decimal\n",
        "\n",
        "def decToBinary(decimal):\n",
        "  if decimal <0:\n",
        "    print(\"Negative is not valid\")\n",
        "\n",
        "  binary = \"\"\n",
        "  while decimal>0:\n",
        "    remainder = decimal % 2\n",
        "    decimal//2\n",
        "    binary += str(remainder)\n",
        "  if not binary:\n",
        "    binary = 0\n",
        "  binary = binary[::-1]\n",
        "  return binary\n",
        "\n",
        "\n",
        "def decToOctal(decimal):\n",
        "\n",
        "    octalNum = [0] * 100\n",
        "\n",
        "    i = 0\n",
        "    while (decimal != 0):\n",
        "\n",
        "        octalNum[i] = decimal % 8\n",
        "        decimal = int(decimal / 8)\n",
        "        i += 1\n",
        "\n",
        "    for j in range(i - 1, -1, -1):\n",
        "        print(octalNum[j], end=\"\")\n",
        "\n",
        "\n",
        "\n",
        "\n",
        "\n",
        "# function which converts decimal value\n",
        "# to hexadecimal value\n",
        "def decToHex(decimal):\n",
        "    conversion_table = {0: '0', 1: '1', 2: '2', 3: '3', 4: '4',\n",
        "                    5: '5', 6: '6', 7: '7',\n",
        "                    8: '8', 9: '9', 10: 'A', 11: 'B', 12: 'C',\n",
        "                    13: 'D', 14: 'E', 15: 'F'}\n",
        "    hexadecimal = ''\n",
        "    while(decimal > 0):\n",
        "        remainder = decimal % 16\n",
        "        hexadecimal = conversion_table[remainder] + hexadecimal\n",
        "        decimal = decimal // 16\n",
        "\n",
        "    return hexadecimal\n",
        "\n",
        "\n",
        "decimal_number = 69\n",
        "print(\"The Binary form of\", decimal_number,\n",
        "      \"is\", decToBinary(decimal_number))\n",
        "\n",
        "print(\"The Octal form of\", decimal_number,\n",
        "      \"is\", decToOctal(decimal_number))\n",
        "\n",
        "print(\"The hexadecimal form of\", decimal_number,\n",
        "      \"is\", decToHex(decimal_number))\n",
        "\n"
      ],
      "metadata": {
        "id": "q6xRN1y-GhJ8"
      },
      "execution_count": null,
      "outputs": []
    },
    {
      "cell_type": "markdown",
      "source": [
        "## 4. Write a Python Program To Find ASCII value of a character?\n"
      ],
      "metadata": {
        "id": "aw31dzgU-n3H"
      }
    },
    {
      "cell_type": "code",
      "source": [
        "def find_ascii(char):\n",
        "  return ord(char)\n",
        "\n",
        "character = input(\"ENter a character: \")\n",
        "if len(character) == 1:\n",
        "  value = find_ascii(character)\n",
        "  print(f\"the ASCII value of the {character} is {value} \")"
      ],
      "metadata": {
        "colab": {
          "base_uri": "https://localhost:8080/"
        },
        "id": "fE0nwaWNGhxx",
        "outputId": "f51632ff-1994-402f-b83c-5af53fc6e653"
      },
      "execution_count": 7,
      "outputs": [
        {
          "output_type": "stream",
          "name": "stdout",
          "text": [
            "ENter a character: g\n",
            "the ASCII value of the g is 103 \n"
          ]
        }
      ]
    },
    {
      "cell_type": "markdown",
      "source": [
        "## 5. Write a Python Program to Make a Simple Calculator with 4 basic mathematical operations?"
      ],
      "metadata": {
        "id": "Mpdf3WEl-nsa"
      }
    },
    {
      "cell_type": "code",
      "execution_count": 31,
      "metadata": {
        "colab": {
          "base_uri": "https://localhost:8080/"
        },
        "id": "OTjdsqwn-TqE",
        "outputId": "113e63d9-d1bf-4715-ec09-b0b5757eef22"
      },
      "outputs": [
        {
          "output_type": "stream",
          "name": "stdout",
          "text": [
            "Enter first number : 4\n",
            "Enter second number : 5\n",
            "To Calculate Press\n",
            " 1 - Add\n",
            " 2 - Subs\n",
            " 3 - Multiply\n",
            " 4 - Div\n",
            "\n",
            "Enter Your Option3\n",
            "Multiplication =  20.0\n"
          ]
        }
      ],
      "source": [
        "class Calculator:\n",
        "  def __init__ (self,a,b):\n",
        "    self.a = a\n",
        "    self.b = b\n",
        "\n",
        "  def add(self):\n",
        "    sum = a + b\n",
        "    return sum\n",
        "\n",
        "  def substract(self):\n",
        "    subs = a - b\n",
        "    return subs\n",
        "\n",
        "  def multiply(self):\n",
        "    multi = a*b\n",
        "    return multi\n",
        "\n",
        "  def division(self):\n",
        "    div = a/b\n",
        "    return div\n",
        "\n",
        "\n",
        "a = float(input(\"Enter first number : \"))\n",
        "b = float(input(\"Enter second number : \"))\n",
        "\n",
        "calculate = Calculator(a,b)\n",
        "\n",
        "print(\"To Calculate Press\\n 1 - Add\\n 2 - Subs\\n 3 - Multiply\\n 4 - Div\\n\")\n",
        "\n",
        "math = int(input(\"Enter Your Option\"))\n",
        "\n",
        "if math == 1:\n",
        "  print(\"Addition = \",calculate.add())\n",
        "elif math == 2:\n",
        "  print(\"Substraction = \",calculate.substract())\n",
        "elif math == 3:\n",
        "  print(\"Multiplication = \",calculate.multiply())\n",
        "elif math == 4:\n",
        "  print(\"Division = \",calculate.division())\n",
        "else:\n",
        "  print(\"Invaid Option\")\n",
        "\n",
        "\n",
        "\n",
        "\n"
      ]
    },
    {
      "cell_type": "code",
      "source": [
        "\n",
        "4"
      ],
      "metadata": {
        "id": "p-_qBeVDQpVn"
      },
      "execution_count": null,
      "outputs": []
    }
  ]
}